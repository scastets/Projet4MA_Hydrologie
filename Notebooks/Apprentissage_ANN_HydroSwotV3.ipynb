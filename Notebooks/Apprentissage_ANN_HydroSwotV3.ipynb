{
 "cells": [
  {
   "cell_type": "markdown",
   "metadata": {},
   "source": [
    "## 1 - Imports"
   ]
  },
  {
   "cell_type": "code",
   "execution_count": 3,
   "metadata": {},
   "outputs": [],
   "source": [
    "import tensorflow\n",
    "from tensorflow import keras\n",
    "import numpy as np\n",
    "import matplotlib.pyplot as plt\n",
    "import pandas as pd\n",
    "from plot_keras_history import plot_history\n",
    "import warnings\n",
    "import random\n",
    "from keras import backend as K\n",
    "import tensorflow_probability as tfp\n",
    "warnings.filterwarnings('ignore')\n",
    "from scipy.cluster.hierarchy import dendrogram, linkage, fcluster\n",
    "from sklearn.cluster import KMeans\n",
    "from matplotlib import colors\n"
   ]
  },
  {
   "cell_type": "markdown",
   "metadata": {},
   "source": [
    "## 2 - Récupérer les données"
   ]
  },
  {
   "cell_type": "code",
   "execution_count": 4,
   "metadata": {},
   "outputs": [
    {
     "data": {
      "text/html": [
       "<style  type=\"text/css\" >\n",
       "</style><table id=\"T_6b03b958_8bab_11eb_ab22_1063c865dcde\" ><caption>Few lines of the dataset :</caption><thead>    <tr>        <th class=\"blank level0\" ></th>        <th class=\"col_heading level0 col0\" >site_no</th>        <th class=\"col_heading level0 col1\" >station_name</th>        <th class=\"col_heading level0 col2\" >river</th>        <th class=\"col_heading level0 col3\" >stream_type</th>        <th class=\"col_heading level0 col4\" >lon</th>        <th class=\"col_heading level0 col5\" >lat</th>        <th class=\"col_heading level0 col6\" >flowacc</th>        <th class=\"col_heading level0 col7\" >stage</th>        <th class=\"col_heading level0 col8\" >W</th>        <th class=\"col_heading level0 col9\" >dH</th>        <th class=\"col_heading level0 col10\" >dA</th>        <th class=\"col_heading level0 col11\" >U</th>        <th class=\"col_heading level0 col12\" >A0</th>        <th class=\"col_heading level0 col13\" >Abar</th>        <th class=\"col_heading level0 col14\" >Amed</th>        <th class=\"col_heading level0 col15\" >Sdem</th>        <th class=\"col_heading level0 col16\" >clay</th>        <th class=\"col_heading level0 col17\" >sand</th>        <th class=\"col_heading level0 col18\" >silt</th>        <th class=\"col_heading level0 col19\" >PA</th>        <th class=\"col_heading level0 col20\" >TA</th>        <th class=\"col_heading level0 col21\" >LC1</th>        <th class=\"col_heading level0 col22\" >LC2</th>        <th class=\"col_heading level0 col23\" >LC3</th>        <th class=\"col_heading level0 col24\" >LC4</th>        <th class=\"col_heading level0 col25\" >LC5</th>        <th class=\"col_heading level0 col26\" >LC6</th>        <th class=\"col_heading level0 col27\" >LC7</th>        <th class=\"col_heading level0 col28\" >LC8</th>        <th class=\"col_heading level0 col29\" >LC9</th>        <th class=\"col_heading level0 col30\" >LC10</th>        <th class=\"col_heading level0 col31\" >LC11</th>        <th class=\"col_heading level0 col32\" >LC12</th>        <th class=\"col_heading level0 col33\" >Q5_GSCD</th>        <th class=\"col_heading level0 col34\" >Q10_GSCD</th>        <th class=\"col_heading level0 col35\" >Q20_GSCD</th>        <th class=\"col_heading level0 col36\" >QMEAN_GSCD</th>        <th class=\"col_heading level0 col37\" >Q80_GSCD</th>        <th class=\"col_heading level0 col38\" >Q90_GSCD</th>        <th class=\"col_heading level0 col39\" >Q95_GSCD</th>        <th class=\"col_heading level0 col40\" >Q</th>    </tr></thead><tbody>\n",
       "                <tr>\n",
       "                        <th id=\"T_6b03b958_8bab_11eb_ab22_1063c865dcdelevel0_row0\" class=\"row_heading level0 row0\" >0</th>\n",
       "                        <td id=\"T_6b03b958_8bab_11eb_ab22_1063c865dcderow0_col0\" class=\"data row0 col0\" >2419890</td>\n",
       "                        <td id=\"T_6b03b958_8bab_11eb_ab22_1063c865dcderow0_col1\" class=\"data row0 col1\" >TALLAPOOSA RIVER NEAR MONT.-MONT. WATER WORKS</td>\n",
       "                        <td id=\"T_6b03b958_8bab_11eb_ab22_1063c865dcderow0_col2\" class=\"data row0 col2\" >TALLAPOOSA</td>\n",
       "                        <td id=\"T_6b03b958_8bab_11eb_ab22_1063c865dcderow0_col3\" class=\"data row0 col3\" >river</td>\n",
       "                        <td id=\"T_6b03b958_8bab_11eb_ab22_1063c865dcderow0_col4\" class=\"data row0 col4\" >-86.190000</td>\n",
       "                        <td id=\"T_6b03b958_8bab_11eb_ab22_1063c865dcderow0_col5\" class=\"data row0 col5\" >32.430000</td>\n",
       "                        <td id=\"T_6b03b958_8bab_11eb_ab22_1063c865dcderow0_col6\" class=\"data row0 col6\" >12033.084713</td>\n",
       "                        <td id=\"T_6b03b958_8bab_11eb_ab22_1063c865dcderow0_col7\" class=\"data row0 col7\" >1.527048</td>\n",
       "                        <td id=\"T_6b03b958_8bab_11eb_ab22_1063c865dcderow0_col8\" class=\"data row0 col8\" >125.882400</td>\n",
       "                        <td id=\"T_6b03b958_8bab_11eb_ab22_1063c865dcderow0_col9\" class=\"data row0 col9\" >0.999744</td>\n",
       "                        <td id=\"T_6b03b958_8bab_11eb_ab22_1063c865dcderow0_col10\" class=\"data row0 col10\" >106.723296</td>\n",
       "                        <td id=\"T_6b03b958_8bab_11eb_ab22_1063c865dcderow0_col11\" class=\"data row0 col11\" >0.478536</td>\n",
       "                        <td id=\"T_6b03b958_8bab_11eb_ab22_1063c865dcderow0_col12\" class=\"data row0 col12\" >100.144012</td>\n",
       "                        <td id=\"T_6b03b958_8bab_11eb_ab22_1063c865dcderow0_col13\" class=\"data row0 col13\" >256.363762</td>\n",
       "                        <td id=\"T_6b03b958_8bab_11eb_ab22_1063c865dcderow0_col14\" class=\"data row0 col14\" >190.883041</td>\n",
       "                        <td id=\"T_6b03b958_8bab_11eb_ab22_1063c865dcderow0_col15\" class=\"data row0 col15\" >0.000983</td>\n",
       "                        <td id=\"T_6b03b958_8bab_11eb_ab22_1063c865dcderow0_col16\" class=\"data row0 col16\" >18.801653</td>\n",
       "                        <td id=\"T_6b03b958_8bab_11eb_ab22_1063c865dcderow0_col17\" class=\"data row0 col17\" >47.338843</td>\n",
       "                        <td id=\"T_6b03b958_8bab_11eb_ab22_1063c865dcderow0_col18\" class=\"data row0 col18\" >33.834711</td>\n",
       "                        <td id=\"T_6b03b958_8bab_11eb_ab22_1063c865dcderow0_col19\" class=\"data row0 col19\" >1391.111111</td>\n",
       "                        <td id=\"T_6b03b958_8bab_11eb_ab22_1063c865dcderow0_col20\" class=\"data row0 col20\" >18.077047</td>\n",
       "                        <td id=\"T_6b03b958_8bab_11eb_ab22_1063c865dcderow0_col21\" class=\"data row0 col21\" >8.809917</td>\n",
       "                        <td id=\"T_6b03b958_8bab_11eb_ab22_1063c865dcderow0_col22\" class=\"data row0 col22\" >0.000000</td>\n",
       "                        <td id=\"T_6b03b958_8bab_11eb_ab22_1063c865dcderow0_col23\" class=\"data row0 col23\" >6.289256</td>\n",
       "                        <td id=\"T_6b03b958_8bab_11eb_ab22_1063c865dcderow0_col24\" class=\"data row0 col24\" >28.958678</td>\n",
       "                        <td id=\"T_6b03b958_8bab_11eb_ab22_1063c865dcderow0_col25\" class=\"data row0 col25\" >1.256198</td>\n",
       "                        <td id=\"T_6b03b958_8bab_11eb_ab22_1063c865dcderow0_col26\" class=\"data row0 col26\" >11.685950</td>\n",
       "                        <td id=\"T_6b03b958_8bab_11eb_ab22_1063c865dcderow0_col27\" class=\"data row0 col27\" >36.950413</td>\n",
       "                        <td id=\"T_6b03b958_8bab_11eb_ab22_1063c865dcderow0_col28\" class=\"data row0 col28\" >0.107438</td>\n",
       "                        <td id=\"T_6b03b958_8bab_11eb_ab22_1063c865dcderow0_col29\" class=\"data row0 col29\" >5.958678</td>\n",
       "                        <td id=\"T_6b03b958_8bab_11eb_ab22_1063c865dcderow0_col30\" class=\"data row0 col30\" >0.000000</td>\n",
       "                        <td id=\"T_6b03b958_8bab_11eb_ab22_1063c865dcderow0_col31\" class=\"data row0 col31\" >0.000000</td>\n",
       "                        <td id=\"T_6b03b958_8bab_11eb_ab22_1063c865dcderow0_col32\" class=\"data row0 col32\" >0.000000</td>\n",
       "                        <td id=\"T_6b03b958_8bab_11eb_ab22_1063c865dcderow0_col33\" class=\"data row0 col33\" >46314.126839</td>\n",
       "                        <td id=\"T_6b03b958_8bab_11eb_ab22_1063c865dcderow0_col34\" class=\"data row0 col34\" >27537.165438</td>\n",
       "                        <td id=\"T_6b03b958_8bab_11eb_ab22_1063c865dcderow0_col35\" class=\"data row0 col35\" >16147.596327</td>\n",
       "                        <td id=\"T_6b03b958_8bab_11eb_ab22_1063c865dcderow0_col36\" class=\"data row0 col36\" >5236103.019083</td>\n",
       "                        <td id=\"T_6b03b958_8bab_11eb_ab22_1063c865dcderow0_col37\" class=\"data row0 col37\" >2545.144341</td>\n",
       "                        <td id=\"T_6b03b958_8bab_11eb_ab22_1063c865dcderow0_col38\" class=\"data row0 col38\" >1831.073927</td>\n",
       "                        <td id=\"T_6b03b958_8bab_11eb_ab22_1063c865dcderow0_col39\" class=\"data row0 col39\" >1303.980932</td>\n",
       "                        <td id=\"T_6b03b958_8bab_11eb_ab22_1063c865dcderow0_col40\" class=\"data row0 col40\" >76.172317</td>\n",
       "            </tr>\n",
       "            <tr>\n",
       "                        <th id=\"T_6b03b958_8bab_11eb_ab22_1063c865dcdelevel0_row1\" class=\"row_heading level0 row1\" >1</th>\n",
       "                        <td id=\"T_6b03b958_8bab_11eb_ab22_1063c865dcderow1_col0\" class=\"data row1 col0\" >2419890</td>\n",
       "                        <td id=\"T_6b03b958_8bab_11eb_ab22_1063c865dcderow1_col1\" class=\"data row1 col1\" >TALLAPOOSA RIVER NEAR MONT.-MONT. WATER WORKS</td>\n",
       "                        <td id=\"T_6b03b958_8bab_11eb_ab22_1063c865dcderow1_col2\" class=\"data row1 col2\" >TALLAPOOSA</td>\n",
       "                        <td id=\"T_6b03b958_8bab_11eb_ab22_1063c865dcderow1_col3\" class=\"data row1 col3\" >river</td>\n",
       "                        <td id=\"T_6b03b958_8bab_11eb_ab22_1063c865dcderow1_col4\" class=\"data row1 col4\" >-86.190000</td>\n",
       "                        <td id=\"T_6b03b958_8bab_11eb_ab22_1063c865dcderow1_col5\" class=\"data row1 col5\" >32.430000</td>\n",
       "                        <td id=\"T_6b03b958_8bab_11eb_ab22_1063c865dcderow1_col6\" class=\"data row1 col6\" >12033.084713</td>\n",
       "                        <td id=\"T_6b03b958_8bab_11eb_ab22_1063c865dcderow1_col7\" class=\"data row1 col7\" >8.909304</td>\n",
       "                        <td id=\"T_6b03b958_8bab_11eb_ab22_1063c865dcderow1_col8\" class=\"data row1 col8\" >152.095200</td>\n",
       "                        <td id=\"T_6b03b958_8bab_11eb_ab22_1063c865dcderow1_col9\" class=\"data row1 col9\" >8.382000</td>\n",
       "                        <td id=\"T_6b03b958_8bab_11eb_ab22_1063c865dcderow1_col10\" class=\"data row1 col10\" >1048.567348</td>\n",
       "                        <td id=\"T_6b03b958_8bab_11eb_ab22_1063c865dcderow1_col11\" class=\"data row1 col11\" >1.405128</td>\n",
       "                        <td id=\"T_6b03b958_8bab_11eb_ab22_1063c865dcderow1_col12\" class=\"data row1 col12\" >100.144012</td>\n",
       "                        <td id=\"T_6b03b958_8bab_11eb_ab22_1063c865dcderow1_col13\" class=\"data row1 col13\" >256.363762</td>\n",
       "                        <td id=\"T_6b03b958_8bab_11eb_ab22_1063c865dcderow1_col14\" class=\"data row1 col14\" >190.883041</td>\n",
       "                        <td id=\"T_6b03b958_8bab_11eb_ab22_1063c865dcderow1_col15\" class=\"data row1 col15\" >0.000983</td>\n",
       "                        <td id=\"T_6b03b958_8bab_11eb_ab22_1063c865dcderow1_col16\" class=\"data row1 col16\" >18.801653</td>\n",
       "                        <td id=\"T_6b03b958_8bab_11eb_ab22_1063c865dcderow1_col17\" class=\"data row1 col17\" >47.338843</td>\n",
       "                        <td id=\"T_6b03b958_8bab_11eb_ab22_1063c865dcderow1_col18\" class=\"data row1 col18\" >33.834711</td>\n",
       "                        <td id=\"T_6b03b958_8bab_11eb_ab22_1063c865dcderow1_col19\" class=\"data row1 col19\" >1391.111111</td>\n",
       "                        <td id=\"T_6b03b958_8bab_11eb_ab22_1063c865dcderow1_col20\" class=\"data row1 col20\" >18.077047</td>\n",
       "                        <td id=\"T_6b03b958_8bab_11eb_ab22_1063c865dcderow1_col21\" class=\"data row1 col21\" >8.809917</td>\n",
       "                        <td id=\"T_6b03b958_8bab_11eb_ab22_1063c865dcderow1_col22\" class=\"data row1 col22\" >0.000000</td>\n",
       "                        <td id=\"T_6b03b958_8bab_11eb_ab22_1063c865dcderow1_col23\" class=\"data row1 col23\" >6.289256</td>\n",
       "                        <td id=\"T_6b03b958_8bab_11eb_ab22_1063c865dcderow1_col24\" class=\"data row1 col24\" >28.958678</td>\n",
       "                        <td id=\"T_6b03b958_8bab_11eb_ab22_1063c865dcderow1_col25\" class=\"data row1 col25\" >1.256198</td>\n",
       "                        <td id=\"T_6b03b958_8bab_11eb_ab22_1063c865dcderow1_col26\" class=\"data row1 col26\" >11.685950</td>\n",
       "                        <td id=\"T_6b03b958_8bab_11eb_ab22_1063c865dcderow1_col27\" class=\"data row1 col27\" >36.950413</td>\n",
       "                        <td id=\"T_6b03b958_8bab_11eb_ab22_1063c865dcderow1_col28\" class=\"data row1 col28\" >0.107438</td>\n",
       "                        <td id=\"T_6b03b958_8bab_11eb_ab22_1063c865dcderow1_col29\" class=\"data row1 col29\" >5.958678</td>\n",
       "                        <td id=\"T_6b03b958_8bab_11eb_ab22_1063c865dcderow1_col30\" class=\"data row1 col30\" >0.000000</td>\n",
       "                        <td id=\"T_6b03b958_8bab_11eb_ab22_1063c865dcderow1_col31\" class=\"data row1 col31\" >0.000000</td>\n",
       "                        <td id=\"T_6b03b958_8bab_11eb_ab22_1063c865dcderow1_col32\" class=\"data row1 col32\" >0.000000</td>\n",
       "                        <td id=\"T_6b03b958_8bab_11eb_ab22_1063c865dcderow1_col33\" class=\"data row1 col33\" >46314.126839</td>\n",
       "                        <td id=\"T_6b03b958_8bab_11eb_ab22_1063c865dcderow1_col34\" class=\"data row1 col34\" >27537.165438</td>\n",
       "                        <td id=\"T_6b03b958_8bab_11eb_ab22_1063c865dcderow1_col35\" class=\"data row1 col35\" >16147.596327</td>\n",
       "                        <td id=\"T_6b03b958_8bab_11eb_ab22_1063c865dcderow1_col36\" class=\"data row1 col36\" >5236103.019083</td>\n",
       "                        <td id=\"T_6b03b958_8bab_11eb_ab22_1063c865dcderow1_col37\" class=\"data row1 col37\" >2545.144341</td>\n",
       "                        <td id=\"T_6b03b958_8bab_11eb_ab22_1063c865dcderow1_col38\" class=\"data row1 col38\" >1831.073927</td>\n",
       "                        <td id=\"T_6b03b958_8bab_11eb_ab22_1063c865dcderow1_col39\" class=\"data row1 col39\" >1303.980932</td>\n",
       "                        <td id=\"T_6b03b958_8bab_11eb_ab22_1063c865dcderow1_col40\" class=\"data row1 col40\" >1486.634446</td>\n",
       "            </tr>\n",
       "            <tr>\n",
       "                        <th id=\"T_6b03b958_8bab_11eb_ab22_1063c865dcdelevel0_row2\" class=\"row_heading level0 row2\" >2</th>\n",
       "                        <td id=\"T_6b03b958_8bab_11eb_ab22_1063c865dcderow2_col0\" class=\"data row2 col0\" >2419890</td>\n",
       "                        <td id=\"T_6b03b958_8bab_11eb_ab22_1063c865dcderow2_col1\" class=\"data row2 col1\" >TALLAPOOSA RIVER NEAR MONT.-MONT. WATER WORKS</td>\n",
       "                        <td id=\"T_6b03b958_8bab_11eb_ab22_1063c865dcderow2_col2\" class=\"data row2 col2\" >TALLAPOOSA</td>\n",
       "                        <td id=\"T_6b03b958_8bab_11eb_ab22_1063c865dcderow2_col3\" class=\"data row2 col3\" >river</td>\n",
       "                        <td id=\"T_6b03b958_8bab_11eb_ab22_1063c865dcderow2_col4\" class=\"data row2 col4\" >-86.190000</td>\n",
       "                        <td id=\"T_6b03b958_8bab_11eb_ab22_1063c865dcderow2_col5\" class=\"data row2 col5\" >32.430000</td>\n",
       "                        <td id=\"T_6b03b958_8bab_11eb_ab22_1063c865dcderow2_col6\" class=\"data row2 col6\" >12033.084713</td>\n",
       "                        <td id=\"T_6b03b958_8bab_11eb_ab22_1063c865dcderow2_col7\" class=\"data row2 col7\" >1.271016</td>\n",
       "                        <td id=\"T_6b03b958_8bab_11eb_ab22_1063c865dcderow2_col8\" class=\"data row2 col8\" >116.433600</td>\n",
       "                        <td id=\"T_6b03b958_8bab_11eb_ab22_1063c865dcderow2_col9\" class=\"data row2 col9\" >0.743712</td>\n",
       "                        <td id=\"T_6b03b958_8bab_11eb_ab22_1063c865dcderow2_col10\" class=\"data row2 col10\" >77.334349</td>\n",
       "                        <td id=\"T_6b03b958_8bab_11eb_ab22_1063c865dcderow2_col11\" class=\"data row2 col11\" >0.344424</td>\n",
       "                        <td id=\"T_6b03b958_8bab_11eb_ab22_1063c865dcderow2_col12\" class=\"data row2 col12\" >100.144012</td>\n",
       "                        <td id=\"T_6b03b958_8bab_11eb_ab22_1063c865dcderow2_col13\" class=\"data row2 col13\" >256.363762</td>\n",
       "                        <td id=\"T_6b03b958_8bab_11eb_ab22_1063c865dcderow2_col14\" class=\"data row2 col14\" >190.883041</td>\n",
       "                        <td id=\"T_6b03b958_8bab_11eb_ab22_1063c865dcderow2_col15\" class=\"data row2 col15\" >0.000983</td>\n",
       "                        <td id=\"T_6b03b958_8bab_11eb_ab22_1063c865dcderow2_col16\" class=\"data row2 col16\" >18.801653</td>\n",
       "                        <td id=\"T_6b03b958_8bab_11eb_ab22_1063c865dcderow2_col17\" class=\"data row2 col17\" >47.338843</td>\n",
       "                        <td id=\"T_6b03b958_8bab_11eb_ab22_1063c865dcderow2_col18\" class=\"data row2 col18\" >33.834711</td>\n",
       "                        <td id=\"T_6b03b958_8bab_11eb_ab22_1063c865dcderow2_col19\" class=\"data row2 col19\" >1391.111111</td>\n",
       "                        <td id=\"T_6b03b958_8bab_11eb_ab22_1063c865dcderow2_col20\" class=\"data row2 col20\" >18.077047</td>\n",
       "                        <td id=\"T_6b03b958_8bab_11eb_ab22_1063c865dcderow2_col21\" class=\"data row2 col21\" >8.809917</td>\n",
       "                        <td id=\"T_6b03b958_8bab_11eb_ab22_1063c865dcderow2_col22\" class=\"data row2 col22\" >0.000000</td>\n",
       "                        <td id=\"T_6b03b958_8bab_11eb_ab22_1063c865dcderow2_col23\" class=\"data row2 col23\" >6.289256</td>\n",
       "                        <td id=\"T_6b03b958_8bab_11eb_ab22_1063c865dcderow2_col24\" class=\"data row2 col24\" >28.958678</td>\n",
       "                        <td id=\"T_6b03b958_8bab_11eb_ab22_1063c865dcderow2_col25\" class=\"data row2 col25\" >1.256198</td>\n",
       "                        <td id=\"T_6b03b958_8bab_11eb_ab22_1063c865dcderow2_col26\" class=\"data row2 col26\" >11.685950</td>\n",
       "                        <td id=\"T_6b03b958_8bab_11eb_ab22_1063c865dcderow2_col27\" class=\"data row2 col27\" >36.950413</td>\n",
       "                        <td id=\"T_6b03b958_8bab_11eb_ab22_1063c865dcderow2_col28\" class=\"data row2 col28\" >0.107438</td>\n",
       "                        <td id=\"T_6b03b958_8bab_11eb_ab22_1063c865dcderow2_col29\" class=\"data row2 col29\" >5.958678</td>\n",
       "                        <td id=\"T_6b03b958_8bab_11eb_ab22_1063c865dcderow2_col30\" class=\"data row2 col30\" >0.000000</td>\n",
       "                        <td id=\"T_6b03b958_8bab_11eb_ab22_1063c865dcderow2_col31\" class=\"data row2 col31\" >0.000000</td>\n",
       "                        <td id=\"T_6b03b958_8bab_11eb_ab22_1063c865dcderow2_col32\" class=\"data row2 col32\" >0.000000</td>\n",
       "                        <td id=\"T_6b03b958_8bab_11eb_ab22_1063c865dcderow2_col33\" class=\"data row2 col33\" >46314.126839</td>\n",
       "                        <td id=\"T_6b03b958_8bab_11eb_ab22_1063c865dcderow2_col34\" class=\"data row2 col34\" >27537.165438</td>\n",
       "                        <td id=\"T_6b03b958_8bab_11eb_ab22_1063c865dcderow2_col35\" class=\"data row2 col35\" >16147.596327</td>\n",
       "                        <td id=\"T_6b03b958_8bab_11eb_ab22_1063c865dcderow2_col36\" class=\"data row2 col36\" >5236103.019083</td>\n",
       "                        <td id=\"T_6b03b958_8bab_11eb_ab22_1063c865dcderow2_col37\" class=\"data row2 col37\" >2545.144341</td>\n",
       "                        <td id=\"T_6b03b958_8bab_11eb_ab22_1063c865dcderow2_col38\" class=\"data row2 col38\" >1831.073927</td>\n",
       "                        <td id=\"T_6b03b958_8bab_11eb_ab22_1063c865dcderow2_col39\" class=\"data row2 col39\" >1303.980932</td>\n",
       "                        <td id=\"T_6b03b958_8bab_11eb_ab22_1063c865dcderow2_col40\" class=\"data row2 col40\" >46.156460</td>\n",
       "            </tr>\n",
       "            <tr>\n",
       "                        <th id=\"T_6b03b958_8bab_11eb_ab22_1063c865dcdelevel0_row3\" class=\"row_heading level0 row3\" >3</th>\n",
       "                        <td id=\"T_6b03b958_8bab_11eb_ab22_1063c865dcderow3_col0\" class=\"data row3 col0\" >2419890</td>\n",
       "                        <td id=\"T_6b03b958_8bab_11eb_ab22_1063c865dcderow3_col1\" class=\"data row3 col1\" >TALLAPOOSA RIVER NEAR MONT.-MONT. WATER WORKS</td>\n",
       "                        <td id=\"T_6b03b958_8bab_11eb_ab22_1063c865dcderow3_col2\" class=\"data row3 col2\" >TALLAPOOSA</td>\n",
       "                        <td id=\"T_6b03b958_8bab_11eb_ab22_1063c865dcderow3_col3\" class=\"data row3 col3\" >river</td>\n",
       "                        <td id=\"T_6b03b958_8bab_11eb_ab22_1063c865dcderow3_col4\" class=\"data row3 col4\" >-86.190000</td>\n",
       "                        <td id=\"T_6b03b958_8bab_11eb_ab22_1063c865dcderow3_col5\" class=\"data row3 col5\" >32.430000</td>\n",
       "                        <td id=\"T_6b03b958_8bab_11eb_ab22_1063c865dcderow3_col6\" class=\"data row3 col6\" >12033.084713</td>\n",
       "                        <td id=\"T_6b03b958_8bab_11eb_ab22_1063c865dcderow3_col7\" class=\"data row3 col7\" >2.752344</td>\n",
       "                        <td id=\"T_6b03b958_8bab_11eb_ab22_1063c865dcderow3_col8\" class=\"data row3 col8\" >112.166400</td>\n",
       "                        <td id=\"T_6b03b958_8bab_11eb_ab22_1063c865dcderow3_col9\" class=\"data row3 col9\" >2.225040</td>\n",
       "                        <td id=\"T_6b03b958_8bab_11eb_ab22_1063c865dcderow3_col10\" class=\"data row3 col10\" >248.776690</td>\n",
       "                        <td id=\"T_6b03b958_8bab_11eb_ab22_1063c865dcderow3_col11\" class=\"data row3 col11\" >0.472440</td>\n",
       "                        <td id=\"T_6b03b958_8bab_11eb_ab22_1063c865dcderow3_col12\" class=\"data row3 col12\" >100.144012</td>\n",
       "                        <td id=\"T_6b03b958_8bab_11eb_ab22_1063c865dcderow3_col13\" class=\"data row3 col13\" >256.363762</td>\n",
       "                        <td id=\"T_6b03b958_8bab_11eb_ab22_1063c865dcderow3_col14\" class=\"data row3 col14\" >190.883041</td>\n",
       "                        <td id=\"T_6b03b958_8bab_11eb_ab22_1063c865dcderow3_col15\" class=\"data row3 col15\" >0.000983</td>\n",
       "                        <td id=\"T_6b03b958_8bab_11eb_ab22_1063c865dcderow3_col16\" class=\"data row3 col16\" >18.801653</td>\n",
       "                        <td id=\"T_6b03b958_8bab_11eb_ab22_1063c865dcderow3_col17\" class=\"data row3 col17\" >47.338843</td>\n",
       "                        <td id=\"T_6b03b958_8bab_11eb_ab22_1063c865dcderow3_col18\" class=\"data row3 col18\" >33.834711</td>\n",
       "                        <td id=\"T_6b03b958_8bab_11eb_ab22_1063c865dcderow3_col19\" class=\"data row3 col19\" >1391.111111</td>\n",
       "                        <td id=\"T_6b03b958_8bab_11eb_ab22_1063c865dcderow3_col20\" class=\"data row3 col20\" >18.077047</td>\n",
       "                        <td id=\"T_6b03b958_8bab_11eb_ab22_1063c865dcderow3_col21\" class=\"data row3 col21\" >8.809917</td>\n",
       "                        <td id=\"T_6b03b958_8bab_11eb_ab22_1063c865dcderow3_col22\" class=\"data row3 col22\" >0.000000</td>\n",
       "                        <td id=\"T_6b03b958_8bab_11eb_ab22_1063c865dcderow3_col23\" class=\"data row3 col23\" >6.289256</td>\n",
       "                        <td id=\"T_6b03b958_8bab_11eb_ab22_1063c865dcderow3_col24\" class=\"data row3 col24\" >28.958678</td>\n",
       "                        <td id=\"T_6b03b958_8bab_11eb_ab22_1063c865dcderow3_col25\" class=\"data row3 col25\" >1.256198</td>\n",
       "                        <td id=\"T_6b03b958_8bab_11eb_ab22_1063c865dcderow3_col26\" class=\"data row3 col26\" >11.685950</td>\n",
       "                        <td id=\"T_6b03b958_8bab_11eb_ab22_1063c865dcderow3_col27\" class=\"data row3 col27\" >36.950413</td>\n",
       "                        <td id=\"T_6b03b958_8bab_11eb_ab22_1063c865dcderow3_col28\" class=\"data row3 col28\" >0.107438</td>\n",
       "                        <td id=\"T_6b03b958_8bab_11eb_ab22_1063c865dcderow3_col29\" class=\"data row3 col29\" >5.958678</td>\n",
       "                        <td id=\"T_6b03b958_8bab_11eb_ab22_1063c865dcderow3_col30\" class=\"data row3 col30\" >0.000000</td>\n",
       "                        <td id=\"T_6b03b958_8bab_11eb_ab22_1063c865dcderow3_col31\" class=\"data row3 col31\" >0.000000</td>\n",
       "                        <td id=\"T_6b03b958_8bab_11eb_ab22_1063c865dcderow3_col32\" class=\"data row3 col32\" >0.000000</td>\n",
       "                        <td id=\"T_6b03b958_8bab_11eb_ab22_1063c865dcderow3_col33\" class=\"data row3 col33\" >46314.126839</td>\n",
       "                        <td id=\"T_6b03b958_8bab_11eb_ab22_1063c865dcderow3_col34\" class=\"data row3 col34\" >27537.165438</td>\n",
       "                        <td id=\"T_6b03b958_8bab_11eb_ab22_1063c865dcderow3_col35\" class=\"data row3 col35\" >16147.596327</td>\n",
       "                        <td id=\"T_6b03b958_8bab_11eb_ab22_1063c865dcderow3_col36\" class=\"data row3 col36\" >5236103.019083</td>\n",
       "                        <td id=\"T_6b03b958_8bab_11eb_ab22_1063c865dcderow3_col37\" class=\"data row3 col37\" >2545.144341</td>\n",
       "                        <td id=\"T_6b03b958_8bab_11eb_ab22_1063c865dcderow3_col38\" class=\"data row3 col38\" >1831.073927</td>\n",
       "                        <td id=\"T_6b03b958_8bab_11eb_ab22_1063c865dcderow3_col39\" class=\"data row3 col39\" >1303.980932</td>\n",
       "                        <td id=\"T_6b03b958_8bab_11eb_ab22_1063c865dcderow3_col40\" class=\"data row3 col40\" >150.645624</td>\n",
       "            </tr>\n",
       "            <tr>\n",
       "                        <th id=\"T_6b03b958_8bab_11eb_ab22_1063c865dcdelevel0_row4\" class=\"row_heading level0 row4\" >4</th>\n",
       "                        <td id=\"T_6b03b958_8bab_11eb_ab22_1063c865dcderow4_col0\" class=\"data row4 col0\" >2419890</td>\n",
       "                        <td id=\"T_6b03b958_8bab_11eb_ab22_1063c865dcderow4_col1\" class=\"data row4 col1\" >TALLAPOOSA RIVER NEAR MONT.-MONT. WATER WORKS</td>\n",
       "                        <td id=\"T_6b03b958_8bab_11eb_ab22_1063c865dcderow4_col2\" class=\"data row4 col2\" >TALLAPOOSA</td>\n",
       "                        <td id=\"T_6b03b958_8bab_11eb_ab22_1063c865dcderow4_col3\" class=\"data row4 col3\" >river</td>\n",
       "                        <td id=\"T_6b03b958_8bab_11eb_ab22_1063c865dcderow4_col4\" class=\"data row4 col4\" >-86.190000</td>\n",
       "                        <td id=\"T_6b03b958_8bab_11eb_ab22_1063c865dcderow4_col5\" class=\"data row4 col5\" >32.430000</td>\n",
       "                        <td id=\"T_6b03b958_8bab_11eb_ab22_1063c865dcderow4_col6\" class=\"data row4 col6\" >12033.084713</td>\n",
       "                        <td id=\"T_6b03b958_8bab_11eb_ab22_1063c865dcderow4_col7\" class=\"data row4 col7\" >2.173224</td>\n",
       "                        <td id=\"T_6b03b958_8bab_11eb_ab22_1063c865dcderow4_col8\" class=\"data row4 col8\" >120.396000</td>\n",
       "                        <td id=\"T_6b03b958_8bab_11eb_ab22_1063c865dcderow4_col9\" class=\"data row4 col9\" >1.645920</td>\n",
       "                        <td id=\"T_6b03b958_8bab_11eb_ab22_1063c865dcderow4_col10\" class=\"data row4 col10\" >180.287175</td>\n",
       "                        <td id=\"T_6b03b958_8bab_11eb_ab22_1063c865dcderow4_col11\" class=\"data row4 col11\" >0.582168</td>\n",
       "                        <td id=\"T_6b03b958_8bab_11eb_ab22_1063c865dcderow4_col12\" class=\"data row4 col12\" >100.144012</td>\n",
       "                        <td id=\"T_6b03b958_8bab_11eb_ab22_1063c865dcderow4_col13\" class=\"data row4 col13\" >256.363762</td>\n",
       "                        <td id=\"T_6b03b958_8bab_11eb_ab22_1063c865dcderow4_col14\" class=\"data row4 col14\" >190.883041</td>\n",
       "                        <td id=\"T_6b03b958_8bab_11eb_ab22_1063c865dcderow4_col15\" class=\"data row4 col15\" >0.000983</td>\n",
       "                        <td id=\"T_6b03b958_8bab_11eb_ab22_1063c865dcderow4_col16\" class=\"data row4 col16\" >18.801653</td>\n",
       "                        <td id=\"T_6b03b958_8bab_11eb_ab22_1063c865dcderow4_col17\" class=\"data row4 col17\" >47.338843</td>\n",
       "                        <td id=\"T_6b03b958_8bab_11eb_ab22_1063c865dcderow4_col18\" class=\"data row4 col18\" >33.834711</td>\n",
       "                        <td id=\"T_6b03b958_8bab_11eb_ab22_1063c865dcderow4_col19\" class=\"data row4 col19\" >1391.111111</td>\n",
       "                        <td id=\"T_6b03b958_8bab_11eb_ab22_1063c865dcderow4_col20\" class=\"data row4 col20\" >18.077047</td>\n",
       "                        <td id=\"T_6b03b958_8bab_11eb_ab22_1063c865dcderow4_col21\" class=\"data row4 col21\" >8.809917</td>\n",
       "                        <td id=\"T_6b03b958_8bab_11eb_ab22_1063c865dcderow4_col22\" class=\"data row4 col22\" >0.000000</td>\n",
       "                        <td id=\"T_6b03b958_8bab_11eb_ab22_1063c865dcderow4_col23\" class=\"data row4 col23\" >6.289256</td>\n",
       "                        <td id=\"T_6b03b958_8bab_11eb_ab22_1063c865dcderow4_col24\" class=\"data row4 col24\" >28.958678</td>\n",
       "                        <td id=\"T_6b03b958_8bab_11eb_ab22_1063c865dcderow4_col25\" class=\"data row4 col25\" >1.256198</td>\n",
       "                        <td id=\"T_6b03b958_8bab_11eb_ab22_1063c865dcderow4_col26\" class=\"data row4 col26\" >11.685950</td>\n",
       "                        <td id=\"T_6b03b958_8bab_11eb_ab22_1063c865dcderow4_col27\" class=\"data row4 col27\" >36.950413</td>\n",
       "                        <td id=\"T_6b03b958_8bab_11eb_ab22_1063c865dcderow4_col28\" class=\"data row4 col28\" >0.107438</td>\n",
       "                        <td id=\"T_6b03b958_8bab_11eb_ab22_1063c865dcderow4_col29\" class=\"data row4 col29\" >5.958678</td>\n",
       "                        <td id=\"T_6b03b958_8bab_11eb_ab22_1063c865dcderow4_col30\" class=\"data row4 col30\" >0.000000</td>\n",
       "                        <td id=\"T_6b03b958_8bab_11eb_ab22_1063c865dcderow4_col31\" class=\"data row4 col31\" >0.000000</td>\n",
       "                        <td id=\"T_6b03b958_8bab_11eb_ab22_1063c865dcderow4_col32\" class=\"data row4 col32\" >0.000000</td>\n",
       "                        <td id=\"T_6b03b958_8bab_11eb_ab22_1063c865dcderow4_col33\" class=\"data row4 col33\" >46314.126839</td>\n",
       "                        <td id=\"T_6b03b958_8bab_11eb_ab22_1063c865dcderow4_col34\" class=\"data row4 col34\" >27537.165438</td>\n",
       "                        <td id=\"T_6b03b958_8bab_11eb_ab22_1063c865dcderow4_col35\" class=\"data row4 col35\" >16147.596327</td>\n",
       "                        <td id=\"T_6b03b958_8bab_11eb_ab22_1063c865dcderow4_col36\" class=\"data row4 col36\" >5236103.019083</td>\n",
       "                        <td id=\"T_6b03b958_8bab_11eb_ab22_1063c865dcderow4_col37\" class=\"data row4 col37\" >2545.144341</td>\n",
       "                        <td id=\"T_6b03b958_8bab_11eb_ab22_1063c865dcderow4_col38\" class=\"data row4 col38\" >1831.073927</td>\n",
       "                        <td id=\"T_6b03b958_8bab_11eb_ab22_1063c865dcderow4_col39\" class=\"data row4 col39\" >1303.980932</td>\n",
       "                        <td id=\"T_6b03b958_8bab_11eb_ab22_1063c865dcderow4_col40\" class=\"data row4 col40\" >140.168391</td>\n",
       "            </tr>\n",
       "    </tbody></table>"
      ],
      "text/plain": [
       "<pandas.io.formats.style.Styler at 0x19f18455c88>"
      ]
     },
     "metadata": {},
     "output_type": "display_data"
    },
    {
     "name": "stdout",
     "output_type": "stream",
     "text": [
      "Missing Data :  0   Sµhape is :  (16603, 41)\n"
     ]
    }
   ],
   "source": [
    "data_river = pd.read_csv(\"../databases/HYDROSWOT_100m_V3.csv\", sep=\";\")\n",
    "data_river.dropna(inplace=True)\n",
    "display(data_river.head(5).style.set_caption(\"Few lines of the dataset :\"))\n",
    "print('Missing Data : ',data_river.isna().sum().sum(), '  Sµhape is : ', data_river.shape)"
   ]
  },
  {
   "cell_type": "markdown",
   "metadata": {},
   "source": [
    "## 3 - Préparation des données\n",
    "### 3.1 Suppresion des débits <100"
   ]
  },
  {
   "cell_type": "code",
   "execution_count": 5,
   "metadata": {},
   "outputs": [
    {
     "name": "stdout",
     "output_type": "stream",
     "text": [
      "New data shape :  (12205, 41)\n"
     ]
    }
   ],
   "source": [
    "data_river = data_river.loc[data_river['Q']>100]\n",
    "data_river.reset_index(inplace=True,drop=True) \n",
    "print(\"New data shape : \", data_river.shape)"
   ]
  },
  {
   "cell_type": "markdown",
   "metadata": {},
   "source": [
    "### 3.2 Supression des rivières à 1 observation"
   ]
  },
  {
   "cell_type": "code",
   "execution_count": 6,
   "metadata": {},
   "outputs": [],
   "source": [
    "river_means_hydro=data_river.groupby(\"river\", as_index=False).mean()\n",
    "river_medians_hydro=data_river.groupby(\"river\", as_index=False).median"
   ]
  },
  {
   "cell_type": "code",
   "execution_count": 7,
   "metadata": {},
   "outputs": [
    {
     "name": "stdout",
     "output_type": "stream",
     "text": [
      "Cypress\n",
      "EAST FORK WHITE\n",
      "G Miami\n",
      "Maquoketa\n",
      "Mill\n",
      "NOTTOWAY\n",
      "SOUTH PLATTE\n",
      "New shape sans les rivières à 1 seule observations :  (12198, 41)\n"
     ]
    }
   ],
   "source": [
    "rivers=river_means_hydro['river'].tolist()\n",
    "r = []\n",
    "for i in range(np.shape(rivers)[0]):\n",
    "    if (np.shape(data_river[data_river['river']==rivers[i]])[0] < 2):\n",
    "        r.append(rivers[i])\n",
    "        print(rivers[i])\n",
    "        \n",
    "data_river=data_river[~data_river.river.isin(r)]\n",
    "data_river.reset_index(inplace=True,drop=True)\n",
    "print(\"New shape sans les rivières à 1 seule observations : \", data_river.shape)"
   ]
  },
  {
   "cell_type": "markdown",
   "metadata": {},
   "source": [
    "### 3.3 Séparer en 3 classes de rivières"
   ]
  },
  {
   "cell_type": "code",
   "execution_count": 8,
   "metadata": {},
   "outputs": [
    {
     "data": {
      "text/plain": [
       "count     153.000000\n",
       "mean      651.151533\n",
       "std      1014.365708\n",
       "min       102.554840\n",
       "25%       300.855423\n",
       "50%       414.091156\n",
       "75%       636.758098\n",
       "max      7888.527805\n",
       "Name: Q, dtype: float64"
      ]
     },
     "execution_count": 8,
     "metadata": {},
     "output_type": "execute_result"
    }
   ],
   "source": [
    "river_means_hydro['Q'].describe()"
   ]
  },
  {
   "cell_type": "code",
   "execution_count": 11,
   "metadata": {},
   "outputs": [
    {
     "name": "stdout",
     "output_type": "stream",
     "text": [
      "Shape de Low Q (<1000):  (7152, 41)\n",
      "Shape de High Q (entre 1000 et 5000):  (3749, 41)\n",
      "Shape de Very High Q (>5000):  (1297, 41)\n"
     ]
    }
   ],
   "source": [
    "river_LQ = river_means_hydro[river_means_hydro['Q']<=1000]\n",
    "data_river_LQ= data_river[data_river.river.isin(river_LQ.river.to_list())]\n",
    "\n",
    "river_HQ = river_means_hydro[river_means_hydro['Q']>1000]\n",
    "river_HQ = river_HQ[river_HQ['Q']<=5000]\n",
    "data_river_HQ = data_river[data_river.river.isin(river_HQ.river.to_list())]\n",
    "\n",
    "river_VHQ = river_means_hydro[river_means_hydro['Q']>5000]\n",
    "data_river_VHQ = data_river[data_river.river.isin(river_VHQ.river.to_list())]\n",
    "\n",
    "\n",
    "print(\"Shape de Low Q (<1000): \" ,data_river_LQ.shape)\n",
    "print(\"Shape de High Q (entre 1000 et 5000): \" ,data_river_HQ.shape)\n",
    "print(\"Shape de Very High Q (>5000): \" ,data_river_VHQ.shape)"
   ]
  },
  {
   "cell_type": "markdown",
   "metadata": {},
   "source": [
    "### 3.4 Choisir les données"
   ]
  },
  {
   "cell_type": "code",
   "execution_count": 12,
   "metadata": {},
   "outputs": [
    {
     "name": "stdout",
     "output_type": "stream",
     "text": [
      "Missing Data :  0   Shape is :  (7152, 5)\n",
      "Missing Data :  0   Shape is :  (3749, 5)\n",
      "Missing Data :  0   Shape is :  (1297, 5)\n"
     ]
    }
   ],
   "source": [
    "to_drop = ['stream_type','A0','Abar','Amed','Sdem','stage','dA','site_no','lon','lat','station_name','U', 'Q5_GSCD','Q10_GSCD','Q20_GSCD','QMEAN_GSCD','Q80_GSCD','Q90_GSCD',\n",
    "           'Q95_GSCD','LC1','LC2','LC3','LC4','LC5','LC6','LC7','LC8','LC9','LC10','LC11','LC12','clay','sand','silt','PA','TA']\n",
    "\n",
    "data_LQ = data_river_LQ.drop(to_drop,axis=1)\n",
    "data_HQ = data_river_HQ.drop(to_drop,axis=1)\n",
    "data_VHQ = data_river_VHQ.drop(to_drop,axis=1)\n",
    "\n",
    "print('Missing Data : ',data_LQ.isna().sum().sum(), '  Shape is : ', data_LQ.shape)\n",
    "print('Missing Data : ',data_HQ.isna().sum().sum(), '  Shape is : ', data_HQ.shape)\n",
    "print('Missing Data : ',data_VHQ.isna().sum().sum(), '  Shape is : ', data_VHQ.shape)"
   ]
  },
  {
   "cell_type": "markdown",
   "metadata": {},
   "source": [
    "### 3.2 Échantillons train et test"
   ]
  },
  {
   "cell_type": "code",
   "execution_count": 13,
   "metadata": {},
   "outputs": [],
   "source": [
    "def split_train_test(dataset): \n",
    "    river_means_hydro=dataset.groupby(\"river\", as_index=False).mean()\n",
    "    a = river_means_hydro.river.sample(frac = 0.8)\n",
    "    train = dataset[dataset.river.isin(a)]\n",
    "    test = dataset[~dataset.river.isin(a)]\n",
    "    return train,test"
   ]
  },
  {
   "cell_type": "code",
   "execution_count": 138,
   "metadata": {},
   "outputs": [],
   "source": [
    "#LQ_train , LQ_test = split_train_test(data_river_LQ,river_LQ)\n",
    "#HQ_train , HQ_test = split_train_test(data_river_HQ,river_HQ)\n",
    "#VHQ_train , VHQ_test = split_train_test(data_river_VHQ,river_VHQ)"
   ]
  },
  {
   "cell_type": "code",
   "execution_count": 14,
   "metadata": {},
   "outputs": [],
   "source": [
    "# ---- Suffle and Split => train, test\n",
    "def shuffle_river(data,river):\n",
    "    \n",
    "    #nombre d'individus dans les 20%\n",
    "    n20 = data.shape[0]*0.2\n",
    "\n",
    "    #Sélection rivière par rivière\n",
    "    rivers=river['river'].tolist()\n",
    "    data_test=pd.DataFrame(None)\n",
    "    while(data_test.shape[0]<n20):\n",
    "        randomRiver=random.choice(rivers)\n",
    "        rivers.remove(randomRiver)\n",
    "        data_test=pd.concat([data_test,data[data['river']==randomRiver]])\n",
    "    rivers=river['river'].tolist()\n",
    "    \n",
    "    data_train=pd.concat([data, data_test]).drop_duplicates(keep=False)\n",
    "    \n",
    "    data_test=data_test.drop('river', axis=1)\n",
    "    data_train=data_train.drop('river', axis=1)\n",
    "\n",
    "    # ---- Split => x,y\n",
    "    \n",
    "    x_train = data_train.drop('Q',  axis=1)\n",
    "    y_train = data_train['Q'] \n",
    "    x_test  = data_test.drop('Q',   axis=1)\n",
    "    y_test  = data_test['Q']\n",
    "\n",
    "\n",
    "    print('Original data shape was : ',data.shape)\n",
    "    print('x_train : ',x_train.shape, 'y_train : ',y_train.shape)\n",
    "    print('x_test  : ',x_test.shape,  'y_test  : ',y_test.shape)\n",
    "    \n",
    "    return x_train, y_train , x_test, y_test"
   ]
  },
  {
   "cell_type": "code",
   "execution_count": 15,
   "metadata": {},
   "outputs": [],
   "source": [
    "def shuffle(data): \n",
    "    \n",
    "    data_train = data.sample(frac=0.8, axis=0) # peut être fait avec n = 'nombre de données voulues'\n",
    "    data_test  = data.drop(data_train.index) # retire les données choisies\n",
    "    #display(data_train.head())\n",
    "\n",
    "    # ---- Split => x,y\n",
    "    #\n",
    "    x_train = data_train.drop('Q',  axis=1)\n",
    "    y_train = data_train['Q'] \n",
    "    x_test  = data_test.drop('Q',   axis=1)\n",
    "    y_test  = data_test['Q']\n",
    "\n",
    "\n",
    "    #print('Original data shape was : ',data.shape)\n",
    "    #print('x_train : ',x_train.shape, 'y_train : ',y_train.shape)\n",
    "    #print('x_test  : ',x_test.shape,  'y_test  : ',y_test.shape)\n",
    "    \n",
    "    return x_train, y_train , x_test, y_test"
   ]
  },
  {
   "cell_type": "markdown",
   "metadata": {},
   "source": [
    "### 3.3 - Data normalization\n",
    "**Note :** \n",
    " - All input data must be normalized, train and test.  \n",
    " - To do this we will **subtract the mean** and **divide by the standard deviation**.  \n",
    " - But test data should not be used in any way, even for normalization.  \n",
    " - The mean and the standard deviation will therefore only be calculated with the train data."
   ]
  },
  {
   "cell_type": "code",
   "execution_count": 16,
   "metadata": {},
   "outputs": [],
   "source": [
    "def normalization(x_train,y_train,x_test,y_test):\n",
    "    #display(x_train.describe().style.format(\"{0:.2f}\").set_caption(\"Before normalization :\"))\n",
    "\n",
    "    mean = x_train.mean()\n",
    "    std  = x_train.std()\n",
    "    x_train = (x_train - mean) / std\n",
    "    x_test  = (x_test  - mean) / std\n",
    "\n",
    "    x_train, y_train = np.array(x_train), np.array(y_train)\n",
    "    x_test,  y_test  = np.array(x_test),  np.array(y_test)\n",
    "    return x_train, y_train , x_test, y_test"
   ]
  },
  {
   "cell_type": "markdown",
   "metadata": {},
   "source": [
    "# Step 4 - Build a model\n",
    "About informations about : \n",
    " - [Optimizer](https://www.tensorflow.org/api_docs/python/tf/keras/optimizers)\n",
    " - [Activation](https://www.tensorflow.org/api_docs/python/tf/keras/activations)\n",
    " - [Loss](https://www.tensorflow.org/api_docs/python/tf/keras/losses)\n",
    " - [Metrics](https://www.tensorflow.org/api_docs/python/tf/keras/metrics)"
   ]
  },
  {
   "cell_type": "markdown",
   "metadata": {},
   "source": [
    "### 4.1 Define custom metrics \n",
    "\n",
    "Pour implémenter : Pearson /  Low froude / NMRSE / KGE / NSE\n",
    "\n",
    "- Normalized Root Mean Square Error $nRMSE(y) = \\frac{RMSE(y)} {\\bar y^{obs}}$\n"
   ]
  },
  {
   "cell_type": "code",
   "execution_count": 84,
   "metadata": {},
   "outputs": [],
   "source": [
    "def nRMSE(y_true, y_pred):\n",
    "    return K.sqrt(K.mean(K.square(y_pred - y_true), axis=-1))/K.mean(y_true)"
   ]
  },
  {
   "cell_type": "markdown",
   "metadata": {},
   "source": [
    "- Nash-Sutcliffe model Efficiency $NSE(y) = 1 - \\frac{\\sum^n_{i=1}(y^{est}_i - y^{obs}_i)^2} {\\sum^n_{i=1}(y^{obs}_i - \\bar y^{obs})^2}$"
   ]
  },
  {
   "cell_type": "code",
   "execution_count": 85,
   "metadata": {},
   "outputs": [],
   "source": [
    "def NSE(y_true, y_pred):\n",
    "    return 1- K.mean(K.square(y_pred-y_true))/K.mean(K.square(y_true-K.mean(y_true)))"
   ]
  },
  {
   "cell_type": "markdown",
   "metadata": {},
   "source": [
    "- Pearson correlation coefficient $R2(y) = \\frac{\\sum_{i=1}^{n}(y^{est}_i - \\bar y^{est}) (y^{obs}_i - \\bar y^{obs})} {\\left(\\sum_{i=1}^{n}(y^{est}_i - \\bar y^{est})^2\\right)^{1/2}\\left(\\sum_{i=1}^{n}(y^{obs}_i - \\bar y^{obs})^2\\right)^{1/2}}$"
   ]
  },
  {
   "cell_type": "code",
   "execution_count": 86,
   "metadata": {},
   "outputs": [],
   "source": [
    "def R2(y_true,y_pred): \n",
    "    return tfp.stats.correlation(y_true, y_pred)"
   ]
  },
  {
   "cell_type": "markdown",
   "metadata": {},
   "source": [
    "- Kling-Gupta model Efficiency $KGE(y) = 1 - \\sqrt {(\\beta_{KG}-1)^2+(\\alpha_{KG}-1)^2+(R^2-1)^2}$, with $\\beta_{KG}=\\frac{\\bar y^{est}}{\\bar y^{obs}}$ and $\\alpha_{KG} = \\frac{\\sigma(y^{est})}{\\sigma(y^{obs})}$"
   ]
  },
  {
   "cell_type": "code",
   "execution_count": 87,
   "metadata": {},
   "outputs": [],
   "source": [
    "def KGE(y_true,y_pred): \n",
    "    beta = K.mean(y_pred)/K.mean(y_true)\n",
    "    alpha = K.var(y_pred)/K.var(y_true)\n",
    "    r2 = R2(y_true,y_pred)\n",
    "    kge = 1 - K.sqrt(K.square(beta-1) + K.square(alpha-1)+K.square(r2-1))\n",
    "    return kge"
   ]
  },
  {
   "cell_type": "markdown",
   "metadata": {},
   "source": [
    "### 4.2 Define a model"
   ]
  },
  {
   "cell_type": "code",
   "execution_count": 17,
   "metadata": {},
   "outputs": [],
   "source": [
    "def get_model_v1(shape,n_layers,n_neurons): \n",
    "    \n",
    "    # shape : nb de variables explicatives \n",
    "    # n_layers : nb de couches\n",
    "    # n_neurons : neurons/ couche\n",
    "   \n",
    "    model = keras.models.Sequential()\n",
    "    model.add(keras.layers.Input(shape, name=\"InputLayer\"))\n",
    "    \n",
    "    for i in range(n_layers): \n",
    "            model.add(keras.layers.Dense(n_neurons, activation='relu', name='Dense_n'+str(i)))\n",
    "   \n",
    "    model.add(keras.layers.Dense(1, name='Output'))\n",
    "    model.compile(optimizer = 'adam', \n",
    "                  loss      = 'mae',\n",
    "                  metrics   = ['mae', 'mse'] )\n",
    "    return model"
   ]
  },
  {
   "cell_type": "markdown",
   "metadata": {},
   "source": [
    "## Step 5 - Train the model\n",
    "### 5.1 - Get it"
   ]
  },
  {
   "cell_type": "markdown",
   "metadata": {},
   "source": [
    "### 5.2 Train it"
   ]
  },
  {
   "cell_type": "code",
   "execution_count": 18,
   "metadata": {},
   "outputs": [
    {
     "name": "stdout",
     "output_type": "stream",
     "text": [
      "WARNING:tensorflow:From C:\\Users\\sbcas\\Anaconda3\\lib\\site-packages\\tensorflow\\python\\ops\\init_ops.py:1251: calling VarianceScaling.__init__ (from tensorflow.python.ops.init_ops) with dtype is deprecated and will be removed in a future version.\n",
      "Instructions for updating:\n",
      "Call initializer instance with the dtype argument instead of passing it to the constructor\n"
     ]
    }
   ],
   "source": [
    "shape = 3\n",
    "n_layers = 64\n",
    "n_neurons = 64\n",
    "model=get_model_v1((shape,),n_layers,n_neurons)"
   ]
  },
  {
   "cell_type": "code",
   "execution_count": 19,
   "metadata": {},
   "outputs": [
    {
     "name": "stdout",
     "output_type": "stream",
     "text": [
      "Model: \"sequential\"\n",
      "_________________________________________________________________\n",
      "Layer (type)                 Output Shape              Param #   \n",
      "=================================================================\n",
      "Dense_n0 (Dense)             (None, 64)                256       \n",
      "_________________________________________________________________\n",
      "Dense_n1 (Dense)             (None, 64)                4160      \n",
      "_________________________________________________________________\n",
      "Dense_n2 (Dense)             (None, 64)                4160      \n",
      "_________________________________________________________________\n",
      "Dense_n3 (Dense)             (None, 64)                4160      \n",
      "_________________________________________________________________\n",
      "Dense_n4 (Dense)             (None, 64)                4160      \n",
      "_________________________________________________________________\n",
      "Dense_n5 (Dense)             (None, 64)                4160      \n",
      "_________________________________________________________________\n",
      "Dense_n6 (Dense)             (None, 64)                4160      \n",
      "_________________________________________________________________\n",
      "Dense_n7 (Dense)             (None, 64)                4160      \n",
      "_________________________________________________________________\n",
      "Dense_n8 (Dense)             (None, 64)                4160      \n",
      "_________________________________________________________________\n",
      "Dense_n9 (Dense)             (None, 64)                4160      \n",
      "_________________________________________________________________\n",
      "Dense_n10 (Dense)            (None, 64)                4160      \n",
      "_________________________________________________________________\n",
      "Dense_n11 (Dense)            (None, 64)                4160      \n",
      "_________________________________________________________________\n",
      "Dense_n12 (Dense)            (None, 64)                4160      \n",
      "_________________________________________________________________\n",
      "Dense_n13 (Dense)            (None, 64)                4160      \n",
      "_________________________________________________________________\n",
      "Dense_n14 (Dense)            (None, 64)                4160      \n",
      "_________________________________________________________________\n",
      "Dense_n15 (Dense)            (None, 64)                4160      \n",
      "_________________________________________________________________\n",
      "Dense_n16 (Dense)            (None, 64)                4160      \n",
      "_________________________________________________________________\n",
      "Dense_n17 (Dense)            (None, 64)                4160      \n",
      "_________________________________________________________________\n",
      "Dense_n18 (Dense)            (None, 64)                4160      \n",
      "_________________________________________________________________\n",
      "Dense_n19 (Dense)            (None, 64)                4160      \n",
      "_________________________________________________________________\n",
      "Dense_n20 (Dense)            (None, 64)                4160      \n",
      "_________________________________________________________________\n",
      "Dense_n21 (Dense)            (None, 64)                4160      \n",
      "_________________________________________________________________\n",
      "Dense_n22 (Dense)            (None, 64)                4160      \n",
      "_________________________________________________________________\n",
      "Dense_n23 (Dense)            (None, 64)                4160      \n",
      "_________________________________________________________________\n",
      "Dense_n24 (Dense)            (None, 64)                4160      \n",
      "_________________________________________________________________\n",
      "Dense_n25 (Dense)            (None, 64)                4160      \n",
      "_________________________________________________________________\n",
      "Dense_n26 (Dense)            (None, 64)                4160      \n",
      "_________________________________________________________________\n",
      "Dense_n27 (Dense)            (None, 64)                4160      \n",
      "_________________________________________________________________\n",
      "Dense_n28 (Dense)            (None, 64)                4160      \n",
      "_________________________________________________________________\n",
      "Dense_n29 (Dense)            (None, 64)                4160      \n",
      "_________________________________________________________________\n",
      "Dense_n30 (Dense)            (None, 64)                4160      \n",
      "_________________________________________________________________\n",
      "Dense_n31 (Dense)            (None, 64)                4160      \n",
      "_________________________________________________________________\n",
      "Dense_n32 (Dense)            (None, 64)                4160      \n",
      "_________________________________________________________________\n",
      "Dense_n33 (Dense)            (None, 64)                4160      \n",
      "_________________________________________________________________\n",
      "Dense_n34 (Dense)            (None, 64)                4160      \n",
      "_________________________________________________________________\n",
      "Dense_n35 (Dense)            (None, 64)                4160      \n",
      "_________________________________________________________________\n",
      "Dense_n36 (Dense)            (None, 64)                4160      \n",
      "_________________________________________________________________\n",
      "Dense_n37 (Dense)            (None, 64)                4160      \n",
      "_________________________________________________________________\n",
      "Dense_n38 (Dense)            (None, 64)                4160      \n",
      "_________________________________________________________________\n",
      "Dense_n39 (Dense)            (None, 64)                4160      \n",
      "_________________________________________________________________\n",
      "Dense_n40 (Dense)            (None, 64)                4160      \n",
      "_________________________________________________________________\n",
      "Dense_n41 (Dense)            (None, 64)                4160      \n",
      "_________________________________________________________________\n",
      "Dense_n42 (Dense)            (None, 64)                4160      \n",
      "_________________________________________________________________\n",
      "Dense_n43 (Dense)            (None, 64)                4160      \n",
      "_________________________________________________________________\n",
      "Dense_n44 (Dense)            (None, 64)                4160      \n",
      "_________________________________________________________________\n",
      "Dense_n45 (Dense)            (None, 64)                4160      \n",
      "_________________________________________________________________\n",
      "Dense_n46 (Dense)            (None, 64)                4160      \n",
      "_________________________________________________________________\n",
      "Dense_n47 (Dense)            (None, 64)                4160      \n",
      "_________________________________________________________________\n",
      "Dense_n48 (Dense)            (None, 64)                4160      \n",
      "_________________________________________________________________\n",
      "Dense_n49 (Dense)            (None, 64)                4160      \n",
      "_________________________________________________________________\n",
      "Dense_n50 (Dense)            (None, 64)                4160      \n",
      "_________________________________________________________________\n",
      "Dense_n51 (Dense)            (None, 64)                4160      \n",
      "_________________________________________________________________\n",
      "Dense_n52 (Dense)            (None, 64)                4160      \n",
      "_________________________________________________________________\n",
      "Dense_n53 (Dense)            (None, 64)                4160      \n",
      "_________________________________________________________________\n",
      "Dense_n54 (Dense)            (None, 64)                4160      \n",
      "_________________________________________________________________\n",
      "Dense_n55 (Dense)            (None, 64)                4160      \n",
      "_________________________________________________________________\n",
      "Dense_n56 (Dense)            (None, 64)                4160      \n",
      "_________________________________________________________________\n",
      "Dense_n57 (Dense)            (None, 64)                4160      \n",
      "_________________________________________________________________\n",
      "Dense_n58 (Dense)            (None, 64)                4160      \n",
      "_________________________________________________________________\n",
      "Dense_n59 (Dense)            (None, 64)                4160      \n",
      "_________________________________________________________________\n",
      "Dense_n60 (Dense)            (None, 64)                4160      \n",
      "_________________________________________________________________\n",
      "Dense_n61 (Dense)            (None, 64)                4160      \n",
      "_________________________________________________________________\n",
      "Dense_n62 (Dense)            (None, 64)                4160      \n",
      "_________________________________________________________________\n",
      "Dense_n63 (Dense)            (None, 64)                4160      \n",
      "_________________________________________________________________\n",
      "Output (Dense)               (None, 1)                 65        \n",
      "=================================================================\n",
      "Total params: 262,401\n",
      "Trainable params: 262,401\n",
      "Non-trainable params: 0\n",
      "_________________________________________________________________\n"
     ]
    }
   ],
   "source": [
    "model.summary()"
   ]
  },
  {
   "cell_type": "code",
   "execution_count": 20,
   "metadata": {},
   "outputs": [
    {
     "name": "stdout",
     "output_type": "stream",
     "text": [
      "Original data shape was :  (7152, 5)\n",
      "x_train :  (5387, 3) y_train :  (5387,)\n",
      "x_test  :  (1440, 3) y_test  :  (1440,)\n",
      "Train on 5387 samples, validate on 1440 samples\n",
      "Epoch 1/100\n",
      "5387/5387 [==============================] - 4s 714us/sample - loss: 404.2874 - mean_absolute_error: 404.2873 - mean_squared_error: 450671.5000 - val_loss: 261.6579 - val_mean_absolute_error: 261.6579 - val_mean_squared_error: 238609.9062\n",
      "Epoch 2/100\n",
      "5387/5387 [==============================] - 1s 229us/sample - loss: 290.5592 - mean_absolute_error: 290.5592 - mean_squared_error: 313358.9375 - val_loss: 284.2556 - val_mean_absolute_error: 284.2556 - val_mean_squared_error: 258858.7969\n",
      "Epoch 3/100\n",
      "5387/5387 [==============================] - 2s 306us/sample - loss: 242.9010 - mean_absolute_error: 242.9010 - mean_squared_error: 215614.7969 - val_loss: 169.2268 - val_mean_absolute_error: 169.2267 - val_mean_squared_error: 102519.4688\n",
      "Epoch 4/100\n",
      "5387/5387 [==============================] - 2s 368us/sample - loss: 203.8453 - mean_absolute_error: 203.8454 - mean_squared_error: 150551.5156 - val_loss: 206.5346 - val_mean_absolute_error: 206.5346 - val_mean_squared_error: 116109.4219\n",
      "Epoch 5/100\n",
      "5387/5387 [==============================] - 2s 395us/sample - loss: 201.8673 - mean_absolute_error: 201.8673 - mean_squared_error: 147179.8125 - val_loss: 191.2104 - val_mean_absolute_error: 191.2104 - val_mean_squared_error: 125127.8359\n",
      "Epoch 6/100\n",
      "5387/5387 [==============================] - 2s 351us/sample - loss: 196.6724 - mean_absolute_error: 196.6724 - mean_squared_error: 146978.9688 - val_loss: 169.9625 - val_mean_absolute_error: 169.9625 - val_mean_squared_error: 99515.1797\n",
      "Epoch 7/100\n",
      "5387/5387 [==============================] - 2s 367us/sample - loss: 177.2359 - mean_absolute_error: 177.2359 - mean_squared_error: 120557.0469 - val_loss: 223.8683 - val_mean_absolute_error: 223.8683 - val_mean_squared_error: 120752.0078\n",
      "Epoch 8/100\n",
      "5387/5387 [==============================] - 2s 323us/sample - loss: 180.3687 - mean_absolute_error: 180.3687 - mean_squared_error: 123342.8594 - val_loss: 212.7312 - val_mean_absolute_error: 212.7312 - val_mean_squared_error: 115975.4766\n",
      "Epoch 9/100\n",
      "5387/5387 [==============================] - 2s 387us/sample - loss: 176.9531 - mean_absolute_error: 176.9531 - mean_squared_error: 117581.3047 - val_loss: 179.5155 - val_mean_absolute_error: 179.5155 - val_mean_squared_error: 89059.7031\n",
      "Epoch 10/100\n",
      "5387/5387 [==============================] - 2s 391us/sample - loss: 179.3524 - mean_absolute_error: 179.3524 - mean_squared_error: 118108.1328 - val_loss: 200.3771 - val_mean_absolute_error: 200.3771 - val_mean_squared_error: 101551.1250\n",
      "Epoch 11/100\n",
      "5387/5387 [==============================] - 2s 378us/sample - loss: 179.1727 - mean_absolute_error: 179.1727 - mean_squared_error: 123843.5625 - val_loss: 170.5624 - val_mean_absolute_error: 170.5624 - val_mean_squared_error: 85399.4766\n",
      "Epoch 12/100\n",
      "5387/5387 [==============================] - 2s 282us/sample - loss: 185.0229 - mean_absolute_error: 185.0229 - mean_squared_error: 126858.9062 - val_loss: 182.8007 - val_mean_absolute_error: 182.8007 - val_mean_squared_error: 99502.2656\n",
      "Epoch 13/100\n",
      "5387/5387 [==============================] - 2s 294us/sample - loss: 182.2112 - mean_absolute_error: 182.2112 - mean_squared_error: 122266.3047 - val_loss: 195.8521 - val_mean_absolute_error: 195.8521 - val_mean_squared_error: 104116.2656\n",
      "Epoch 14/100\n",
      "5387/5387 [==============================] - 2s 365us/sample - loss: 175.9525 - mean_absolute_error: 175.9525 - mean_squared_error: 115188.0234 - val_loss: 181.3725 - val_mean_absolute_error: 181.3725 - val_mean_squared_error: 89593.7578\n",
      "Epoch 15/100\n",
      "5387/5387 [==============================] - 1s 231us/sample - loss: 171.9662 - mean_absolute_error: 171.9662 - mean_squared_error: 112896.2578 - val_loss: 180.2773 - val_mean_absolute_error: 180.2774 - val_mean_squared_error: 84831.8594\n",
      "Epoch 16/100\n",
      "5387/5387 [==============================] - 2s 377us/sample - loss: 175.3247 - mean_absolute_error: 175.3247 - mean_squared_error: 111644.2500 - val_loss: 180.2430 - val_mean_absolute_error: 180.2430 - val_mean_squared_error: 92555.3672\n",
      "Epoch 17/100\n",
      "5387/5387 [==============================] - 2s 346us/sample - loss: 170.0733 - mean_absolute_error: 170.0733 - mean_squared_error: 107184.1641 - val_loss: 174.4364 - val_mean_absolute_error: 174.4364 - val_mean_squared_error: 96167.5547\n",
      "Epoch 18/100\n",
      "5387/5387 [==============================] - 2s 378us/sample - loss: 170.1093 - mean_absolute_error: 170.1092 - mean_squared_error: 110837.1406 - val_loss: 189.1094 - val_mean_absolute_error: 189.1094 - val_mean_squared_error: 93451.4141\n",
      "Epoch 19/100\n",
      "5387/5387 [==============================] - 2s 353us/sample - loss: 167.4377 - mean_absolute_error: 167.4377 - mean_squared_error: 101762.8750 - val_loss: 175.0413 - val_mean_absolute_error: 175.0414 - val_mean_squared_error: 99430.1328\n",
      "Epoch 20/100\n",
      "5387/5387 [==============================] - 2s 369us/sample - loss: 170.6795 - mean_absolute_error: 170.6795 - mean_squared_error: 111176.0703 - val_loss: 169.9337 - val_mean_absolute_error: 169.9337 - val_mean_squared_error: 97064.9766- loss: 172.4471 - mean_absolute_error: 172.4471 - mean_squared_error: 1144\n",
      "Epoch 21/100\n",
      "5387/5387 [==============================] - 2s 377us/sample - loss: 168.5246 - mean_absolute_error: 168.5246 - mean_squared_error: 103266.9062 - val_loss: 189.9687 - val_mean_absolute_error: 189.9687 - val_mean_squared_error: 117334.4297\n",
      "Epoch 22/100\n",
      "5387/5387 [==============================] - 2s 377us/sample - loss: 171.5418 - mean_absolute_error: 171.5419 - mean_squared_error: 106701.1406 - val_loss: 179.4667 - val_mean_absolute_error: 179.4667 - val_mean_squared_error: 88313.2812\n",
      "Epoch 23/100\n",
      "5387/5387 [==============================] - 2s 377us/sample - loss: 167.6261 - mean_absolute_error: 167.6261 - mean_squared_error: 105937.9609 - val_loss: 172.8281 - val_mean_absolute_error: 172.8281 - val_mean_squared_error: 106379.0859\n",
      "Epoch 24/100\n",
      "5387/5387 [==============================] - 2s 359us/sample - loss: 182.4947 - mean_absolute_error: 182.4946 - mean_squared_error: 121159.9922 - val_loss: 191.9067 - val_mean_absolute_error: 191.9068 - val_mean_squared_error: 100331.4922\n",
      "Epoch 25/100\n",
      "5387/5387 [==============================] - 2s 350us/sample - loss: 165.8724 - mean_absolute_error: 165.8724 - mean_squared_error: 101589.7266 - val_loss: 176.7517 - val_mean_absolute_error: 176.7517 - val_mean_squared_error: 88658.7031\n",
      "Epoch 26/100\n",
      "5387/5387 [==============================] - 2s 375us/sample - loss: 170.0256 - mean_absolute_error: 170.0256 - mean_squared_error: 105081.0625 - val_loss: 192.7524 - val_mean_absolute_error: 192.7524 - val_mean_squared_error: 115826.0781\n",
      "Epoch 27/100\n",
      "5387/5387 [==============================] - 2s 342us/sample - loss: 174.3750 - mean_absolute_error: 174.3751 - mean_squared_error: 106978.1172 - val_loss: 170.7016 - val_mean_absolute_error: 170.7016 - val_mean_squared_error: 83782.4844\n",
      "Epoch 28/100\n",
      "5387/5387 [==============================] - 2s 338us/sample - loss: 166.4628 - mean_absolute_error: 166.4628 - mean_squared_error: 101656.5547 - val_loss: 177.1807 - val_mean_absolute_error: 177.1807 - val_mean_squared_error: 93664.3125\n",
      "Epoch 29/100\n",
      "5387/5387 [==============================] - 2s 380us/sample - loss: 167.1845 - mean_absolute_error: 167.1845 - mean_squared_error: 100028.4922 - val_loss: 198.9537 - val_mean_absolute_error: 198.9537 - val_mean_squared_error: 99654.7109\n",
      "Epoch 30/100\n",
      "5387/5387 [==============================] - 2s 379us/sample - loss: 166.1371 - mean_absolute_error: 166.1372 - mean_squared_error: 101272.2109 - val_loss: 167.7774 - val_mean_absolute_error: 167.7774 - val_mean_squared_error: 87056.3359\n",
      "Epoch 31/100\n",
      "5387/5387 [==============================] - 2s 379us/sample - loss: 171.6751 - mean_absolute_error: 171.6752 - mean_squared_error: 107028.3125 - val_loss: 173.1241 - val_mean_absolute_error: 173.1241 - val_mean_squared_error: 83164.3750\n",
      "Epoch 32/100\n"
     ]
    },
    {
     "name": "stdout",
     "output_type": "stream",
     "text": [
      "5387/5387 [==============================] - 2s 382us/sample - loss: 165.2853 - mean_absolute_error: 165.2853 - mean_squared_error: 99817.0938 - val_loss: 179.7235 - val_mean_absolute_error: 179.7235 - val_mean_squared_error: 98004.5469\n",
      "Epoch 33/100\n",
      "5387/5387 [==============================] - 2s 318us/sample - loss: 169.3618 - mean_absolute_error: 169.3618 - mean_squared_error: 104901.0000 - val_loss: 180.3126 - val_mean_absolute_error: 180.3126 - val_mean_squared_error: 85891.3828\n",
      "Epoch 34/100\n",
      "5387/5387 [==============================] - 2s 311us/sample - loss: 165.6265 - mean_absolute_error: 165.6265 - mean_squared_error: 100266.8750 - val_loss: 177.7573 - val_mean_absolute_error: 177.7573 - val_mean_squared_error: 86260.1250\n",
      "Epoch 35/100\n",
      "5387/5387 [==============================] - 2s 309us/sample - loss: 158.1195 - mean_absolute_error: 158.1195 - mean_squared_error: 92509.8438 - val_loss: 189.4922 - val_mean_absolute_error: 189.4922 - val_mean_squared_error: 92989.0703\n",
      "Epoch 36/100\n",
      "5387/5387 [==============================] - 2s 304us/sample - loss: 161.0528 - mean_absolute_error: 161.0529 - mean_squared_error: 96597.1562 - val_loss: 184.7384 - val_mean_absolute_error: 184.7383 - val_mean_squared_error: 92573.8984\n",
      "Epoch 37/100\n",
      "5387/5387 [==============================] - 2s 299us/sample - loss: 172.3958 - mean_absolute_error: 172.3958 - mean_squared_error: 107060.2031 - val_loss: 186.0543 - val_mean_absolute_error: 186.0543 - val_mean_squared_error: 90152.8750\n",
      "Epoch 38/100\n",
      "5387/5387 [==============================] - 2s 286us/sample - loss: 162.8146 - mean_absolute_error: 162.8146 - mean_squared_error: 93416.1328 - val_loss: 186.6610 - val_mean_absolute_error: 186.6610 - val_mean_squared_error: 95099.6875\n",
      "Epoch 39/100\n",
      "5387/5387 [==============================] - 1s 259us/sample - loss: 158.5304 - mean_absolute_error: 158.5304 - mean_squared_error: 92160.2578 - val_loss: 167.3645 - val_mean_absolute_error: 167.3645 - val_mean_squared_error: 80739.3906\n",
      "Epoch 40/100\n",
      "5387/5387 [==============================] - 1s 268us/sample - loss: 169.1332 - mean_absolute_error: 169.1332 - mean_squared_error: 102837.2266 - val_loss: 181.4708 - val_mean_absolute_error: 181.4708 - val_mean_squared_error: 94482.5547\n",
      "Epoch 41/100\n",
      "5387/5387 [==============================] - 2s 291us/sample - loss: 175.5160 - mean_absolute_error: 175.5160 - mean_squared_error: 109220.1641 - val_loss: 174.9790 - val_mean_absolute_error: 174.9790 - val_mean_squared_error: 84437.1250\n",
      "Epoch 42/100\n",
      "5387/5387 [==============================] - 2s 283us/sample - loss: 169.5104 - mean_absolute_error: 169.5104 - mean_squared_error: 100698.1406 - val_loss: 179.4257 - val_mean_absolute_error: 179.4257 - val_mean_squared_error: 87018.7188\n",
      "Epoch 43/100\n",
      "5387/5387 [==============================] - 2s 286us/sample - loss: 166.5298 - mean_absolute_error: 166.5298 - mean_squared_error: 96873.5859 - val_loss: 185.3415 - val_mean_absolute_error: 185.3415 - val_mean_squared_error: 110484.1094\n",
      "Epoch 44/100\n",
      "5387/5387 [==============================] - 1s 240us/sample - loss: 162.1774 - mean_absolute_error: 162.1774 - mean_squared_error: 94054.1250 - val_loss: 194.0771 - val_mean_absolute_error: 194.0771 - val_mean_squared_error: 93133.6641\n",
      "Epoch 45/100\n",
      "5387/5387 [==============================] - 2s 292us/sample - loss: 163.5264 - mean_absolute_error: 163.5263 - mean_squared_error: 96544.1328 - val_loss: 171.9581 - val_mean_absolute_error: 171.9581 - val_mean_squared_error: 89827.1797\n",
      "Epoch 46/100\n",
      "5387/5387 [==============================] - 1s 268us/sample - loss: 160.3884 - mean_absolute_error: 160.3884 - mean_squared_error: 94503.5703 - val_loss: 190.0675 - val_mean_absolute_error: 190.0675 - val_mean_squared_error: 99938.3125\n",
      "Epoch 47/100\n",
      "5387/5387 [==============================] - 1s 256us/sample - loss: 163.0666 - mean_absolute_error: 163.0666 - mean_squared_error: 93027.5078 - val_loss: 181.8826 - val_mean_absolute_error: 181.8826 - val_mean_squared_error: 100581.2656\n",
      "Epoch 48/100\n",
      "5387/5387 [==============================] - 1s 265us/sample - loss: 168.1387 - mean_absolute_error: 168.1387 - mean_squared_error: 99039.5156 - val_loss: 174.8928 - val_mean_absolute_error: 174.8928 - val_mean_squared_error: 102102.5469\n",
      "Epoch 49/100\n",
      "5387/5387 [==============================] - 1s 268us/sample - loss: 157.1669 - mean_absolute_error: 157.1669 - mean_squared_error: 89318.0156 - val_loss: 177.2512 - val_mean_absolute_error: 177.2512 - val_mean_squared_error: 86229.7812\n",
      "Epoch 50/100\n",
      "5387/5387 [==============================] - 1s 255us/sample - loss: 156.9886 - mean_absolute_error: 156.9885 - mean_squared_error: 88927.0000 - val_loss: 187.8450 - val_mean_absolute_error: 187.8450 - val_mean_squared_error: 102608.4531\n",
      "Epoch 51/100\n",
      "5387/5387 [==============================] - 2s 286us/sample - loss: 152.9932 - mean_absolute_error: 152.9931 - mean_squared_error: 88571.4453 - val_loss: 170.8577 - val_mean_absolute_error: 170.8577 - val_mean_squared_error: 82394.1719\n",
      "Epoch 52/100\n",
      "5387/5387 [==============================] - 2s 284us/sample - loss: 161.6290 - mean_absolute_error: 161.6290 - mean_squared_error: 94256.0625 - val_loss: 170.9626 - val_mean_absolute_error: 170.9626 - val_mean_squared_error: 84259.5859\n",
      "Epoch 53/100\n",
      "5387/5387 [==============================] - 1s 278us/sample - loss: 155.6852 - mean_absolute_error: 155.6852 - mean_squared_error: 89216.3047 - val_loss: 176.0810 - val_mean_absolute_error: 176.0810 - val_mean_squared_error: 96116.2656\n",
      "Epoch 54/100\n",
      "5387/5387 [==============================] - 1s 258us/sample - loss: 150.3835 - mean_absolute_error: 150.3834 - mean_squared_error: 82847.0703 - val_loss: 176.9343 - val_mean_absolute_error: 176.9344 - val_mean_squared_error: 86795.2969\n",
      "Epoch 55/100\n",
      "5387/5387 [==============================] - 2s 281us/sample - loss: 163.5899 - mean_absolute_error: 163.5899 - mean_squared_error: 98533.9609 - val_loss: 173.4233 - val_mean_absolute_error: 173.4233 - val_mean_squared_error: 105770.0859\n",
      "Epoch 56/100\n",
      "5387/5387 [==============================] - 1s 262us/sample - loss: 157.7129 - mean_absolute_error: 157.7129 - mean_squared_error: 95149.2266 - val_loss: 194.7460 - val_mean_absolute_error: 194.7460 - val_mean_squared_error: 94563.4688\n",
      "Epoch 57/100\n",
      "5387/5387 [==============================] - 2s 283us/sample - loss: 168.1653 - mean_absolute_error: 168.1653 - mean_squared_error: 100828.9375 - val_loss: 205.5380 - val_mean_absolute_error: 205.5380 - val_mean_squared_error: 103325.9141\n",
      "Epoch 58/100\n",
      "5387/5387 [==============================] - 1s 268us/sample - loss: 157.2419 - mean_absolute_error: 157.2419 - mean_squared_error: 85231.1016 - val_loss: 161.5215 - val_mean_absolute_error: 161.5215 - val_mean_squared_error: 79770.5859\n",
      "Epoch 59/100\n",
      "5387/5387 [==============================] - 1s 265us/sample - loss: 155.3475 - mean_absolute_error: 155.3475 - mean_squared_error: 86586.8672 - val_loss: 185.6590 - val_mean_absolute_error: 185.6590 - val_mean_squared_error: 104780.1016\n",
      "Epoch 60/100\n",
      "5387/5387 [==============================] - 2s 283us/sample - loss: 157.0877 - mean_absolute_error: 157.0877 - mean_squared_error: 88439.0234 - val_loss: 168.9077 - val_mean_absolute_error: 168.9077 - val_mean_squared_error: 90126.2344\n",
      "Epoch 61/100\n",
      "5387/5387 [==============================] - 2s 279us/sample - loss: 157.0082 - mean_absolute_error: 157.0082 - mean_squared_error: 88831.2500 - val_loss: 163.0213 - val_mean_absolute_error: 163.0213 - val_mean_squared_error: 77929.2656\n",
      "Epoch 62/100\n",
      "5387/5387 [==============================] - 1s 272us/sample - loss: 154.9454 - mean_absolute_error: 154.9454 - mean_squared_error: 89111.8594 - val_loss: 182.5262 - val_mean_absolute_error: 182.5262 - val_mean_squared_error: 116042.8203\n",
      "Epoch 63/100\n",
      "5387/5387 [==============================] - 1s 262us/sample - loss: 165.5166 - mean_absolute_error: 165.5166 - mean_squared_error: 92917.7734 - val_loss: 193.7299 - val_mean_absolute_error: 193.7300 - val_mean_squared_error: 111474.7031\n",
      "Epoch 64/100\n",
      "5387/5387 [==============================] - 1s 264us/sample - loss: 162.8623 - mean_absolute_error: 162.8623 - mean_squared_error: 93239.5625 - val_loss: 171.9959 - val_mean_absolute_error: 171.9958 - val_mean_squared_error: 86799.2500\n"
     ]
    },
    {
     "name": "stdout",
     "output_type": "stream",
     "text": [
      "Epoch 65/100\n",
      "5387/5387 [==============================] - 1s 273us/sample - loss: 152.1688 - mean_absolute_error: 152.1688 - mean_squared_error: 83797.5000 - val_loss: 168.6701 - val_mean_absolute_error: 168.6701 - val_mean_squared_error: 90348.0000\n",
      "Epoch 66/100\n",
      "5387/5387 [==============================] - 1s 257us/sample - loss: 150.3964 - mean_absolute_error: 150.3964 - mean_squared_error: 82578.2344 - val_loss: 171.2506 - val_mean_absolute_error: 171.2506 - val_mean_squared_error: 97302.0312\n",
      "Epoch 67/100\n",
      "5387/5387 [==============================] - 1s 274us/sample - loss: 150.8219 - mean_absolute_error: 150.8219 - mean_squared_error: 82875.6250 - val_loss: 174.6865 - val_mean_absolute_error: 174.6865 - val_mean_squared_error: 89086.5391\n",
      "Epoch 68/100\n",
      "5387/5387 [==============================] - 2s 298us/sample - loss: 152.9872 - mean_absolute_error: 152.9872 - mean_squared_error: 89682.3047 - val_loss: 174.5601 - val_mean_absolute_error: 174.5601 - val_mean_squared_error: 106459.3203\n",
      "Epoch 69/100\n",
      "5387/5387 [==============================] - 1s 254us/sample - loss: 151.1550 - mean_absolute_error: 151.1550 - mean_squared_error: 88258.6875 - val_loss: 164.7161 - val_mean_absolute_error: 164.7161 - val_mean_squared_error: 79846.6406\n",
      "Epoch 70/100\n",
      "5387/5387 [==============================] - 2s 294us/sample - loss: 159.7986 - mean_absolute_error: 159.7986 - mean_squared_error: 94617.1250 - val_loss: 174.5651 - val_mean_absolute_error: 174.5651 - val_mean_squared_error: 86935.2500\n",
      "Epoch 71/100\n",
      "5387/5387 [==============================] - 2s 296us/sample - loss: 160.1337 - mean_absolute_error: 160.1337 - mean_squared_error: 96987.8750 - val_loss: 192.3909 - val_mean_absolute_error: 192.3909 - val_mean_squared_error: 93869.8359\n",
      "Epoch 72/100\n",
      "5387/5387 [==============================] - 2s 288us/sample - loss: 147.5915 - mean_absolute_error: 147.5915 - mean_squared_error: 81408.0625 - val_loss: 181.3338 - val_mean_absolute_error: 181.3338 - val_mean_squared_error: 88613.9766\n",
      "Epoch 73/100\n",
      "5387/5387 [==============================] - 1s 256us/sample - loss: 146.5238 - mean_absolute_error: 146.5238 - mean_squared_error: 80619.1328 - val_loss: 167.3878 - val_mean_absolute_error: 167.3878 - val_mean_squared_error: 88650.5156\n",
      "Epoch 74/100\n",
      "5387/5387 [==============================] - 1s 278us/sample - loss: 147.7476 - mean_absolute_error: 147.7476 - mean_squared_error: 83571.3203 - val_loss: 186.0572 - val_mean_absolute_error: 186.0572 - val_mean_squared_error: 90531.8750\n",
      "Epoch 75/100\n",
      "5387/5387 [==============================] - 2s 282us/sample - loss: 143.1080 - mean_absolute_error: 143.1080 - mean_squared_error: 76796.7734 - val_loss: 163.7919 - val_mean_absolute_error: 163.7919 - val_mean_squared_error: 85634.0469\n",
      "Epoch 76/100\n",
      "5387/5387 [==============================] - 1s 272us/sample - loss: 146.5696 - mean_absolute_error: 146.5695 - mean_squared_error: 82311.2734 - val_loss: 163.5122 - val_mean_absolute_error: 163.5122 - val_mean_squared_error: 83232.1094\n",
      "Epoch 77/100\n",
      "5387/5387 [==============================] - 1s 271us/sample - loss: 142.5884 - mean_absolute_error: 142.5884 - mean_squared_error: 76669.1016 - val_loss: 164.5735 - val_mean_absolute_error: 164.5735 - val_mean_squared_error: 85212.5078\n",
      "Epoch 78/100\n",
      "5387/5387 [==============================] - 1s 259us/sample - loss: 141.0192 - mean_absolute_error: 141.0192 - mean_squared_error: 77391.9531 - val_loss: 169.8921 - val_mean_absolute_error: 169.8921 - val_mean_squared_error: 90875.3281\n",
      "Epoch 79/100\n",
      "5387/5387 [==============================] - 1s 258us/sample - loss: 154.1836 - mean_absolute_error: 154.1835 - mean_squared_error: 87926.1484 - val_loss: 182.1953 - val_mean_absolute_error: 182.1953 - val_mean_squared_error: 111151.8594\n",
      "Epoch 80/100\n",
      "5387/5387 [==============================] - 2s 297us/sample - loss: 151.3608 - mean_absolute_error: 151.3608 - mean_squared_error: 85136.1250 - val_loss: 166.2057 - val_mean_absolute_error: 166.2057 - val_mean_squared_error: 82076.0469\n",
      "Epoch 81/100\n",
      "5387/5387 [==============================] - 1s 277us/sample - loss: 138.6779 - mean_absolute_error: 138.6779 - mean_squared_error: 74255.1328 - val_loss: 161.6370 - val_mean_absolute_error: 161.6370 - val_mean_squared_error: 78406.5000\n",
      "Epoch 82/100\n",
      "5387/5387 [==============================] - 2s 292us/sample - loss: 146.4001 - mean_absolute_error: 146.4001 - mean_squared_error: 81026.2422 - val_loss: 182.2516 - val_mean_absolute_error: 182.2516 - val_mean_squared_error: 86258.0703\n",
      "Epoch 83/100\n",
      "5387/5387 [==============================] - 2s 295us/sample - loss: 157.4026 - mean_absolute_error: 157.4026 - mean_squared_error: 85920.6172 - val_loss: 192.1603 - val_mean_absolute_error: 192.1603 - val_mean_squared_error: 93325.5703\n",
      "Epoch 84/100\n",
      "5387/5387 [==============================] - 2s 296us/sample - loss: 154.0011 - mean_absolute_error: 154.0011 - mean_squared_error: 81336.7500 - val_loss: 185.4951 - val_mean_absolute_error: 185.4951 - val_mean_squared_error: 91460.5781\n",
      "Epoch 85/100\n",
      "5387/5387 [==============================] - 1s 271us/sample - loss: 162.0658 - mean_absolute_error: 162.0659 - mean_squared_error: 86422.3203 - val_loss: 180.1879 - val_mean_absolute_error: 180.1879 - val_mean_squared_error: 120017.1094\n",
      "Epoch 86/100\n",
      "5387/5387 [==============================] - 1s 214us/sample - loss: 206.2894 - mean_absolute_error: 206.2894 - mean_squared_error: 146919.7188 - val_loss: 186.8188 - val_mean_absolute_error: 186.8188 - val_mean_squared_error: 92426.5000\n",
      "Epoch 87/100\n",
      "5387/5387 [==============================] - 1s 244us/sample - loss: 174.2035 - mean_absolute_error: 174.2035 - mean_squared_error: 96503.1172 - val_loss: 180.7341 - val_mean_absolute_error: 180.7341 - val_mean_squared_error: 98109.2578\n",
      "Epoch 88/100\n",
      "5387/5387 [==============================] - 1s 272us/sample - loss: 190.7232 - mean_absolute_error: 190.7231 - mean_squared_error: 119421.8828 - val_loss: 180.8097 - val_mean_absolute_error: 180.8098 - val_mean_squared_error: 108889.9766\n",
      "Epoch 89/100\n",
      "5387/5387 [==============================] - 1s 275us/sample - loss: 182.7229 - mean_absolute_error: 182.7228 - mean_squared_error: 109362.1562 - val_loss: 192.5260 - val_mean_absolute_error: 192.5260 - val_mean_squared_error: 96045.2812\n",
      "Epoch 90/100\n",
      "5387/5387 [==============================] - 1s 247us/sample - loss: 179.2131 - mean_absolute_error: 179.2132 - mean_squared_error: 103754.2031 - val_loss: 179.4096 - val_mean_absolute_error: 179.4096 - val_mean_squared_error: 84070.3438\n",
      "Epoch 91/100\n",
      "5387/5387 [==============================] - 1s 268us/sample - loss: 173.3469 - mean_absolute_error: 173.3469 - mean_squared_error: 103398.2344 - val_loss: 182.1172 - val_mean_absolute_error: 182.1172 - val_mean_squared_error: 86772.4453\n",
      "Epoch 92/100\n",
      "5387/5387 [==============================] - 2s 294us/sample - loss: 168.8807 - mean_absolute_error: 168.8806 - mean_squared_error: 97575.8125 - val_loss: 166.6955 - val_mean_absolute_error: 166.6954 - val_mean_squared_error: 77546.4531\n",
      "Epoch 93/100\n",
      "5387/5387 [==============================] - 1s 276us/sample - loss: 161.1718 - mean_absolute_error: 161.1718 - mean_squared_error: 89939.4062 - val_loss: 170.9870 - val_mean_absolute_error: 170.9870 - val_mean_squared_error: 84920.9062\n",
      "Epoch 94/100\n",
      "5387/5387 [==============================] - 1s 256us/sample - loss: 153.6494 - mean_absolute_error: 153.6494 - mean_squared_error: 87614.3516 - val_loss: 183.6477 - val_mean_absolute_error: 183.6477 - val_mean_squared_error: 98409.1875\n",
      "Epoch 95/100\n",
      "5387/5387 [==============================] - 2s 282us/sample - loss: 155.7790 - mean_absolute_error: 155.7791 - mean_squared_error: 89193.6797 - val_loss: 199.9292 - val_mean_absolute_error: 199.9292 - val_mean_squared_error: 103593.5469\n",
      "Epoch 96/100\n",
      "5387/5387 [==============================] - 1s 264us/sample - loss: 161.9106 - mean_absolute_error: 161.9106 - mean_squared_error: 93060.1797 - val_loss: 187.2507 - val_mean_absolute_error: 187.2507 - val_mean_squared_error: 95153.2031\n",
      "Epoch 97/100\n",
      "5387/5387 [==============================] - 2s 280us/sample - loss: 150.3366 - mean_absolute_error: 150.3367 - mean_squared_error: 84383.0547 - val_loss: 169.9751 - val_mean_absolute_error: 169.9751 - val_mean_squared_error: 80942.7422\n"
     ]
    },
    {
     "name": "stdout",
     "output_type": "stream",
     "text": [
      "Epoch 98/100\n",
      "5387/5387 [==============================] - 2s 294us/sample - loss: 151.6768 - mean_absolute_error: 151.6768 - mean_squared_error: 83865.6641 - val_loss: 180.6996 - val_mean_absolute_error: 180.6996 - val_mean_squared_error: 110322.3672\n",
      "Epoch 99/100\n",
      "5387/5387 [==============================] - 1s 252us/sample - loss: 150.9711 - mean_absolute_error: 150.9711 - mean_squared_error: 82241.1797 - val_loss: 182.0467 - val_mean_absolute_error: 182.0467 - val_mean_squared_error: 89908.7500\n",
      "Epoch 100/100\n",
      "5387/5387 [==============================] - 1s 253us/sample - loss: 150.1265 - mean_absolute_error: 150.1265 - mean_squared_error: 80988.7266 - val_loss: 164.9297 - val_mean_absolute_error: 164.9297 - val_mean_squared_error: 80946.1250\n"
     ]
    }
   ],
   "source": [
    "#tester sur :\n",
    "# - data_LQ & river_LQ\n",
    "# - data_HQ & river_HQ\n",
    "# - data_VHQ & river_VHQ\n",
    "x_train, y_train , x_test, y_test = shuffle_river(data_LQ,river_LQ)\n",
    "x_train, y_train , x_test, y_test = normalization(x_train,y_train,x_test,y_test)\n",
    "ep = 100\n",
    "history = model.fit(x_train,\n",
    "                    y_train,\n",
    "                    epochs        = ep,\n",
    "                    batch_size = 100, \n",
    "                    verbose         = 1,\n",
    "                    validation_data = (x_test, y_test))"
   ]
  },
  {
   "cell_type": "markdown",
   "metadata": {},
   "source": [
    "## Step 6 - Evaluate\n"
   ]
  },
  {
   "cell_type": "code",
   "execution_count": 21,
   "metadata": {},
   "outputs": [
    {
     "data": {
      "text/html": [
       "<style  type=\"text/css\" >\n",
       "</style><table id=\"T_51497128_8bad_11eb_b57b_1063c865dcde\" ><caption>Début du training:</caption><thead>    <tr>        <th class=\"blank level0\" ></th>        <th class=\"col_heading level0 col0\" >loss</th>        <th class=\"col_heading level0 col1\" >mean_absolute_error</th>        <th class=\"col_heading level0 col2\" >mean_squared_error</th>        <th class=\"col_heading level0 col3\" >val_loss</th>        <th class=\"col_heading level0 col4\" >val_mean_absolute_error</th>        <th class=\"col_heading level0 col5\" >val_mean_squared_error</th>    </tr></thead><tbody>\n",
       "                <tr>\n",
       "                        <th id=\"T_51497128_8bad_11eb_b57b_1063c865dcdelevel0_row0\" class=\"row_heading level0 row0\" >0</th>\n",
       "                        <td id=\"T_51497128_8bad_11eb_b57b_1063c865dcderow0_col0\" class=\"data row0 col0\" >404.29</td>\n",
       "                        <td id=\"T_51497128_8bad_11eb_b57b_1063c865dcderow0_col1\" class=\"data row0 col1\" >404.29</td>\n",
       "                        <td id=\"T_51497128_8bad_11eb_b57b_1063c865dcderow0_col2\" class=\"data row0 col2\" >450671.50</td>\n",
       "                        <td id=\"T_51497128_8bad_11eb_b57b_1063c865dcderow0_col3\" class=\"data row0 col3\" >261.66</td>\n",
       "                        <td id=\"T_51497128_8bad_11eb_b57b_1063c865dcderow0_col4\" class=\"data row0 col4\" >261.66</td>\n",
       "                        <td id=\"T_51497128_8bad_11eb_b57b_1063c865dcderow0_col5\" class=\"data row0 col5\" >238609.91</td>\n",
       "            </tr>\n",
       "            <tr>\n",
       "                        <th id=\"T_51497128_8bad_11eb_b57b_1063c865dcdelevel0_row1\" class=\"row_heading level0 row1\" >1</th>\n",
       "                        <td id=\"T_51497128_8bad_11eb_b57b_1063c865dcderow1_col0\" class=\"data row1 col0\" >290.56</td>\n",
       "                        <td id=\"T_51497128_8bad_11eb_b57b_1063c865dcderow1_col1\" class=\"data row1 col1\" >290.56</td>\n",
       "                        <td id=\"T_51497128_8bad_11eb_b57b_1063c865dcderow1_col2\" class=\"data row1 col2\" >313358.94</td>\n",
       "                        <td id=\"T_51497128_8bad_11eb_b57b_1063c865dcderow1_col3\" class=\"data row1 col3\" >284.26</td>\n",
       "                        <td id=\"T_51497128_8bad_11eb_b57b_1063c865dcderow1_col4\" class=\"data row1 col4\" >284.26</td>\n",
       "                        <td id=\"T_51497128_8bad_11eb_b57b_1063c865dcderow1_col5\" class=\"data row1 col5\" >258858.80</td>\n",
       "            </tr>\n",
       "            <tr>\n",
       "                        <th id=\"T_51497128_8bad_11eb_b57b_1063c865dcdelevel0_row2\" class=\"row_heading level0 row2\" >2</th>\n",
       "                        <td id=\"T_51497128_8bad_11eb_b57b_1063c865dcderow2_col0\" class=\"data row2 col0\" >242.90</td>\n",
       "                        <td id=\"T_51497128_8bad_11eb_b57b_1063c865dcderow2_col1\" class=\"data row2 col1\" >242.90</td>\n",
       "                        <td id=\"T_51497128_8bad_11eb_b57b_1063c865dcderow2_col2\" class=\"data row2 col2\" >215614.80</td>\n",
       "                        <td id=\"T_51497128_8bad_11eb_b57b_1063c865dcderow2_col3\" class=\"data row2 col3\" >169.23</td>\n",
       "                        <td id=\"T_51497128_8bad_11eb_b57b_1063c865dcderow2_col4\" class=\"data row2 col4\" >169.23</td>\n",
       "                        <td id=\"T_51497128_8bad_11eb_b57b_1063c865dcderow2_col5\" class=\"data row2 col5\" >102519.47</td>\n",
       "            </tr>\n",
       "            <tr>\n",
       "                        <th id=\"T_51497128_8bad_11eb_b57b_1063c865dcdelevel0_row3\" class=\"row_heading level0 row3\" >3</th>\n",
       "                        <td id=\"T_51497128_8bad_11eb_b57b_1063c865dcderow3_col0\" class=\"data row3 col0\" >203.85</td>\n",
       "                        <td id=\"T_51497128_8bad_11eb_b57b_1063c865dcderow3_col1\" class=\"data row3 col1\" >203.85</td>\n",
       "                        <td id=\"T_51497128_8bad_11eb_b57b_1063c865dcderow3_col2\" class=\"data row3 col2\" >150551.52</td>\n",
       "                        <td id=\"T_51497128_8bad_11eb_b57b_1063c865dcderow3_col3\" class=\"data row3 col3\" >206.53</td>\n",
       "                        <td id=\"T_51497128_8bad_11eb_b57b_1063c865dcderow3_col4\" class=\"data row3 col4\" >206.53</td>\n",
       "                        <td id=\"T_51497128_8bad_11eb_b57b_1063c865dcderow3_col5\" class=\"data row3 col5\" >116109.42</td>\n",
       "            </tr>\n",
       "            <tr>\n",
       "                        <th id=\"T_51497128_8bad_11eb_b57b_1063c865dcdelevel0_row4\" class=\"row_heading level0 row4\" >4</th>\n",
       "                        <td id=\"T_51497128_8bad_11eb_b57b_1063c865dcderow4_col0\" class=\"data row4 col0\" >201.87</td>\n",
       "                        <td id=\"T_51497128_8bad_11eb_b57b_1063c865dcderow4_col1\" class=\"data row4 col1\" >201.87</td>\n",
       "                        <td id=\"T_51497128_8bad_11eb_b57b_1063c865dcderow4_col2\" class=\"data row4 col2\" >147179.81</td>\n",
       "                        <td id=\"T_51497128_8bad_11eb_b57b_1063c865dcderow4_col3\" class=\"data row4 col3\" >191.21</td>\n",
       "                        <td id=\"T_51497128_8bad_11eb_b57b_1063c865dcderow4_col4\" class=\"data row4 col4\" >191.21</td>\n",
       "                        <td id=\"T_51497128_8bad_11eb_b57b_1063c865dcderow4_col5\" class=\"data row4 col5\" >125127.84</td>\n",
       "            </tr>\n",
       "    </tbody></table>"
      ],
      "text/plain": [
       "<pandas.io.formats.style.Styler at 0x19f1d82ca88>"
      ]
     },
     "metadata": {},
     "output_type": "display_data"
    },
    {
     "data": {
      "text/html": [
       "<style  type=\"text/css\" >\n",
       "</style><table id=\"T_514b82b6_8bad_11eb_8114_1063c865dcde\" ><caption>Fin du training :</caption><thead>    <tr>        <th class=\"blank level0\" ></th>        <th class=\"col_heading level0 col0\" >loss</th>        <th class=\"col_heading level0 col1\" >mean_absolute_error</th>        <th class=\"col_heading level0 col2\" >mean_squared_error</th>        <th class=\"col_heading level0 col3\" >val_loss</th>        <th class=\"col_heading level0 col4\" >val_mean_absolute_error</th>        <th class=\"col_heading level0 col5\" >val_mean_squared_error</th>    </tr></thead><tbody>\n",
       "                <tr>\n",
       "                        <th id=\"T_514b82b6_8bad_11eb_8114_1063c865dcdelevel0_row0\" class=\"row_heading level0 row0\" >95</th>\n",
       "                        <td id=\"T_514b82b6_8bad_11eb_8114_1063c865dcderow0_col0\" class=\"data row0 col0\" >161.91</td>\n",
       "                        <td id=\"T_514b82b6_8bad_11eb_8114_1063c865dcderow0_col1\" class=\"data row0 col1\" >161.91</td>\n",
       "                        <td id=\"T_514b82b6_8bad_11eb_8114_1063c865dcderow0_col2\" class=\"data row0 col2\" >93060.18</td>\n",
       "                        <td id=\"T_514b82b6_8bad_11eb_8114_1063c865dcderow0_col3\" class=\"data row0 col3\" >187.25</td>\n",
       "                        <td id=\"T_514b82b6_8bad_11eb_8114_1063c865dcderow0_col4\" class=\"data row0 col4\" >187.25</td>\n",
       "                        <td id=\"T_514b82b6_8bad_11eb_8114_1063c865dcderow0_col5\" class=\"data row0 col5\" >95153.20</td>\n",
       "            </tr>\n",
       "            <tr>\n",
       "                        <th id=\"T_514b82b6_8bad_11eb_8114_1063c865dcdelevel0_row1\" class=\"row_heading level0 row1\" >96</th>\n",
       "                        <td id=\"T_514b82b6_8bad_11eb_8114_1063c865dcderow1_col0\" class=\"data row1 col0\" >150.34</td>\n",
       "                        <td id=\"T_514b82b6_8bad_11eb_8114_1063c865dcderow1_col1\" class=\"data row1 col1\" >150.34</td>\n",
       "                        <td id=\"T_514b82b6_8bad_11eb_8114_1063c865dcderow1_col2\" class=\"data row1 col2\" >84383.05</td>\n",
       "                        <td id=\"T_514b82b6_8bad_11eb_8114_1063c865dcderow1_col3\" class=\"data row1 col3\" >169.98</td>\n",
       "                        <td id=\"T_514b82b6_8bad_11eb_8114_1063c865dcderow1_col4\" class=\"data row1 col4\" >169.98</td>\n",
       "                        <td id=\"T_514b82b6_8bad_11eb_8114_1063c865dcderow1_col5\" class=\"data row1 col5\" >80942.74</td>\n",
       "            </tr>\n",
       "            <tr>\n",
       "                        <th id=\"T_514b82b6_8bad_11eb_8114_1063c865dcdelevel0_row2\" class=\"row_heading level0 row2\" >97</th>\n",
       "                        <td id=\"T_514b82b6_8bad_11eb_8114_1063c865dcderow2_col0\" class=\"data row2 col0\" >151.68</td>\n",
       "                        <td id=\"T_514b82b6_8bad_11eb_8114_1063c865dcderow2_col1\" class=\"data row2 col1\" >151.68</td>\n",
       "                        <td id=\"T_514b82b6_8bad_11eb_8114_1063c865dcderow2_col2\" class=\"data row2 col2\" >83865.66</td>\n",
       "                        <td id=\"T_514b82b6_8bad_11eb_8114_1063c865dcderow2_col3\" class=\"data row2 col3\" >180.70</td>\n",
       "                        <td id=\"T_514b82b6_8bad_11eb_8114_1063c865dcderow2_col4\" class=\"data row2 col4\" >180.70</td>\n",
       "                        <td id=\"T_514b82b6_8bad_11eb_8114_1063c865dcderow2_col5\" class=\"data row2 col5\" >110322.37</td>\n",
       "            </tr>\n",
       "            <tr>\n",
       "                        <th id=\"T_514b82b6_8bad_11eb_8114_1063c865dcdelevel0_row3\" class=\"row_heading level0 row3\" >98</th>\n",
       "                        <td id=\"T_514b82b6_8bad_11eb_8114_1063c865dcderow3_col0\" class=\"data row3 col0\" >150.97</td>\n",
       "                        <td id=\"T_514b82b6_8bad_11eb_8114_1063c865dcderow3_col1\" class=\"data row3 col1\" >150.97</td>\n",
       "                        <td id=\"T_514b82b6_8bad_11eb_8114_1063c865dcderow3_col2\" class=\"data row3 col2\" >82241.18</td>\n",
       "                        <td id=\"T_514b82b6_8bad_11eb_8114_1063c865dcderow3_col3\" class=\"data row3 col3\" >182.05</td>\n",
       "                        <td id=\"T_514b82b6_8bad_11eb_8114_1063c865dcderow3_col4\" class=\"data row3 col4\" >182.05</td>\n",
       "                        <td id=\"T_514b82b6_8bad_11eb_8114_1063c865dcderow3_col5\" class=\"data row3 col5\" >89908.75</td>\n",
       "            </tr>\n",
       "            <tr>\n",
       "                        <th id=\"T_514b82b6_8bad_11eb_8114_1063c865dcdelevel0_row4\" class=\"row_heading level0 row4\" >99</th>\n",
       "                        <td id=\"T_514b82b6_8bad_11eb_8114_1063c865dcderow4_col0\" class=\"data row4 col0\" >150.13</td>\n",
       "                        <td id=\"T_514b82b6_8bad_11eb_8114_1063c865dcderow4_col1\" class=\"data row4 col1\" >150.13</td>\n",
       "                        <td id=\"T_514b82b6_8bad_11eb_8114_1063c865dcderow4_col2\" class=\"data row4 col2\" >80988.73</td>\n",
       "                        <td id=\"T_514b82b6_8bad_11eb_8114_1063c865dcderow4_col3\" class=\"data row4 col3\" >164.93</td>\n",
       "                        <td id=\"T_514b82b6_8bad_11eb_8114_1063c865dcderow4_col4\" class=\"data row4 col4\" >164.93</td>\n",
       "                        <td id=\"T_514b82b6_8bad_11eb_8114_1063c865dcderow4_col5\" class=\"data row4 col5\" >80946.12</td>\n",
       "            </tr>\n",
       "    </tbody></table>"
      ],
      "text/plain": [
       "<pandas.io.formats.style.Styler at 0x19f1a0a7248>"
      ]
     },
     "metadata": {},
     "output_type": "display_data"
    }
   ],
   "source": [
    "df=pd.DataFrame(data=history.history)\n",
    "display(df.head().style.format(\"{0:.2f}\").set_caption(\"Début du training:\"))\n",
    "display(df.tail().style.format(\"{0:.2f}\").set_caption(\"Fin du training :\"))"
   ]
  },
  {
   "cell_type": "code",
   "execution_count": 22,
   "metadata": {},
   "outputs": [
    {
     "data": {
      "image/png": "[encoded data removed]",
      "text/plain": [
       "<Figure size 432x288 with 1 Axes>"
      ]
     },
     "metadata": {
      "needs_background": "light"
     },
     "output_type": "display_data"
    },
    {
     "data": {
      "image/png": "[encoded data removed]",
      "text/plain": [
       "<Figure size 432x288 with 1 Axes>"
      ]
     },
     "metadata": {
      "needs_background": "light"
     },
     "output_type": "display_data"
    },
    {
     "data": {
      "image/png": "[encoded data removed]",
      "text/plain": [
       "<Figure size 432x288 with 1 Axes>"
      ]
     },
     "metadata": {
      "needs_background": "light"
     },
     "output_type": "display_data"
    }
   ],
   "source": [
    "plt.plot(df['mean_squared_error'],'r')\n",
    "plt.title('MSE')\n",
    "plt.xlabel('Epochs')\n",
    "plt.axhline(np.mean(y_train**2)*0.04,ls='--',label='y = ' + str(0.04*np.mean(y_train**2)))\n",
    "plt.axhline(np.mean(y_train**2)*0.15**2,ls='--',label='y = ' + str(0.15**2*np.mean(y_train**2)))\n",
    "plt.legend()\n",
    "plt.grid()\n",
    "plt.show()\n",
    "\n",
    "plt.plot(df['mean_absolute_error'],'r')\n",
    "plt.title('MAE')\n",
    "plt.xlabel('Epochs')\n",
    "plt.axhline(0.2*np.mean(y_train),ls='--',label='y = ' +str(0.2*np.mean(y_train)))\n",
    "plt.axhline(0.15*np.mean(y_train),ls='--',label='y = ' +str(0.15*np.mean(y_train)))\n",
    "plt.legend()\n",
    "plt.grid()\n",
    "plt.show()\n",
    "\n",
    "plt.plot(df['mean_absolute_error']/np.mean(y_train),'r') # MAPE\n",
    "plt.axhline(0.20,ls='--',label='y = 0.2')\n",
    "plt.grid()\n",
    "plt.title('Moyenne des erreurs absolues en % (MAPE)')\n",
    "plt.legend()\n",
    "plt.show()\n"
   ]
  },
  {
   "cell_type": "code",
   "execution_count": 24,
   "metadata": {},
   "outputs": [
    {
     "data": {
      "image/png": "[encoded data removed]",
      "text/plain": [
       "<Figure size 720x720 with 1 Axes>"
      ]
     },
     "metadata": {
      "needs_background": "light"
     },
     "output_type": "display_data"
    }
   ],
   "source": [
    "plt.figure(figsize=(10,10))\n",
    "plt.plot(y_test,model.predict(x_test),'bo',label='Prédictions sur test')\n",
    "u = min(y_test)\n",
    "m = max(y_test)\n",
    "x = np.arange(0,m)\n",
    "plt.plot(x,x,'r')\n",
    "#plt.plot(x,x+0.20*x,'--g')\n",
    "#plt.plot(x,x-0.20*x,'--g')\n",
    "#plt.xlim(0,5000)\n",
    "plt.legend()\n",
    "plt.grid()\n",
    "plt.show()"
   ]
  },
  {
   "cell_type": "code",
   "execution_count": 23,
   "metadata": {},
   "outputs": [
    {
     "data": {
      "image/png": "[encoded data removed]",
      "text/plain": [
       "<Figure size 1080x504 with 1 Axes>"
      ]
     },
     "metadata": {
      "needs_background": "light"
     },
     "output_type": "display_data"
    }
   ],
   "source": [
    "yt = y_test.reshape(y_test.shape[0],1)\n",
    "plt.figure(figsize=(15,7))\n",
    "plt.hist(((model.predict(x_test)-yt)/yt),bins=100)\n",
    "plt.ylim(0,50)\n",
    "plt.show()"
   ]
  },
  {
   "cell_type": "markdown",
   "metadata": {},
   "source": [
    "Remarque : \n",
    "\n",
    "   - Avec toutes les données, on observe des valeurs aberrantes : vers +250 (250 000% d'erreur). Cela peut s'expliquer par la présence d'une rivière avec un très faible débit. \n",
    "\n",
    "   - Lorsqu'on enlève les débits <70, on a perdu environ 19% des données, on observe moins le phénomène des valeurs aberrantes. ( max : 15 ). \n",
    "    \n",
    "   -  Lorsqu'on enlève les débits <100, on a perdu environ 26% des données, le max est maintenant de 6. \n",
    "    \n",
    "Avec des valeurs de débits assez grandes, on arrive à limiter l'erreur relative"
   ]
  },
  {
   "cell_type": "markdown",
   "metadata": {},
   "source": [
    "## Save the model"
   ]
  },
  {
   "cell_type": "code",
   "execution_count": 276,
   "metadata": {},
   "outputs": [],
   "source": [
    "model.save('../Models/test.h5')"
   ]
  }
 ],
 "metadata": {
  "kernelspec": {
   "display_name": "Python 3",
   "language": "python",
   "name": "python3"
  },
  "language_info": {
   "codemirror_mode": {
    "name": "ipython",
    "version": 3
   },
   "file_extension": ".py",
   "mimetype": "text/x-python",
   "name": "python",
   "nbconvert_exporter": "python",
   "pygments_lexer": "ipython3",
   "version": "3.7.6"
  }
 },
 "nbformat": 4,
 "nbformat_minor": 4
}
