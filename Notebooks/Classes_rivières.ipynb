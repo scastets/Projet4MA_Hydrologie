{
 "cells": [
  {
   "cell_type": "code",
   "execution_count": 1,
   "metadata": {},
   "outputs": [],
   "source": [
    "import numpy as np\n",
    "import pandas as pd\n",
    "import matplotlib.pyplot as plt\n"
   ]
  },
  {
   "cell_type": "code",
   "execution_count": 2,
   "metadata": {},
   "outputs": [
    {
     "name": "stdout",
     "output_type": "stream",
     "text": [
      "Hydro -> Missing Data :  17   Shape is :  (12222, 41)\n",
      "Pepsi -> Missing Data :  0   Shape is :  (51338, 21)\n"
     ]
    }
   ],
   "source": [
    "data_pepsi = pd.read_csv(\"../databases/PEPSIR_raw_LF_perfect.csv\", sep=\";\")\n",
    "data_pepsi = data_pepsi.loc[data_pepsi['Q']>100]\n",
    "\n",
    "data_hydro = pd.read_csv(\"../databases/HYDROSWOT_100m_V3.csv\", sep=\";\")\n",
    "data_hydro = data_hydro.loc[data_hydro['Q']>100]\n",
    "\n",
    "print('Hydro -> Missing Data : ',data_hydro.isna().sum().sum(), '  Shape is : ', data_hydro.shape)\n",
    "\n",
    "print('Pepsi -> Missing Data : ',data_pepsi.isna().sum().sum(), '  Shape is : ', data_pepsi.shape)"
   ]
  },
  {
   "cell_type": "code",
   "execution_count": 3,
   "metadata": {
    "scrolled": false
   },
   "outputs": [],
   "source": [
    "river_means_pepsi=data_pepsi.groupby(\"river\", as_index=False).mean()\n",
    "river_medians_pepsi=data_pepsi.groupby(\"river\", as_index=False).median()"
   ]
  },
  {
   "cell_type": "code",
   "execution_count": 4,
   "metadata": {},
   "outputs": [
    {
     "name": "stdout",
     "output_type": "stream",
     "text": [
      "5                    Jamuna\n",
      "8     MississippiDownstream\n",
      "21                    Padma\n",
      "Name: river, dtype: object\n"
     ]
    },
    {
     "data": {
      "text/plain": [
       "count       29.000000\n",
       "mean      3996.163655\n",
       "std       7052.717460\n",
       "min        198.389412\n",
       "25%        503.491760\n",
       "50%       1033.050154\n",
       "75%       3830.904487\n",
       "max      31534.985385\n",
       "Name: Q, dtype: float64"
      ]
     },
     "execution_count": 4,
     "metadata": {},
     "output_type": "execute_result"
    }
   ],
   "source": [
    "print(river_means_pepsi.river[river_means_pepsi['Q']>10000])\n",
    "river_means_pepsi['Q'].describe()"
   ]
  },
  {
   "cell_type": "code",
   "execution_count": 5,
   "metadata": {},
   "outputs": [
    {
     "name": "stdout",
     "output_type": "stream",
     "text": [
      "Hydro : \n",
      " count    12222.000000\n",
      "mean      1523.568067\n",
      "std       3341.338780\n",
      "min        100.241637\n",
      "25%        227.101110\n",
      "50%        524.169324\n",
      "75%       1194.970926\n",
      "max      40661.082301\n",
      "Name: Q, dtype: float64 \n",
      "\n",
      "Pepsi : \n",
      " count     51338.000000\n",
      "mean       3286.339838\n",
      "std        8536.605592\n",
      "min         100.000909\n",
      "25%         312.306849\n",
      "50%         834.827500\n",
      "75%        2340.421800\n",
      "max      112874.671429\n",
      "Name: Q, dtype: float64 \n",
      "\n"
     ]
    }
   ],
   "source": [
    "print(\"Hydro : \\n\" , data_hydro['Q'].describe(),'\\n')\n",
    "print(\"Pepsi : \\n\" , data_pepsi['Q'].describe(),'\\n')"
   ]
  },
  {
   "cell_type": "code",
   "execution_count": 6,
   "metadata": {},
   "outputs": [],
   "source": [
    "river_means_hydro=data_hydro.groupby(\"river\", as_index=False).mean()\n",
    "river_medians_hydro=data_hydro.groupby(\"river\", as_index=False).median\n"
   ]
  },
  {
   "cell_type": "code",
   "execution_count": 7,
   "metadata": {},
   "outputs": [
    {
     "data": {
      "text/html": [
       "<div>\n",
       "<style scoped>\n",
       "    .dataframe tbody tr th:only-of-type {\n",
       "        vertical-align: middle;\n",
       "    }\n",
       "\n",
       "    .dataframe tbody tr th {\n",
       "        vertical-align: top;\n",
       "    }\n",
       "\n",
       "    .dataframe thead th {\n",
       "        text-align: right;\n",
       "    }\n",
       "</style>\n",
       "<table border=\"1\" class=\"dataframe\">\n",
       "  <thead>\n",
       "    <tr style=\"text-align: right;\">\n",
       "      <th></th>\n",
       "      <th>site_no</th>\n",
       "      <th>lon</th>\n",
       "      <th>lat</th>\n",
       "      <th>flowacc</th>\n",
       "      <th>stage</th>\n",
       "      <th>W</th>\n",
       "      <th>dH</th>\n",
       "      <th>dA</th>\n",
       "      <th>U</th>\n",
       "      <th>A0</th>\n",
       "      <th>...</th>\n",
       "      <th>LC11</th>\n",
       "      <th>LC12</th>\n",
       "      <th>Q5_GSCD</th>\n",
       "      <th>Q10_GSCD</th>\n",
       "      <th>Q20_GSCD</th>\n",
       "      <th>QMEAN_GSCD</th>\n",
       "      <th>Q80_GSCD</th>\n",
       "      <th>Q90_GSCD</th>\n",
       "      <th>Q95_GSCD</th>\n",
       "      <th>Q</th>\n",
       "    </tr>\n",
       "  </thead>\n",
       "  <tbody>\n",
       "    <tr>\n",
       "      <th>count</th>\n",
       "      <td>3.590000e+02</td>\n",
       "      <td>359.000000</td>\n",
       "      <td>359.00000</td>\n",
       "      <td>3.590000e+02</td>\n",
       "      <td>359.000000</td>\n",
       "      <td>359.000000</td>\n",
       "      <td>359.000000</td>\n",
       "      <td>359.000000</td>\n",
       "      <td>359.000000</td>\n",
       "      <td>359.000000</td>\n",
       "      <td>...</td>\n",
       "      <td>359.000000</td>\n",
       "      <td>359.000000</td>\n",
       "      <td>3.590000e+02</td>\n",
       "      <td>3.590000e+02</td>\n",
       "      <td>3.590000e+02</td>\n",
       "      <td>3.590000e+02</td>\n",
       "      <td>359.000000</td>\n",
       "      <td>359.000000</td>\n",
       "      <td>359.000000</td>\n",
       "      <td>359.000000</td>\n",
       "    </tr>\n",
       "    <tr>\n",
       "      <th>mean</th>\n",
       "      <td>8.970073e+11</td>\n",
       "      <td>-91.290306</td>\n",
       "      <td>39.75493</td>\n",
       "      <td>1.220920e+05</td>\n",
       "      <td>8.157683</td>\n",
       "      <td>216.370671</td>\n",
       "      <td>2.512906</td>\n",
       "      <td>512.834958</td>\n",
       "      <td>0.809511</td>\n",
       "      <td>457.472453</td>\n",
       "      <td>...</td>\n",
       "      <td>0.550703</td>\n",
       "      <td>2.422869</td>\n",
       "      <td>3.975407e+05</td>\n",
       "      <td>2.025596e+05</td>\n",
       "      <td>9.759543e+04</td>\n",
       "      <td>3.901124e+07</td>\n",
       "      <td>9255.099283</td>\n",
       "      <td>5814.113245</td>\n",
       "      <td>4963.825993</td>\n",
       "      <td>893.557989</td>\n",
       "    </tr>\n",
       "    <tr>\n",
       "      <th>std</th>\n",
       "      <td>1.699573e+13</td>\n",
       "      <td>12.015328</td>\n",
       "      <td>4.72712</td>\n",
       "      <td>3.420185e+05</td>\n",
       "      <td>23.155306</td>\n",
       "      <td>163.861610</td>\n",
       "      <td>5.740414</td>\n",
       "      <td>1204.059933</td>\n",
       "      <td>0.323660</td>\n",
       "      <td>967.701665</td>\n",
       "      <td>...</td>\n",
       "      <td>2.742359</td>\n",
       "      <td>4.350082</td>\n",
       "      <td>1.507093e+06</td>\n",
       "      <td>7.622355e+05</td>\n",
       "      <td>3.601863e+05</td>\n",
       "      <td>1.476726e+08</td>\n",
       "      <td>46683.190766</td>\n",
       "      <td>31705.024856</td>\n",
       "      <td>28247.680144</td>\n",
       "      <td>1908.796742</td>\n",
       "    </tr>\n",
       "    <tr>\n",
       "      <th>min</th>\n",
       "      <td>1.010500e+06</td>\n",
       "      <td>-123.250000</td>\n",
       "      <td>28.30000</td>\n",
       "      <td>3.392884e+02</td>\n",
       "      <td>-1.181100</td>\n",
       "      <td>59.020558</td>\n",
       "      <td>0.078334</td>\n",
       "      <td>8.752912</td>\n",
       "      <td>0.093269</td>\n",
       "      <td>0.143096</td>\n",
       "      <td>...</td>\n",
       "      <td>0.000000</td>\n",
       "      <td>0.000000</td>\n",
       "      <td>9.861740e+02</td>\n",
       "      <td>2.097644e+02</td>\n",
       "      <td>5.000988e+01</td>\n",
       "      <td>1.040462e+05</td>\n",
       "      <td>8.000095</td>\n",
       "      <td>4.949603</td>\n",
       "      <td>2.830617</td>\n",
       "      <td>101.688911</td>\n",
       "    </tr>\n",
       "    <tr>\n",
       "      <th>25%</th>\n",
       "      <td>3.066500e+06</td>\n",
       "      <td>-95.670000</td>\n",
       "      <td>36.60000</td>\n",
       "      <td>1.012815e+04</td>\n",
       "      <td>2.104834</td>\n",
       "      <td>129.210664</td>\n",
       "      <td>0.989650</td>\n",
       "      <td>152.604681</td>\n",
       "      <td>0.573357</td>\n",
       "      <td>78.709497</td>\n",
       "      <td>...</td>\n",
       "      <td>0.000000</td>\n",
       "      <td>0.223140</td>\n",
       "      <td>2.573851e+04</td>\n",
       "      <td>1.566866e+04</td>\n",
       "      <td>8.298075e+03</td>\n",
       "      <td>2.780590e+06</td>\n",
       "      <td>925.815418</td>\n",
       "      <td>508.487464</td>\n",
       "      <td>420.153454</td>\n",
       "      <td>277.599486</td>\n",
       "    </tr>\n",
       "    <tr>\n",
       "      <th>50%</th>\n",
       "      <td>5.442300e+06</td>\n",
       "      <td>-90.910000</td>\n",
       "      <td>40.12000</td>\n",
       "      <td>2.139071e+04</td>\n",
       "      <td>3.435604</td>\n",
       "      <td>163.060075</td>\n",
       "      <td>1.633863</td>\n",
       "      <td>235.822341</td>\n",
       "      <td>0.767524</td>\n",
       "      <td>159.827637</td>\n",
       "      <td>...</td>\n",
       "      <td>0.000000</td>\n",
       "      <td>1.454545</td>\n",
       "      <td>5.224533e+04</td>\n",
       "      <td>2.956175e+04</td>\n",
       "      <td>1.621507e+04</td>\n",
       "      <td>5.273867e+06</td>\n",
       "      <td>1900.239078</td>\n",
       "      <td>1213.896390</td>\n",
       "      <td>1006.740137</td>\n",
       "      <td>416.311609</td>\n",
       "    </tr>\n",
       "    <tr>\n",
       "      <th>75%</th>\n",
       "      <td>7.143838e+06</td>\n",
       "      <td>-82.710000</td>\n",
       "      <td>42.74500</td>\n",
       "      <td>6.204316e+04</td>\n",
       "      <td>5.505562</td>\n",
       "      <td>229.798117</td>\n",
       "      <td>2.709182</td>\n",
       "      <td>417.587184</td>\n",
       "      <td>1.012566</td>\n",
       "      <td>324.982795</td>\n",
       "      <td>...</td>\n",
       "      <td>0.000000</td>\n",
       "      <td>2.677686</td>\n",
       "      <td>1.309546e+05</td>\n",
       "      <td>7.147017e+04</td>\n",
       "      <td>4.075554e+04</td>\n",
       "      <td>1.247220e+07</td>\n",
       "      <td>4663.854267</td>\n",
       "      <td>2774.903025</td>\n",
       "      <td>2136.999209</td>\n",
       "      <td>659.876841</td>\n",
       "    </tr>\n",
       "    <tr>\n",
       "      <th>max</th>\n",
       "      <td>3.220231e+14</td>\n",
       "      <td>-68.150000</td>\n",
       "      <td>48.99000</td>\n",
       "      <td>2.929652e+06</td>\n",
       "      <td>228.620726</td>\n",
       "      <td>1166.417058</td>\n",
       "      <td>91.670124</td>\n",
       "      <td>13637.773873</td>\n",
       "      <td>2.110740</td>\n",
       "      <td>7997.323546</td>\n",
       "      <td>...</td>\n",
       "      <td>31.958678</td>\n",
       "      <td>44.165289</td>\n",
       "      <td>1.646012e+07</td>\n",
       "      <td>8.927901e+06</td>\n",
       "      <td>4.408456e+06</td>\n",
       "      <td>1.706087e+09</td>\n",
       "      <td>755677.906564</td>\n",
       "      <td>533601.821402</td>\n",
       "      <td>468129.398524</td>\n",
       "      <td>20366.127626</td>\n",
       "    </tr>\n",
       "  </tbody>\n",
       "</table>\n",
       "<p>8 rows × 38 columns</p>\n",
       "</div>"
      ],
      "text/plain": [
       "            site_no         lon        lat       flowacc       stage  \\\n",
       "count  3.590000e+02  359.000000  359.00000  3.590000e+02  359.000000   \n",
       "mean   8.970073e+11  -91.290306   39.75493  1.220920e+05    8.157683   \n",
       "std    1.699573e+13   12.015328    4.72712  3.420185e+05   23.155306   \n",
       "min    1.010500e+06 -123.250000   28.30000  3.392884e+02   -1.181100   \n",
       "25%    3.066500e+06  -95.670000   36.60000  1.012815e+04    2.104834   \n",
       "50%    5.442300e+06  -90.910000   40.12000  2.139071e+04    3.435604   \n",
       "75%    7.143838e+06  -82.710000   42.74500  6.204316e+04    5.505562   \n",
       "max    3.220231e+14  -68.150000   48.99000  2.929652e+06  228.620726   \n",
       "\n",
       "                 W          dH            dA           U           A0  ...  \\\n",
       "count   359.000000  359.000000    359.000000  359.000000   359.000000  ...   \n",
       "mean    216.370671    2.512906    512.834958    0.809511   457.472453  ...   \n",
       "std     163.861610    5.740414   1204.059933    0.323660   967.701665  ...   \n",
       "min      59.020558    0.078334      8.752912    0.093269     0.143096  ...   \n",
       "25%     129.210664    0.989650    152.604681    0.573357    78.709497  ...   \n",
       "50%     163.060075    1.633863    235.822341    0.767524   159.827637  ...   \n",
       "75%     229.798117    2.709182    417.587184    1.012566   324.982795  ...   \n",
       "max    1166.417058   91.670124  13637.773873    2.110740  7997.323546  ...   \n",
       "\n",
       "             LC11        LC12       Q5_GSCD      Q10_GSCD      Q20_GSCD  \\\n",
       "count  359.000000  359.000000  3.590000e+02  3.590000e+02  3.590000e+02   \n",
       "mean     0.550703    2.422869  3.975407e+05  2.025596e+05  9.759543e+04   \n",
       "std      2.742359    4.350082  1.507093e+06  7.622355e+05  3.601863e+05   \n",
       "min      0.000000    0.000000  9.861740e+02  2.097644e+02  5.000988e+01   \n",
       "25%      0.000000    0.223140  2.573851e+04  1.566866e+04  8.298075e+03   \n",
       "50%      0.000000    1.454545  5.224533e+04  2.956175e+04  1.621507e+04   \n",
       "75%      0.000000    2.677686  1.309546e+05  7.147017e+04  4.075554e+04   \n",
       "max     31.958678   44.165289  1.646012e+07  8.927901e+06  4.408456e+06   \n",
       "\n",
       "         QMEAN_GSCD       Q80_GSCD       Q90_GSCD       Q95_GSCD             Q  \n",
       "count  3.590000e+02     359.000000     359.000000     359.000000    359.000000  \n",
       "mean   3.901124e+07    9255.099283    5814.113245    4963.825993    893.557989  \n",
       "std    1.476726e+08   46683.190766   31705.024856   28247.680144   1908.796742  \n",
       "min    1.040462e+05       8.000095       4.949603       2.830617    101.688911  \n",
       "25%    2.780590e+06     925.815418     508.487464     420.153454    277.599486  \n",
       "50%    5.273867e+06    1900.239078    1213.896390    1006.740137    416.311609  \n",
       "75%    1.247220e+07    4663.854267    2774.903025    2136.999209    659.876841  \n",
       "max    1.706087e+09  755677.906564  533601.821402  468129.398524  20366.127626  \n",
       "\n",
       "[8 rows x 38 columns]"
      ]
     },
     "execution_count": 7,
     "metadata": {},
     "output_type": "execute_result"
    }
   ],
   "source": [
    "site_no_means_hydro=data_hydro.groupby(\"site_no\", as_index=False).mean()\n",
    "site_no_means_hydro.describe()"
   ]
  },
  {
   "cell_type": "code",
   "execution_count": 8,
   "metadata": {},
   "outputs": [
    {
     "name": "stdout",
     "output_type": "stream",
     "text": [
      "count      14.000000\n",
      "mean     2856.353735\n",
      "std      2420.557987\n",
      "min      1130.544901\n",
      "25%      1236.728666\n",
      "50%      1773.947310\n",
      "75%      2716.061461\n",
      "max      7888.527805\n",
      "Name: Q, dtype: float64\n"
     ]
    },
    {
     "data": {
      "text/plain": [
       "count     153.000000\n",
       "mean      650.895959\n",
       "std      1014.226844\n",
       "min       102.554840\n",
       "25%       300.855423\n",
       "50%       415.582285\n",
       "75%       632.816853\n",
       "max      7888.527805\n",
       "Name: Q, dtype: float64"
      ]
     },
     "execution_count": 8,
     "metadata": {},
     "output_type": "execute_result"
    }
   ],
   "source": [
    "print(river_means_hydro.Q[river_means_hydro['Q']>1000].describe())\n",
    "river_means_hydro['Q'].describe()"
   ]
  },
  {
   "cell_type": "code",
   "execution_count": 11,
   "metadata": {},
   "outputs": [
    {
     "data": {
      "image/png": "[encoded data removed]",
      "text/plain": [
       "<Figure size 432x288 with 1 Axes>"
      ]
     },
     "metadata": {
      "needs_background": "light"
     },
     "output_type": "display_data"
    }
   ],
   "source": [
    "plt.hist(river_means_hydro['Q'],bins=100)\n",
    "plt.show()"
   ]
  },
  {
   "cell_type": "code",
   "execution_count": null,
   "metadata": {},
   "outputs": [],
   "source": []
  },
  {
   "cell_type": "code",
   "execution_count": null,
   "metadata": {},
   "outputs": [],
   "source": []
  }
 ],
 "metadata": {
  "kernelspec": {
   "display_name": "Python 3",
   "language": "python",
   "name": "python3"
  },
  "language_info": {
   "codemirror_mode": {
    "name": "ipython",
    "version": 3
   },
   "file_extension": ".py",
   "mimetype": "text/x-python",
   "name": "python",
   "nbconvert_exporter": "python",
   "pygments_lexer": "ipython3",
   "version": "3.7.6"
  }
 },
 "nbformat": 4,
 "nbformat_minor": 2
}
