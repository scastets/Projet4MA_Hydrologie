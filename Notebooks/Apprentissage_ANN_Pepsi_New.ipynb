{
 "cells": [
  {
   "cell_type": "markdown",
   "metadata": {},
   "source": [
    "## 1 - Imports"
   ]
  },
  {
   "cell_type": "code",
   "execution_count": 32,
   "metadata": {},
   "outputs": [],
   "source": [
    "import tensorflow as tf\n",
    "from tensorflow import keras\n",
    "import numpy as np\n",
    "import matplotlib.pyplot as plt\n",
    "import pandas as pd\n",
    "from plot_keras_history import plot_history\n",
    "import warnings\n",
    "from keras import backend as K\n",
    "import tensorflow_probability as tfp\n",
    "warnings.filterwarnings('ignore')"
   ]
  },
  {
   "cell_type": "markdown",
   "metadata": {},
   "source": [
    "## 2 - Récupérer les données\n",
    "\n",
    "On charge les données puis on retire les valeurs NaN si besoin"
   ]
  },
  {
   "cell_type": "code",
   "execution_count": 2,
   "metadata": {},
   "outputs": [
    {
     "data": {
      "text/html": [
       "<div>\n",
       "<style scoped>\n",
       "    .dataframe tbody tr th:only-of-type {\n",
       "        vertical-align: middle;\n",
       "    }\n",
       "\n",
       "    .dataframe tbody tr th {\n",
       "        vertical-align: top;\n",
       "    }\n",
       "\n",
       "    .dataframe thead th {\n",
       "        text-align: right;\n",
       "    }\n",
       "</style>\n",
       "<table border=\"1\" class=\"dataframe\">\n",
       "  <thead>\n",
       "    <tr style=\"text-align: right;\">\n",
       "      <th></th>\n",
       "      <th>river</th>\n",
       "      <th>day</th>\n",
       "      <th>reach</th>\n",
       "      <th>lon</th>\n",
       "      <th>lat</th>\n",
       "      <th>flowacc</th>\n",
       "      <th>sinuosity</th>\n",
       "      <th>meandwave</th>\n",
       "      <th>height</th>\n",
       "      <th>W</th>\n",
       "      <th>...</th>\n",
       "      <th>S</th>\n",
       "      <th>dA</th>\n",
       "      <th>K</th>\n",
       "      <th>A0</th>\n",
       "      <th>Abar</th>\n",
       "      <th>alpha</th>\n",
       "      <th>beta</th>\n",
       "      <th>Fr</th>\n",
       "      <th>U</th>\n",
       "      <th>Q</th>\n",
       "    </tr>\n",
       "  </thead>\n",
       "  <tbody>\n",
       "    <tr>\n",
       "      <th>0</th>\n",
       "      <td>Connecticut</td>\n",
       "      <td>1</td>\n",
       "      <td>1</td>\n",
       "      <td>-72.611298</td>\n",
       "      <td>41.959</td>\n",
       "      <td>25078.300781</td>\n",
       "      <td>1.079975</td>\n",
       "      <td>1260.057129</td>\n",
       "      <td>26.306667</td>\n",
       "      <td>475.403333</td>\n",
       "      <td>...</td>\n",
       "      <td>0.001768</td>\n",
       "      <td>541.200050</td>\n",
       "      <td>12.808404</td>\n",
       "      <td>515.403333</td>\n",
       "      <td>821.447783</td>\n",
       "      <td>10.945707</td>\n",
       "      <td>0.225114</td>\n",
       "      <td>0.217360</td>\n",
       "      <td>0.965178</td>\n",
       "      <td>922.263333</td>\n",
       "    </tr>\n",
       "    <tr>\n",
       "      <th>1</th>\n",
       "      <td>Connecticut</td>\n",
       "      <td>2</td>\n",
       "      <td>1</td>\n",
       "      <td>-72.611298</td>\n",
       "      <td>41.959</td>\n",
       "      <td>25078.300781</td>\n",
       "      <td>1.079975</td>\n",
       "      <td>1260.057129</td>\n",
       "      <td>25.960000</td>\n",
       "      <td>443.906667</td>\n",
       "      <td>...</td>\n",
       "      <td>0.001606</td>\n",
       "      <td>381.870528</td>\n",
       "      <td>12.586607</td>\n",
       "      <td>515.403333</td>\n",
       "      <td>821.447783</td>\n",
       "      <td>10.945707</td>\n",
       "      <td>0.225114</td>\n",
       "      <td>0.165027</td>\n",
       "      <td>0.704906</td>\n",
       "      <td>581.980000</td>\n",
       "    </tr>\n",
       "    <tr>\n",
       "      <th>2</th>\n",
       "      <td>Connecticut</td>\n",
       "      <td>3</td>\n",
       "      <td>1</td>\n",
       "      <td>-72.611298</td>\n",
       "      <td>41.959</td>\n",
       "      <td>25078.300781</td>\n",
       "      <td>1.079975</td>\n",
       "      <td>1260.057129</td>\n",
       "      <td>25.810000</td>\n",
       "      <td>427.006667</td>\n",
       "      <td>...</td>\n",
       "      <td>0.001539</td>\n",
       "      <td>316.600322</td>\n",
       "      <td>12.513133</td>\n",
       "      <td>515.403333</td>\n",
       "      <td>821.447783</td>\n",
       "      <td>10.945707</td>\n",
       "      <td>0.225114</td>\n",
       "      <td>0.141175</td>\n",
       "      <td>0.595232</td>\n",
       "      <td>460.586667</td>\n",
       "    </tr>\n",
       "    <tr>\n",
       "      <th>3</th>\n",
       "      <td>Connecticut</td>\n",
       "      <td>4</td>\n",
       "      <td>1</td>\n",
       "      <td>-72.611298</td>\n",
       "      <td>41.959</td>\n",
       "      <td>25078.300781</td>\n",
       "      <td>1.079975</td>\n",
       "      <td>1260.057129</td>\n",
       "      <td>25.776667</td>\n",
       "      <td>423.786667</td>\n",
       "      <td>...</td>\n",
       "      <td>0.001521</td>\n",
       "      <td>302.424628</td>\n",
       "      <td>12.499948</td>\n",
       "      <td>515.403333</td>\n",
       "      <td>821.447783</td>\n",
       "      <td>10.945707</td>\n",
       "      <td>0.225114</td>\n",
       "      <td>0.135371</td>\n",
       "      <td>0.569428</td>\n",
       "      <td>435.253333</td>\n",
       "    </tr>\n",
       "    <tr>\n",
       "      <th>4</th>\n",
       "      <td>Connecticut</td>\n",
       "      <td>5</td>\n",
       "      <td>1</td>\n",
       "      <td>-72.611298</td>\n",
       "      <td>41.959</td>\n",
       "      <td>25078.300781</td>\n",
       "      <td>1.079975</td>\n",
       "      <td>1260.057129</td>\n",
       "      <td>25.616667</td>\n",
       "      <td>406.016667</td>\n",
       "      <td>...</td>\n",
       "      <td>0.001469</td>\n",
       "      <td>236.099400</td>\n",
       "      <td>12.410309</td>\n",
       "      <td>515.403333</td>\n",
       "      <td>821.447783</td>\n",
       "      <td>10.945707</td>\n",
       "      <td>0.225114</td>\n",
       "      <td>0.113845</td>\n",
       "      <td>0.471288</td>\n",
       "      <td>334.273333</td>\n",
       "    </tr>\n",
       "  </tbody>\n",
       "</table>\n",
       "<p>5 rows × 21 columns</p>\n",
       "</div>"
      ],
      "text/plain": [
       "         river  day  reach        lon     lat       flowacc  sinuosity  \\\n",
       "0  Connecticut    1      1 -72.611298  41.959  25078.300781   1.079975   \n",
       "1  Connecticut    2      1 -72.611298  41.959  25078.300781   1.079975   \n",
       "2  Connecticut    3      1 -72.611298  41.959  25078.300781   1.079975   \n",
       "3  Connecticut    4      1 -72.611298  41.959  25078.300781   1.079975   \n",
       "4  Connecticut    5      1 -72.611298  41.959  25078.300781   1.079975   \n",
       "\n",
       "     meandwave     height           W  ...         S          dA          K  \\\n",
       "0  1260.057129  26.306667  475.403333  ...  0.001768  541.200050  12.808404   \n",
       "1  1260.057129  25.960000  443.906667  ...  0.001606  381.870528  12.586607   \n",
       "2  1260.057129  25.810000  427.006667  ...  0.001539  316.600322  12.513133   \n",
       "3  1260.057129  25.776667  423.786667  ...  0.001521  302.424628  12.499948   \n",
       "4  1260.057129  25.616667  406.016667  ...  0.001469  236.099400  12.410309   \n",
       "\n",
       "           A0        Abar      alpha      beta        Fr         U           Q  \n",
       "0  515.403333  821.447783  10.945707  0.225114  0.217360  0.965178  922.263333  \n",
       "1  515.403333  821.447783  10.945707  0.225114  0.165027  0.704906  581.980000  \n",
       "2  515.403333  821.447783  10.945707  0.225114  0.141175  0.595232  460.586667  \n",
       "3  515.403333  821.447783  10.945707  0.225114  0.135371  0.569428  435.253333  \n",
       "4  515.403333  821.447783  10.945707  0.225114  0.113845  0.471288  334.273333  \n",
       "\n",
       "[5 rows x 21 columns]"
      ]
     },
     "execution_count": 2,
     "metadata": {},
     "output_type": "execute_result"
    }
   ],
   "source": [
    "data = pd.read_csv(\"../databases/PEPSIR_raw_LF_perfect.csv\", sep=\";\")\n",
    "data.dropna(inplace=True)\n",
    "data.head()"
   ]
  },
  {
   "cell_type": "markdown",
   "metadata": {},
   "source": [
    "## 3 - Préparation des données\n",
    "### 3.1 Suppresion des débits <100"
   ]
  },
  {
   "cell_type": "code",
   "execution_count": 3,
   "metadata": {},
   "outputs": [],
   "source": [
    "data_river = data.loc[data['Q']>100]"
   ]
  },
  {
   "cell_type": "markdown",
   "metadata": {},
   "source": [
    "### 3.2 Choisir les données\n",
    "\n",
    "On prend 4 rivières par classe ( aléatoirement ? ) pour tester le réseaux après apprentissage"
   ]
  },
  {
   "cell_type": "code",
   "execution_count": 4,
   "metadata": {},
   "outputs": [],
   "source": [
    "river_validation = ['Connecticut' , 'Po', 'Wabash','OhioSection2'] # changer pour que le tirage soit aléatoire\n",
    "data_validation = data_river[data_river.river.isin(river_validation)]\n",
    "data_river = data_river[~data_river.river.isin(river_validation)]"
   ]
  },
  {
   "cell_type": "code",
   "execution_count": 5,
   "metadata": {},
   "outputs": [
    {
     "data": {
      "text/html": [
       "<style  type=\"text/css\" >\n",
       "</style><table id=\"T_7d29b3e4_8b54_11eb_ac8a_1063c865dcde\" ><caption>Few lines of the dataset :</caption><thead>    <tr>        <th class=\"blank level0\" ></th>        <th class=\"col_heading level0 col0\" >flowacc</th>        <th class=\"col_heading level0 col1\" >W</th>        <th class=\"col_heading level0 col2\" >dA</th>        <th class=\"col_heading level0 col3\" >Q</th>    </tr></thead><tbody>\n",
       "                <tr>\n",
       "                        <th id=\"T_7d29b3e4_8b54_11eb_ac8a_1063c865dcdelevel0_row0\" class=\"row_heading level0 row0\" >627</th>\n",
       "                        <td id=\"T_7d29b3e4_8b54_11eb_ac8a_1063c865dcderow0_col0\" class=\"data row0 col0\" >41151.000000</td>\n",
       "                        <td id=\"T_7d29b3e4_8b54_11eb_ac8a_1063c865dcderow0_col1\" class=\"data row0 col1\" >205.507500</td>\n",
       "                        <td id=\"T_7d29b3e4_8b54_11eb_ac8a_1063c865dcderow0_col2\" class=\"data row0 col2\" >1269.139087</td>\n",
       "                        <td id=\"T_7d29b3e4_8b54_11eb_ac8a_1063c865dcderow0_col3\" class=\"data row0 col3\" >1672.082500</td>\n",
       "            </tr>\n",
       "            <tr>\n",
       "                        <th id=\"T_7d29b3e4_8b54_11eb_ac8a_1063c865dcdelevel0_row1\" class=\"row_heading level0 row1\" >628</th>\n",
       "                        <td id=\"T_7d29b3e4_8b54_11eb_ac8a_1063c865dcderow1_col0\" class=\"data row1 col0\" >41151.000000</td>\n",
       "                        <td id=\"T_7d29b3e4_8b54_11eb_ac8a_1063c865dcderow1_col1\" class=\"data row1 col1\" >205.190000</td>\n",
       "                        <td id=\"T_7d29b3e4_8b54_11eb_ac8a_1063c865dcderow1_col2\" class=\"data row1 col2\" >1261.951881</td>\n",
       "                        <td id=\"T_7d29b3e4_8b54_11eb_ac8a_1063c865dcderow1_col3\" class=\"data row1 col3\" >1650.997500</td>\n",
       "            </tr>\n",
       "            <tr>\n",
       "                        <th id=\"T_7d29b3e4_8b54_11eb_ac8a_1063c865dcdelevel0_row2\" class=\"row_heading level0 row2\" >629</th>\n",
       "                        <td id=\"T_7d29b3e4_8b54_11eb_ac8a_1063c865dcderow2_col0\" class=\"data row2 col0\" >41151.000000</td>\n",
       "                        <td id=\"T_7d29b3e4_8b54_11eb_ac8a_1063c865dcderow2_col1\" class=\"data row2 col1\" >203.932500</td>\n",
       "                        <td id=\"T_7d29b3e4_8b54_11eb_ac8a_1063c865dcderow2_col2\" class=\"data row2 col2\" >1229.216653</td>\n",
       "                        <td id=\"T_7d29b3e4_8b54_11eb_ac8a_1063c865dcderow2_col3\" class=\"data row2 col3\" >1661.297500</td>\n",
       "            </tr>\n",
       "            <tr>\n",
       "                        <th id=\"T_7d29b3e4_8b54_11eb_ac8a_1063c865dcdelevel0_row3\" class=\"row_heading level0 row3\" >630</th>\n",
       "                        <td id=\"T_7d29b3e4_8b54_11eb_ac8a_1063c865dcderow3_col0\" class=\"data row3 col0\" >41151.000000</td>\n",
       "                        <td id=\"T_7d29b3e4_8b54_11eb_ac8a_1063c865dcderow3_col1\" class=\"data row3 col1\" >200.897500</td>\n",
       "                        <td id=\"T_7d29b3e4_8b54_11eb_ac8a_1063c865dcderow3_col2\" class=\"data row3 col2\" >1146.724416</td>\n",
       "                        <td id=\"T_7d29b3e4_8b54_11eb_ac8a_1063c865dcderow3_col3\" class=\"data row3 col3\" >1670.445000</td>\n",
       "            </tr>\n",
       "            <tr>\n",
       "                        <th id=\"T_7d29b3e4_8b54_11eb_ac8a_1063c865dcdelevel0_row4\" class=\"row_heading level0 row4\" >631</th>\n",
       "                        <td id=\"T_7d29b3e4_8b54_11eb_ac8a_1063c865dcderow4_col0\" class=\"data row4 col0\" >41151.000000</td>\n",
       "                        <td id=\"T_7d29b3e4_8b54_11eb_ac8a_1063c865dcderow4_col1\" class=\"data row4 col1\" >195.647500</td>\n",
       "                        <td id=\"T_7d29b3e4_8b54_11eb_ac8a_1063c865dcderow4_col2\" class=\"data row4 col2\" >1020.369884</td>\n",
       "                        <td id=\"T_7d29b3e4_8b54_11eb_ac8a_1063c865dcderow4_col3\" class=\"data row4 col3\" >1603.520000</td>\n",
       "            </tr>\n",
       "    </tbody></table>"
      ],
      "text/plain": [
       "<pandas.io.formats.style.Styler at 0x1f761d35dc8>"
      ]
     },
     "metadata": {},
     "output_type": "display_data"
    },
    {
     "name": "stdout",
     "output_type": "stream",
     "text": [
      "  Shape is :  (42440, 4)\n"
     ]
    }
   ],
   "source": [
    "to_drop = ['U','Fr','alpha','beta','Abar','A0','K',\n",
    "        'S','A','height','meandwave','sinuosity','lon','lat','reach','day','river']\n",
    "data_river = data_river.drop(to_drop,axis=1)\n",
    "data_validation = data_validation.drop(to_drop,axis=1)\n",
    "display(data_river.head(5).style.set_caption(\"Few lines of the dataset :\"))\n",
    "print('  Shape is : ', data_river.shape)"
   ]
  },
  {
   "cell_type": "markdown",
   "metadata": {},
   "source": [
    "### 3.2 Séparer les données\n",
    "\n",
    "\n",
    "- Fonction pour séparer les données en test/train des rivières restants"
   ]
  },
  {
   "cell_type": "code",
   "execution_count": 6,
   "metadata": {},
   "outputs": [],
   "source": [
    "def shuffle(d): \n",
    "    data_train = d.sample(frac=0.8, axis=0) \n",
    "    data_test  = d.drop(data_train.index)\n",
    "\n",
    "    x_train = data_train.drop('Q',  axis=1)\n",
    "    y_train = data_train['Q'] \n",
    "    x_test  = data_test.drop('Q',   axis=1)\n",
    "    y_test  = data_test['Q']\n",
    "    \n",
    "    return x_train, y_train , x_test, y_test"
   ]
  },
  {
   "cell_type": "markdown",
   "metadata": {},
   "source": [
    "### 3.3 - Data normalization"
   ]
  },
  {
   "cell_type": "code",
   "execution_count": 7,
   "metadata": {},
   "outputs": [],
   "source": [
    "def normalization(x_train,y_train,x_test,y_test):\n",
    "    mean = x_train.mean()\n",
    "    std  = x_train.std()\n",
    "    x_train = (x_train - mean) / std\n",
    "    x_test  = (x_test  - mean) / std\n",
    "\n",
    "    x_train, y_train = np.array(x_train), np.array(y_train)\n",
    "    x_test,  y_test  = np.array(x_test),  np.array(y_test)\n",
    "    return x_train, y_train , x_test, y_test,mean,std"
   ]
  },
  {
   "cell_type": "markdown",
   "metadata": {},
   "source": [
    "# Step 4 - Build a model\n"
   ]
  },
  {
   "cell_type": "markdown",
   "metadata": {},
   "source": [
    "### 4.1 Define custom metrics \n",
    "\n",
    "Pour implémenter : Pearson /  Low froude / NMRSE / KGE / NSE\n",
    "\n",
    "- Normalized Root Mean Square Error $nRMSE(y) = \\frac{RMSE(y)} {\\bar y^{obs}}$\n"
   ]
  },
  {
   "cell_type": "code",
   "execution_count": 8,
   "metadata": {},
   "outputs": [],
   "source": [
    "def nRMSE(y_true, y_pred):\n",
    "    return K.sqrt(K.mean(K.square(y_pred - y_true), axis=-1))/K.mean(y_true)"
   ]
  },
  {
   "cell_type": "markdown",
   "metadata": {},
   "source": [
    "- Nash-Sutcliffe model Efficiency $NSE(y) = 1 - \\frac{\\sum^n_{i=1}(y^{est}_i - y^{obs}_i)^2} {\\sum^n_{i=1}(y^{obs}_i - \\bar y^{obs})^2}$"
   ]
  },
  {
   "cell_type": "code",
   "execution_count": 9,
   "metadata": {},
   "outputs": [],
   "source": [
    "def NSE(y_true, y_pred):\n",
    "    return 1- K.mean(K.square(y_pred-y_true))/K.mean(K.square(y_true-K.mean(y_true)))"
   ]
  },
  {
   "cell_type": "markdown",
   "metadata": {},
   "source": [
    "- Pearson correlation coefficient $R2(y) = \\frac{\\sum_{i=1}^{n}(y^{est}_i - \\bar y^{est}) (y^{obs}_i - \\bar y^{obs})} {\\left(\\sum_{i=1}^{n}(y^{est}_i - \\bar y^{est})^2\\right)^{1/2}\\left(\\sum_{i=1}^{n}(y^{obs}_i - \\bar y^{obs})^2\\right)^{1/2}}$"
   ]
  },
  {
   "cell_type": "code",
   "execution_count": 10,
   "metadata": {},
   "outputs": [],
   "source": [
    "def R2(y_true,y_pred): \n",
    "    return tfp.stats.correlation(y_true, y_pred)"
   ]
  },
  {
   "cell_type": "markdown",
   "metadata": {},
   "source": [
    "- Kling-Gupta model Efficiency $KGE(y) = 1 - \\sqrt {(\\beta_{KG}-1)^2+(\\alpha_{KG}-1)^2+(R^2-1)^2}$, with $\\beta_{KG}=\\frac{\\bar y^{est}}{\\bar y^{obs}}$ and $\\alpha_{KG} = \\frac{\\sigma(y^{est})}{\\sigma(y^{obs})}$"
   ]
  },
  {
   "cell_type": "code",
   "execution_count": 11,
   "metadata": {},
   "outputs": [],
   "source": [
    "def KGE(y_true,y_pred): \n",
    "    beta = K.mean(y_pred)/K.mean(y_true)\n",
    "    alpha = K.var(y_pred)/K.var(y_true)\n",
    "    r2 = R2(y_true,y_pred)\n",
    "    kge = 1 - K.sqrt(K.square(beta-1) + K.square(alpha-1)+K.square(r2-1))\n",
    "    return kge"
   ]
  },
  {
   "cell_type": "markdown",
   "metadata": {},
   "source": [
    " - Erreur de consistence basée sur low froude flow model : "
   ]
  },
  {
   "cell_type": "code",
   "execution_count": 43,
   "metadata": {},
   "outputs": [],
   "source": [
    "def LF(y_true,y_pred): \n",
    "    lf = []\n",
    "    aux = y_true.shape[0]\n",
    "    shape = y_true.get_shape().as_list()\n",
    "    for i in range(shape[0]):\n",
    "        reach_data = data[data['Q']==y_true[i]]\n",
    "        A0r = reach_data[\"A0\"]\n",
    "        dArp = reach_data[\"dA\"]\n",
    "        Qrp = reach_data[\"Q\"]\n",
    "        Srp = reach_data[\"S\"]\n",
    "        Wrp = reach_data[\"W\"]\n",
    "        Zrp = reach_data[\"height\"]\n",
    "        Zr0 = np.min(Zrp)\n",
    "        Wr0 = np.min(Wrp)\n",
    "        c1rp = Wrp**(-2./5.) * Srp**(3./10.)\n",
    "        c2rp = c1rp * dArp\n",
    "        c3rp = (Zrp - Zr0)\n",
    "        c4r = 1.0 / Wr0\n",
    "        alpha, beta  = reach_data['alpha'] , reach_data['beta']\n",
    "        Qest = (alpha**(3./5.) * (c1rp * A0r + c2rp) * (c4r * A0r + c3rp)**(3./5. * beta))**(5./3.)\n",
    "        lf.append(Qest-y_pred)\n",
    "    return K.mean(lf)"
   ]
  },
  {
   "cell_type": "markdown",
   "metadata": {},
   "source": [
    "### 4.2 Define a model"
   ]
  },
  {
   "cell_type": "code",
   "execution_count": 44,
   "metadata": {},
   "outputs": [],
   "source": [
    "def get_model_v1(shape,n_layers,n_neurons): \n",
    "  \n",
    "    model = keras.models.Sequential()\n",
    "    model.add(keras.layers.Input(shape, name=\"InputLayer\"))\n",
    "    \n",
    "    for i in range(n_layers): \n",
    "            model.add(keras.layers.Dense(n_neurons, activation='relu', name='Dense_n'+str(i)))\n",
    "   \n",
    "    model.add(keras.layers.Dense(1, name='Output'))\n",
    "    model.compile(optimizer = 'adam', \n",
    "                  loss      = 'mae',\n",
    "                  metrics   = ['mae', 'mse',LF] )\n",
    "    return model"
   ]
  },
  {
   "cell_type": "markdown",
   "metadata": {},
   "source": [
    "## Step 5 - Train the model\n",
    "### 5.1 - Get it"
   ]
  },
  {
   "cell_type": "code",
   "execution_count": 45,
   "metadata": {},
   "outputs": [
    {
     "ename": "TypeError",
     "evalue": "'NoneType' object cannot be interpreted as an integer",
     "output_type": "error",
     "traceback": [
      "\u001b[1;31m---------------------------------------------------------------------------\u001b[0m",
      "\u001b[1;31mTypeError\u001b[0m                                 Traceback (most recent call last)",
      "\u001b[1;32m<ipython-input-45-4ba911eb318b>\u001b[0m in \u001b[0;36m<module>\u001b[1;34m\u001b[0m\n\u001b[0;32m      2\u001b[0m \u001b[0mn_layers\u001b[0m \u001b[1;33m=\u001b[0m \u001b[1;36m64\u001b[0m\u001b[1;33m\u001b[0m\u001b[1;33m\u001b[0m\u001b[0m\n\u001b[0;32m      3\u001b[0m \u001b[0mn_neurons\u001b[0m \u001b[1;33m=\u001b[0m \u001b[1;36m64\u001b[0m\u001b[1;33m\u001b[0m\u001b[1;33m\u001b[0m\u001b[0m\n\u001b[1;32m----> 4\u001b[1;33m \u001b[0mmodel\u001b[0m\u001b[1;33m=\u001b[0m\u001b[0mget_model_v1\u001b[0m\u001b[1;33m(\u001b[0m\u001b[1;33m(\u001b[0m\u001b[0mshape\u001b[0m\u001b[1;33m,\u001b[0m\u001b[1;33m)\u001b[0m\u001b[1;33m,\u001b[0m\u001b[0mn_layers\u001b[0m\u001b[1;33m,\u001b[0m\u001b[0mn_neurons\u001b[0m\u001b[1;33m)\u001b[0m\u001b[1;33m\u001b[0m\u001b[1;33m\u001b[0m\u001b[0m\n\u001b[0m\u001b[0;32m      5\u001b[0m \u001b[0mmodel\u001b[0m\u001b[1;33m.\u001b[0m\u001b[0msummary\u001b[0m\u001b[1;33m(\u001b[0m\u001b[1;33m)\u001b[0m\u001b[1;33m\u001b[0m\u001b[1;33m\u001b[0m\u001b[0m\n",
      "\u001b[1;32m<ipython-input-44-0ba455ddb4d3>\u001b[0m in \u001b[0;36mget_model_v1\u001b[1;34m(shape, n_layers, n_neurons)\u001b[0m\n\u001b[0;32m     10\u001b[0m     model.compile(optimizer = 'adam', \n\u001b[0;32m     11\u001b[0m                   \u001b[0mloss\u001b[0m      \u001b[1;33m=\u001b[0m \u001b[1;34m'mae'\u001b[0m\u001b[1;33m,\u001b[0m\u001b[1;33m\u001b[0m\u001b[1;33m\u001b[0m\u001b[0m\n\u001b[1;32m---> 12\u001b[1;33m                   metrics   = ['mae', 'mse',LF] )\n\u001b[0m\u001b[0;32m     13\u001b[0m     \u001b[1;32mreturn\u001b[0m \u001b[0mmodel\u001b[0m\u001b[1;33m\u001b[0m\u001b[1;33m\u001b[0m\u001b[0m\n",
      "\u001b[1;32m~\\Anaconda3\\lib\\site-packages\\tensorflow\\python\\training\\tracking\\base.py\u001b[0m in \u001b[0;36m_method_wrapper\u001b[1;34m(self, *args, **kwargs)\u001b[0m\n\u001b[0;32m    455\u001b[0m     \u001b[0mself\u001b[0m\u001b[1;33m.\u001b[0m\u001b[0m_self_setattr_tracking\u001b[0m \u001b[1;33m=\u001b[0m \u001b[1;32mFalse\u001b[0m  \u001b[1;31m# pylint: disable=protected-access\u001b[0m\u001b[1;33m\u001b[0m\u001b[1;33m\u001b[0m\u001b[0m\n\u001b[0;32m    456\u001b[0m     \u001b[1;32mtry\u001b[0m\u001b[1;33m:\u001b[0m\u001b[1;33m\u001b[0m\u001b[1;33m\u001b[0m\u001b[0m\n\u001b[1;32m--> 457\u001b[1;33m       \u001b[0mresult\u001b[0m \u001b[1;33m=\u001b[0m \u001b[0mmethod\u001b[0m\u001b[1;33m(\u001b[0m\u001b[0mself\u001b[0m\u001b[1;33m,\u001b[0m \u001b[1;33m*\u001b[0m\u001b[0margs\u001b[0m\u001b[1;33m,\u001b[0m \u001b[1;33m**\u001b[0m\u001b[0mkwargs\u001b[0m\u001b[1;33m)\u001b[0m\u001b[1;33m\u001b[0m\u001b[1;33m\u001b[0m\u001b[0m\n\u001b[0m\u001b[0;32m    458\u001b[0m     \u001b[1;32mfinally\u001b[0m\u001b[1;33m:\u001b[0m\u001b[1;33m\u001b[0m\u001b[1;33m\u001b[0m\u001b[0m\n\u001b[0;32m    459\u001b[0m       \u001b[0mself\u001b[0m\u001b[1;33m.\u001b[0m\u001b[0m_self_setattr_tracking\u001b[0m \u001b[1;33m=\u001b[0m \u001b[0mprevious_value\u001b[0m  \u001b[1;31m# pylint: disable=protected-access\u001b[0m\u001b[1;33m\u001b[0m\u001b[1;33m\u001b[0m\u001b[0m\n",
      "\u001b[1;32m~\\Anaconda3\\lib\\site-packages\\tensorflow\\python\\keras\\engine\\training.py\u001b[0m in \u001b[0;36mcompile\u001b[1;34m(self, optimizer, loss, metrics, loss_weights, sample_weight_mode, weighted_metrics, target_tensors, distribute, **kwargs)\u001b[0m\n\u001b[0;32m    328\u001b[0m           \u001b[0mtargets\u001b[0m\u001b[1;33m=\u001b[0m\u001b[0mself\u001b[0m\u001b[1;33m.\u001b[0m\u001b[0m_targets\u001b[0m\u001b[1;33m,\u001b[0m\u001b[1;33m\u001b[0m\u001b[1;33m\u001b[0m\u001b[0m\n\u001b[0;32m    329\u001b[0m           \u001b[0mskip_target_masks\u001b[0m\u001b[1;33m=\u001b[0m\u001b[0mself\u001b[0m\u001b[1;33m.\u001b[0m\u001b[0m_prepare_skip_target_masks\u001b[0m\u001b[1;33m(\u001b[0m\u001b[1;33m)\u001b[0m\u001b[1;33m,\u001b[0m\u001b[1;33m\u001b[0m\u001b[1;33m\u001b[0m\u001b[0m\n\u001b[1;32m--> 330\u001b[1;33m           masks=self._prepare_output_masks())\n\u001b[0m\u001b[0;32m    331\u001b[0m \u001b[1;33m\u001b[0m\u001b[0m\n\u001b[0;32m    332\u001b[0m       \u001b[1;31m# Prepare sample weight modes. List with the same length as model outputs.\u001b[0m\u001b[1;33m\u001b[0m\u001b[1;33m\u001b[0m\u001b[1;33m\u001b[0m\u001b[0m\n",
      "\u001b[1;32m~\\Anaconda3\\lib\\site-packages\\tensorflow\\python\\keras\\engine\\training.py\u001b[0m in \u001b[0;36m_handle_metrics\u001b[1;34m(self, outputs, targets, skip_target_masks, sample_weights, masks, return_weighted_metrics, return_weighted_and_unweighted_metrics)\u001b[0m\n\u001b[0;32m   2168\u001b[0m           metric_results.extend(\n\u001b[0;32m   2169\u001b[0m               self._handle_per_output_metrics(self._per_output_metrics[i],\n\u001b[1;32m-> 2170\u001b[1;33m                                               target, output, output_mask))\n\u001b[0m\u001b[0;32m   2171\u001b[0m         \u001b[1;32mif\u001b[0m \u001b[0mreturn_weighted_and_unweighted_metrics\u001b[0m \u001b[1;32mor\u001b[0m \u001b[0mreturn_weighted_metrics\u001b[0m\u001b[1;33m:\u001b[0m\u001b[1;33m\u001b[0m\u001b[1;33m\u001b[0m\u001b[0m\n\u001b[0;32m   2172\u001b[0m           metric_results.extend(\n",
      "\u001b[1;32m~\\Anaconda3\\lib\\site-packages\\tensorflow\\python\\keras\\engine\\training.py\u001b[0m in \u001b[0;36m_handle_per_output_metrics\u001b[1;34m(self, metrics_dict, y_true, y_pred, mask, weights)\u001b[0m\n\u001b[0;32m   2116\u001b[0m       \u001b[1;32mwith\u001b[0m \u001b[0mK\u001b[0m\u001b[1;33m.\u001b[0m\u001b[0mname_scope\u001b[0m\u001b[1;33m(\u001b[0m\u001b[0mmetric_name\u001b[0m\u001b[1;33m)\u001b[0m\u001b[1;33m:\u001b[0m\u001b[1;33m\u001b[0m\u001b[1;33m\u001b[0m\u001b[0m\n\u001b[0;32m   2117\u001b[0m         metric_result = self._call_metric_fn(metric_fn, y_true, y_pred, weights,\n\u001b[1;32m-> 2118\u001b[1;33m                                              mask)\n\u001b[0m\u001b[0;32m   2119\u001b[0m         \u001b[0mmetric_results\u001b[0m\u001b[1;33m.\u001b[0m\u001b[0mappend\u001b[0m\u001b[1;33m(\u001b[0m\u001b[0mmetric_result\u001b[0m\u001b[1;33m)\u001b[0m\u001b[1;33m\u001b[0m\u001b[1;33m\u001b[0m\u001b[0m\n\u001b[0;32m   2120\u001b[0m         \u001b[1;32mif\u001b[0m \u001b[1;32mnot\u001b[0m \u001b[0mself\u001b[0m\u001b[1;33m.\u001b[0m\u001b[0mrun_eagerly\u001b[0m\u001b[1;33m:\u001b[0m\u001b[1;33m\u001b[0m\u001b[1;33m\u001b[0m\u001b[0m\n",
      "\u001b[1;32m~\\Anaconda3\\lib\\site-packages\\tensorflow\\python\\keras\\engine\\training.py\u001b[0m in \u001b[0;36m_call_metric_fn\u001b[1;34m(self, metric_fn, y_true, y_pred, weights, mask)\u001b[0m\n\u001b[0;32m   2092\u001b[0m         \u001b[0mweights\u001b[0m\u001b[1;33m=\u001b[0m\u001b[0mweights\u001b[0m\u001b[1;33m,\u001b[0m\u001b[1;33m\u001b[0m\u001b[1;33m\u001b[0m\u001b[0m\n\u001b[0;32m   2093\u001b[0m         \u001b[0mmask\u001b[0m\u001b[1;33m=\u001b[0m\u001b[0mmask\u001b[0m\u001b[1;33m,\u001b[0m\u001b[1;33m\u001b[0m\u001b[1;33m\u001b[0m\u001b[0m\n\u001b[1;32m-> 2094\u001b[1;33m         strategy=self._distribution_strategy)\n\u001b[0m\u001b[0;32m   2095\u001b[0m \u001b[1;33m\u001b[0m\u001b[0m\n\u001b[0;32m   2096\u001b[0m   def _handle_per_output_metrics(self,\n",
      "\u001b[1;32m~\\Anaconda3\\lib\\site-packages\\tensorflow\\python\\keras\\distribute\\distributed_training_utils.py\u001b[0m in \u001b[0;36mcall_replica_local_fn\u001b[1;34m(fn, *args, **kwargs)\u001b[0m\n\u001b[0;32m   1052\u001b[0m     \u001b[1;32mwith\u001b[0m \u001b[0mstrategy\u001b[0m\u001b[1;33m.\u001b[0m\u001b[0mscope\u001b[0m\u001b[1;33m(\u001b[0m\u001b[1;33m)\u001b[0m\u001b[1;33m:\u001b[0m\u001b[1;33m\u001b[0m\u001b[1;33m\u001b[0m\u001b[0m\n\u001b[0;32m   1053\u001b[0m       \u001b[1;32mreturn\u001b[0m \u001b[0mstrategy\u001b[0m\u001b[1;33m.\u001b[0m\u001b[0mextended\u001b[0m\u001b[1;33m.\u001b[0m\u001b[0mcall_for_each_replica\u001b[0m\u001b[1;33m(\u001b[0m\u001b[0mfn\u001b[0m\u001b[1;33m,\u001b[0m \u001b[0margs\u001b[0m\u001b[1;33m,\u001b[0m \u001b[0mkwargs\u001b[0m\u001b[1;33m)\u001b[0m\u001b[1;33m\u001b[0m\u001b[1;33m\u001b[0m\u001b[0m\n\u001b[1;32m-> 1054\u001b[1;33m   \u001b[1;32mreturn\u001b[0m \u001b[0mfn\u001b[0m\u001b[1;33m(\u001b[0m\u001b[1;33m*\u001b[0m\u001b[0margs\u001b[0m\u001b[1;33m,\u001b[0m \u001b[1;33m**\u001b[0m\u001b[0mkwargs\u001b[0m\u001b[1;33m)\u001b[0m\u001b[1;33m\u001b[0m\u001b[1;33m\u001b[0m\u001b[0m\n\u001b[0m\u001b[0;32m   1055\u001b[0m \u001b[1;33m\u001b[0m\u001b[0m\n\u001b[0;32m   1056\u001b[0m \u001b[1;33m\u001b[0m\u001b[0m\n",
      "\u001b[1;32m~\\Anaconda3\\lib\\site-packages\\tensorflow\\python\\keras\\engine\\training_utils.py\u001b[0m in \u001b[0;36mcall_metric_function\u001b[1;34m(metric_fn, y_true, y_pred, weights, mask)\u001b[0m\n\u001b[0;32m    871\u001b[0m \u001b[1;33m\u001b[0m\u001b[0m\n\u001b[0;32m    872\u001b[0m   \u001b[1;32mif\u001b[0m \u001b[0my_pred\u001b[0m \u001b[1;32mis\u001b[0m \u001b[1;32mnot\u001b[0m \u001b[1;32mNone\u001b[0m\u001b[1;33m:\u001b[0m\u001b[1;33m\u001b[0m\u001b[1;33m\u001b[0m\u001b[0m\n\u001b[1;32m--> 873\u001b[1;33m     \u001b[1;32mreturn\u001b[0m \u001b[0mmetric_fn\u001b[0m\u001b[1;33m(\u001b[0m\u001b[0my_true\u001b[0m\u001b[1;33m,\u001b[0m \u001b[0my_pred\u001b[0m\u001b[1;33m,\u001b[0m \u001b[0msample_weight\u001b[0m\u001b[1;33m=\u001b[0m\u001b[0mweights\u001b[0m\u001b[1;33m)\u001b[0m\u001b[1;33m\u001b[0m\u001b[1;33m\u001b[0m\u001b[0m\n\u001b[0m\u001b[0;32m    874\u001b[0m   \u001b[1;31m# `Mean` metric only takes a single value.\u001b[0m\u001b[1;33m\u001b[0m\u001b[1;33m\u001b[0m\u001b[1;33m\u001b[0m\u001b[0m\n\u001b[0;32m    875\u001b[0m   \u001b[1;32mreturn\u001b[0m \u001b[0mmetric_fn\u001b[0m\u001b[1;33m(\u001b[0m\u001b[0my_true\u001b[0m\u001b[1;33m,\u001b[0m \u001b[0msample_weight\u001b[0m\u001b[1;33m=\u001b[0m\u001b[0mweights\u001b[0m\u001b[1;33m)\u001b[0m\u001b[1;33m\u001b[0m\u001b[1;33m\u001b[0m\u001b[0m\n",
      "\u001b[1;32m~\\Anaconda3\\lib\\site-packages\\tensorflow\\python\\keras\\metrics.py\u001b[0m in \u001b[0;36m__call__\u001b[1;34m(self, *args, **kwargs)\u001b[0m\n\u001b[0;32m    168\u001b[0m       \u001b[0mThe\u001b[0m \u001b[0mmetric\u001b[0m \u001b[0mvalue\u001b[0m \u001b[0mtensor\u001b[0m\u001b[1;33m.\u001b[0m\u001b[1;33m\u001b[0m\u001b[1;33m\u001b[0m\u001b[0m\n\u001b[0;32m    169\u001b[0m     \"\"\"\n\u001b[1;32m--> 170\u001b[1;33m     \u001b[0mupdate_op\u001b[0m \u001b[1;33m=\u001b[0m \u001b[0mself\u001b[0m\u001b[1;33m.\u001b[0m\u001b[0mupdate_state\u001b[0m\u001b[1;33m(\u001b[0m\u001b[1;33m*\u001b[0m\u001b[0margs\u001b[0m\u001b[1;33m,\u001b[0m \u001b[1;33m**\u001b[0m\u001b[0mkwargs\u001b[0m\u001b[1;33m)\u001b[0m  \u001b[1;31m# pylint: disable=not-callable\u001b[0m\u001b[1;33m\u001b[0m\u001b[1;33m\u001b[0m\u001b[0m\n\u001b[0m\u001b[0;32m    171\u001b[0m     \u001b[1;32mwith\u001b[0m \u001b[0mops\u001b[0m\u001b[1;33m.\u001b[0m\u001b[0mcontrol_dependencies\u001b[0m\u001b[1;33m(\u001b[0m\u001b[1;33m[\u001b[0m\u001b[0mupdate_op\u001b[0m\u001b[1;33m]\u001b[0m\u001b[1;33m)\u001b[0m\u001b[1;33m:\u001b[0m\u001b[1;33m\u001b[0m\u001b[1;33m\u001b[0m\u001b[0m\n\u001b[0;32m    172\u001b[0m       \u001b[0mresult_t\u001b[0m \u001b[1;33m=\u001b[0m \u001b[0mself\u001b[0m\u001b[1;33m.\u001b[0m\u001b[0mresult\u001b[0m\u001b[1;33m(\u001b[0m\u001b[1;33m)\u001b[0m  \u001b[1;31m# pylint: disable=not-callable\u001b[0m\u001b[1;33m\u001b[0m\u001b[1;33m\u001b[0m\u001b[0m\n",
      "\u001b[1;32m~\\Anaconda3\\lib\\site-packages\\tensorflow\\python\\keras\\utils\\metrics_utils.py\u001b[0m in \u001b[0;36mdecorated\u001b[1;34m(metric_obj, *args, **kwargs)\u001b[0m\n\u001b[0;32m     71\u001b[0m \u001b[1;33m\u001b[0m\u001b[0m\n\u001b[0;32m     72\u001b[0m     \u001b[1;32mwith\u001b[0m \u001b[0mtf_utils\u001b[0m\u001b[1;33m.\u001b[0m\u001b[0mgraph_context_for_symbolic_tensors\u001b[0m\u001b[1;33m(\u001b[0m\u001b[1;33m*\u001b[0m\u001b[0margs\u001b[0m\u001b[1;33m,\u001b[0m \u001b[1;33m**\u001b[0m\u001b[0mkwargs\u001b[0m\u001b[1;33m)\u001b[0m\u001b[1;33m:\u001b[0m\u001b[1;33m\u001b[0m\u001b[1;33m\u001b[0m\u001b[0m\n\u001b[1;32m---> 73\u001b[1;33m       \u001b[0mupdate_op\u001b[0m \u001b[1;33m=\u001b[0m \u001b[0mupdate_state_fn\u001b[0m\u001b[1;33m(\u001b[0m\u001b[1;33m*\u001b[0m\u001b[0margs\u001b[0m\u001b[1;33m,\u001b[0m \u001b[1;33m**\u001b[0m\u001b[0mkwargs\u001b[0m\u001b[1;33m)\u001b[0m\u001b[1;33m\u001b[0m\u001b[1;33m\u001b[0m\u001b[0m\n\u001b[0m\u001b[0;32m     74\u001b[0m     \u001b[1;32mif\u001b[0m \u001b[0mupdate_op\u001b[0m \u001b[1;32mis\u001b[0m \u001b[1;32mnot\u001b[0m \u001b[1;32mNone\u001b[0m\u001b[1;33m:\u001b[0m  \u001b[1;31m# update_op will be None in eager execution.\u001b[0m\u001b[1;33m\u001b[0m\u001b[1;33m\u001b[0m\u001b[0m\n\u001b[0;32m     75\u001b[0m       \u001b[0mmetric_obj\u001b[0m\u001b[1;33m.\u001b[0m\u001b[0madd_update\u001b[0m\u001b[1;33m(\u001b[0m\u001b[0mupdate_op\u001b[0m\u001b[1;33m,\u001b[0m \u001b[0minputs\u001b[0m\u001b[1;33m=\u001b[0m\u001b[1;32mTrue\u001b[0m\u001b[1;33m)\u001b[0m\u001b[1;33m\u001b[0m\u001b[1;33m\u001b[0m\u001b[0m\n",
      "\u001b[1;32m~\\Anaconda3\\lib\\site-packages\\tensorflow\\python\\keras\\metrics.py\u001b[0m in \u001b[0;36mupdate_state\u001b[1;34m(self, y_true, y_pred, sample_weight)\u001b[0m\n\u001b[0;32m    547\u001b[0m         y_pred, y_true, sample_weight)\n\u001b[0;32m    548\u001b[0m \u001b[1;33m\u001b[0m\u001b[0m\n\u001b[1;32m--> 549\u001b[1;33m     \u001b[0mmatches\u001b[0m \u001b[1;33m=\u001b[0m \u001b[0mself\u001b[0m\u001b[1;33m.\u001b[0m\u001b[0m_fn\u001b[0m\u001b[1;33m(\u001b[0m\u001b[0my_true\u001b[0m\u001b[1;33m,\u001b[0m \u001b[0my_pred\u001b[0m\u001b[1;33m,\u001b[0m \u001b[1;33m**\u001b[0m\u001b[0mself\u001b[0m\u001b[1;33m.\u001b[0m\u001b[0m_fn_kwargs\u001b[0m\u001b[1;33m)\u001b[0m\u001b[1;33m\u001b[0m\u001b[1;33m\u001b[0m\u001b[0m\n\u001b[0m\u001b[0;32m    550\u001b[0m     return super(MeanMetricWrapper, self).update_state(\n\u001b[0;32m    551\u001b[0m         matches, sample_weight=sample_weight)\n",
      "\u001b[1;32m<ipython-input-43-51e990c23450>\u001b[0m in \u001b[0;36mLF\u001b[1;34m(y_true, y_pred)\u001b[0m\n\u001b[0;32m      3\u001b[0m     \u001b[0maux\u001b[0m \u001b[1;33m=\u001b[0m \u001b[0my_true\u001b[0m\u001b[1;33m.\u001b[0m\u001b[0mshape\u001b[0m\u001b[1;33m[\u001b[0m\u001b[1;36m0\u001b[0m\u001b[1;33m]\u001b[0m\u001b[1;33m\u001b[0m\u001b[1;33m\u001b[0m\u001b[0m\n\u001b[0;32m      4\u001b[0m     \u001b[0mshape\u001b[0m \u001b[1;33m=\u001b[0m \u001b[0my_true\u001b[0m\u001b[1;33m.\u001b[0m\u001b[0mget_shape\u001b[0m\u001b[1;33m(\u001b[0m\u001b[1;33m)\u001b[0m\u001b[1;33m.\u001b[0m\u001b[0mas_list\u001b[0m\u001b[1;33m(\u001b[0m\u001b[1;33m)\u001b[0m\u001b[1;33m\u001b[0m\u001b[1;33m\u001b[0m\u001b[0m\n\u001b[1;32m----> 5\u001b[1;33m     \u001b[1;32mfor\u001b[0m \u001b[0mi\u001b[0m \u001b[1;32min\u001b[0m \u001b[0mrange\u001b[0m\u001b[1;33m(\u001b[0m\u001b[0mshape\u001b[0m\u001b[1;33m[\u001b[0m\u001b[1;36m0\u001b[0m\u001b[1;33m]\u001b[0m\u001b[1;33m)\u001b[0m\u001b[1;33m:\u001b[0m\u001b[1;33m\u001b[0m\u001b[1;33m\u001b[0m\u001b[0m\n\u001b[0m\u001b[0;32m      6\u001b[0m         \u001b[0mreach_data\u001b[0m \u001b[1;33m=\u001b[0m \u001b[0mdata\u001b[0m\u001b[1;33m[\u001b[0m\u001b[0mdata\u001b[0m\u001b[1;33m[\u001b[0m\u001b[1;34m'Q'\u001b[0m\u001b[1;33m]\u001b[0m\u001b[1;33m==\u001b[0m\u001b[0my_true\u001b[0m\u001b[1;33m[\u001b[0m\u001b[0mi\u001b[0m\u001b[1;33m]\u001b[0m\u001b[1;33m]\u001b[0m\u001b[1;33m\u001b[0m\u001b[1;33m\u001b[0m\u001b[0m\n\u001b[0;32m      7\u001b[0m         \u001b[0mA0r\u001b[0m \u001b[1;33m=\u001b[0m \u001b[0mreach_data\u001b[0m\u001b[1;33m[\u001b[0m\u001b[1;34m\"A0\"\u001b[0m\u001b[1;33m]\u001b[0m\u001b[1;33m\u001b[0m\u001b[1;33m\u001b[0m\u001b[0m\n",
      "\u001b[1;31mTypeError\u001b[0m: 'NoneType' object cannot be interpreted as an integer"
     ]
    }
   ],
   "source": [
    "shape = data_river.shape[1]-1\n",
    "n_layers = 64\n",
    "n_neurons = 64\n",
    "model=get_model_v1((shape,),n_layers,n_neurons)\n",
    "model.summary()"
   ]
  },
  {
   "cell_type": "markdown",
   "metadata": {},
   "source": [
    "### 5.2 Train it"
   ]
  },
  {
   "cell_type": "code",
   "execution_count": 25,
   "metadata": {},
   "outputs": [],
   "source": [
    "x_train, y_train , x_test, y_test = shuffle(data_river)\n",
    "x_train_norm, y_train , x_test_norm, y_test, mean,std = normalization(x_train,y_train,x_test,y_test)"
   ]
  },
  {
   "cell_type": "code",
   "execution_count": 27,
   "metadata": {},
   "outputs": [
    {
     "name": "stdout",
     "output_type": "stream",
     "text": [
      "Train on 33952 samples, validate on 8488 samples\n",
      "Epoch 1/100\n",
      "33952/33952 [==============================] - 4s 111us/sample - loss: 1673.1408 - mean_absolute_error: 1673.1406 - mean_squared_error: 25635612.0000 - val_loss: 946.1621 - val_mean_absolute_error: 946.1621 - val_mean_squared_error: 6333414.0000\n",
      "Epoch 2/100\n",
      "33952/33952 [==============================] - 3s 76us/sample - loss: 1053.5950 - mean_absolute_error: 1053.5946 - mean_squared_error: 8751402.0000 - val_loss: 1790.9198 - val_mean_absolute_error: 1790.9198 - val_mean_squared_error: 26364044.0000\n",
      "Epoch 3/100\n",
      "33952/33952 [==============================] - 3s 76us/sample - loss: 1256.0013 - mean_absolute_error: 1256.0009 - mean_squared_error: 13598924.0000 - val_loss: 850.6756 - val_mean_absolute_error: 850.6755 - val_mean_squared_error: 5272452.0000\n",
      "Epoch 4/100\n",
      "33952/33952 [==============================] - 3s 76us/sample - loss: 928.6728 - mean_absolute_error: 928.6729 - mean_squared_error: 6949348.5000 - val_loss: 1377.7700 - val_mean_absolute_error: 1377.7701 - val_mean_squared_error: 18330836.0000\n",
      "Epoch 5/100\n",
      "33952/33952 [==============================] - 3s 76us/sample - loss: 1089.6019 - mean_absolute_error: 1089.6021 - mean_squared_error: 10489496.0000 - val_loss: 853.0124 - val_mean_absolute_error: 853.0124 - val_mean_squared_error: 5937038.5000\n",
      "Epoch 6/100\n",
      "33952/33952 [==============================] - 3s 80us/sample - loss: 1034.3992 - mean_absolute_error: 1034.3986 - mean_squared_error: 9619612.0000 - val_loss: 954.5587 - val_mean_absolute_error: 954.5587 - val_mean_squared_error: 7206274.5000\n",
      "Epoch 7/100\n",
      "33952/33952 [==============================] - 3s 80us/sample - loss: 1067.9238 - mean_absolute_error: 1067.9246 - mean_squared_error: 8968787.0000 - val_loss: 786.2284 - val_mean_absolute_error: 786.2283 - val_mean_squared_error: 4937660.0000\n",
      "Epoch 8/100\n",
      "33952/33952 [==============================] - 3s 84us/sample - loss: 1006.4907 - mean_absolute_error: 1006.4908 - mean_squared_error: 8531855.0000 - val_loss: 1917.0191 - val_mean_absolute_error: 1917.0188 - val_mean_squared_error: 24512196.0000\n",
      "Epoch 9/100\n",
      "33952/33952 [==============================] - 3s 86us/sample - loss: 1124.2015 - mean_absolute_error: 1124.2018 - mean_squared_error: 11158428.0000 - val_loss: 1054.5904 - val_mean_absolute_error: 1054.5902 - val_mean_squared_error: 10005117.0000\n",
      "Epoch 10/100\n",
      "33952/33952 [==============================] - 3s 90us/sample - loss: 943.3741 - mean_absolute_error: 943.3738 - mean_squared_error: 7525058.0000 - val_loss: 775.0819 - val_mean_absolute_error: 775.0819 - val_mean_squared_error: 4695976.0000\n",
      "Epoch 11/100\n",
      "33952/33952 [==============================] - 3s 88us/sample - loss: 901.0241 - mean_absolute_error: 901.0242 - mean_squared_error: 7071317.0000 - val_loss: 854.3089 - val_mean_absolute_error: 854.3090 - val_mean_squared_error: 5442399.5000\n",
      "Epoch 12/100\n",
      "33952/33952 [==============================] - 3s 78us/sample - loss: 967.3031 - mean_absolute_error: 967.3032 - mean_squared_error: 8098909.5000 - val_loss: 758.2848 - val_mean_absolute_error: 758.2850 - val_mean_squared_error: 4379744.0000\n",
      "Epoch 13/100\n",
      "33952/33952 [==============================] - 3s 80us/sample - loss: 956.5117 - mean_absolute_error: 956.5113 - mean_squared_error: 7391259.5000 - val_loss: 1262.8841 - val_mean_absolute_error: 1262.8839 - val_mean_squared_error: 12038009.0000\n",
      "Epoch 14/100\n",
      "33952/33952 [==============================] - 3s 88us/sample - loss: 920.4342 - mean_absolute_error: 920.4344 - mean_squared_error: 7026638.5000 - val_loss: 1060.5656 - val_mean_absolute_error: 1060.5658 - val_mean_squared_error: 10293457.0000\n",
      "Epoch 15/100\n",
      "33952/33952 [==============================] - 3s 89us/sample - loss: 836.5194 - mean_absolute_error: 836.5192 - mean_squared_error: 5886231.0000 - val_loss: 823.7026 - val_mean_absolute_error: 823.7027 - val_mean_squared_error: 5646755.0000\n",
      "Epoch 16/100\n",
      "33952/33952 [==============================] - 3s 80us/sample - loss: 866.2317 - mean_absolute_error: 866.2313 - mean_squared_error: 6310271.5000 - val_loss: 799.4900 - val_mean_absolute_error: 799.4899 - val_mean_squared_error: 5746058.5000\n",
      "Epoch 17/100\n",
      "33952/33952 [==============================] - 3s 81us/sample - loss: 873.5315 - mean_absolute_error: 873.5316 - mean_squared_error: 6324544.5000 - val_loss: 904.3708 - val_mean_absolute_error: 904.3710 - val_mean_squared_error: 6640782.0000\n",
      "Epoch 18/100\n",
      "33952/33952 [==============================] - 3s 80us/sample - loss: 971.3745 - mean_absolute_error: 971.3747 - mean_squared_error: 8543727.0000 - val_loss: 729.5635 - val_mean_absolute_error: 729.5637 - val_mean_squared_error: 4280111.5000\n",
      "Epoch 19/100\n",
      "33952/33952 [==============================] - 3s 82us/sample - loss: 859.5927 - mean_absolute_error: 859.5924 - mean_squared_error: 6203626.5000 - val_loss: 903.2684 - val_mean_absolute_error: 903.2684 - val_mean_squared_error: 5992673.0000\n",
      "Epoch 20/100\n",
      "33952/33952 [==============================] - 3s 88us/sample - loss: 859.2903 - mean_absolute_error: 859.2900 - mean_squared_error: 6304152.0000 - val_loss: 748.7200 - val_mean_absolute_error: 748.7199 - val_mean_squared_error: 4152548.2500\n",
      "Epoch 21/100\n",
      "33952/33952 [==============================] - 3s 81us/sample - loss: 873.1283 - mean_absolute_error: 873.1284 - mean_squared_error: 6709663.5000 - val_loss: 1001.4994 - val_mean_absolute_error: 1001.4993 - val_mean_squared_error: 8914888.0000\n",
      "Epoch 22/100\n",
      "33952/33952 [==============================] - 3s 86us/sample - loss: 954.1174 - mean_absolute_error: 954.1177 - mean_squared_error: 6381850.5000 - val_loss: 1398.7501 - val_mean_absolute_error: 1398.7502 - val_mean_squared_error: 11992710.0000\n",
      "Epoch 23/100\n",
      "33952/33952 [==============================] - 3s 91us/sample - loss: 1111.6012 - mean_absolute_error: 1111.6007 - mean_squared_error: 7659017.5000 - val_loss: 1110.0868 - val_mean_absolute_error: 1110.0868 - val_mean_squared_error: 9568581.0000\n",
      "Epoch 24/100\n",
      "33952/33952 [==============================] - 3s 87us/sample - loss: 892.4710 - mean_absolute_error: 892.4712 - mean_squared_error: 6563131.0000 - val_loss: 941.6072 - val_mean_absolute_error: 941.6072 - val_mean_squared_error: 8019457.5000\n",
      "Epoch 25/100\n",
      "33952/33952 [==============================] - 3s 96us/sample - loss: 926.8423 - mean_absolute_error: 926.8425 - mean_squared_error: 7271968.0000 - val_loss: 770.1725 - val_mean_absolute_error: 770.1725 - val_mean_squared_error: 5228879.5000\n",
      "Epoch 26/100\n",
      "33952/33952 [==============================] - 3s 95us/sample - loss: 882.3809 - mean_absolute_error: 882.3806 - mean_squared_error: 6601084.0000 - val_loss: 781.8465 - val_mean_absolute_error: 781.8466 - val_mean_squared_error: 5106649.5000\n",
      "Epoch 27/100\n",
      "33952/33952 [==============================] - 3s 86us/sample - loss: 872.0633 - mean_absolute_error: 872.0630 - mean_squared_error: 6533355.0000 - val_loss: 769.7531 - val_mean_absolute_error: 769.7531 - val_mean_squared_error: 4553826.5000\n",
      "Epoch 28/100\n",
      "33952/33952 [==============================] - 3s 87us/sample - loss: 830.1204 - mean_absolute_error: 830.1203 - mean_squared_error: 5701919.0000 - val_loss: 764.4551 - val_mean_absolute_error: 764.4551 - val_mean_squared_error: 4357688.0000\n",
      "Epoch 29/100\n",
      "33952/33952 [==============================] - 3s 85us/sample - loss: 799.7724 - mean_absolute_error: 799.7723 - mean_squared_error: 5323247.5000 - val_loss: 1783.4297 - val_mean_absolute_error: 1783.4297 - val_mean_squared_error: 26364312.0000\n",
      "Epoch 30/100\n",
      "33952/33952 [==============================] - 3s 88us/sample - loss: 860.8531 - mean_absolute_error: 860.8531 - mean_squared_error: 6250908.0000 - val_loss: 1295.7087 - val_mean_absolute_error: 1295.7087 - val_mean_squared_error: 11450422.0000\n",
      "Epoch 31/100\n",
      "33952/33952 [==============================] - 3s 88us/sample - loss: 857.0230 - mean_absolute_error: 857.0229 - mean_squared_error: 6443315.5000 - val_loss: 1010.5659 - val_mean_absolute_error: 1010.5659 - val_mean_squared_error: 7339679.0000\n",
      "Epoch 32/100\n",
      "33952/33952 [==============================] - 3s 85us/sample - loss: 827.3801 - mean_absolute_error: 827.3801 - mean_squared_error: 5764993.5000 - val_loss: 763.9841 - val_mean_absolute_error: 763.9839 - val_mean_squared_error: 4331529.0000\n"
     ]
    },
    {
     "name": "stdout",
     "output_type": "stream",
     "text": [
      "Epoch 33/100\n",
      "33952/33952 [==============================] - 3s 84us/sample - loss: 811.7569 - mean_absolute_error: 811.7569 - mean_squared_error: 5465725.0000 - val_loss: 932.4060 - val_mean_absolute_error: 932.4060 - val_mean_squared_error: 6783590.5000\n",
      "Epoch 34/100\n",
      "33952/33952 [==============================] - 3s 87us/sample - loss: 890.0681 - mean_absolute_error: 890.0682 - mean_squared_error: 6943616.0000 - val_loss: 729.3941 - val_mean_absolute_error: 729.3939 - val_mean_squared_error: 4270035.0000\n",
      "Epoch 35/100\n",
      "33952/33952 [==============================] - 3s 85us/sample - loss: 834.3313 - mean_absolute_error: 834.3314 - mean_squared_error: 5815100.5000 - val_loss: 735.8634 - val_mean_absolute_error: 735.8633 - val_mean_squared_error: 3994178.5000\n",
      "Epoch 36/100\n",
      "33952/33952 [==============================] - 3s 84us/sample - loss: 844.0835 - mean_absolute_error: 844.0837 - mean_squared_error: 6267672.5000 - val_loss: 684.0964 - val_mean_absolute_error: 684.0965 - val_mean_squared_error: 3829293.5000\n",
      "Epoch 37/100\n",
      "33952/33952 [==============================] - 3s 91us/sample - loss: 825.4713 - mean_absolute_error: 825.4710 - mean_squared_error: 5816246.5000 - val_loss: 731.3252 - val_mean_absolute_error: 731.3252 - val_mean_squared_error: 4158197.2500\n",
      "Epoch 38/100\n",
      "33952/33952 [==============================] - 3s 88us/sample - loss: 808.8888 - mean_absolute_error: 808.8886 - mean_squared_error: 5490079.0000 - val_loss: 688.5615 - val_mean_absolute_error: 688.5617 - val_mean_squared_error: 3698905.5000\n",
      "Epoch 39/100\n",
      "33952/33952 [==============================] - 3s 88us/sample - loss: 835.0320 - mean_absolute_error: 835.0322 - mean_squared_error: 6011499.0000 - val_loss: 874.1404 - val_mean_absolute_error: 874.1402 - val_mean_squared_error: 6276501.0000\n",
      "Epoch 40/100\n",
      "33952/33952 [==============================] - 3s 86us/sample - loss: 849.2787 - mean_absolute_error: 849.2789 - mean_squared_error: 6367503.0000 - val_loss: 1193.0122 - val_mean_absolute_error: 1193.0121 - val_mean_squared_error: 13060996.0000\n",
      "Epoch 41/100\n",
      "33952/33952 [==============================] - 3s 83us/sample - loss: 776.9920 - mean_absolute_error: 776.9918 - mean_squared_error: 5072387.5000 - val_loss: 864.0332 - val_mean_absolute_error: 864.0331 - val_mean_squared_error: 6321431.0000\n",
      "Epoch 42/100\n",
      "33952/33952 [==============================] - 3s 87us/sample - loss: 813.9615 - mean_absolute_error: 813.9619 - mean_squared_error: 5555865.0000 - val_loss: 1165.1201 - val_mean_absolute_error: 1165.1202 - val_mean_squared_error: 10003969.0000\n",
      "Epoch 43/100\n",
      "33952/33952 [==============================] - 3s 84us/sample - loss: 781.5129 - mean_absolute_error: 781.5124 - mean_squared_error: 5145430.5000 - val_loss: 700.2033 - val_mean_absolute_error: 700.2032 - val_mean_squared_error: 4107456.0000\n",
      "Epoch 44/100\n",
      "33952/33952 [==============================] - 3s 84us/sample - loss: 847.7026 - mean_absolute_error: 847.7025 - mean_squared_error: 6429124.5000 - val_loss: 701.1115 - val_mean_absolute_error: 701.1114 - val_mean_squared_error: 3715128.2500\n",
      "Epoch 45/100\n",
      "33952/33952 [==============================] - 3s 83us/sample - loss: 765.1654 - mean_absolute_error: 765.1654 - mean_squared_error: 4982369.5000 - val_loss: 733.1412 - val_mean_absolute_error: 733.1412 - val_mean_squared_error: 3791606.7500\n",
      "Epoch 46/100\n",
      "33952/33952 [==============================] - 3s 86us/sample - loss: 763.7158 - mean_absolute_error: 763.7158 - mean_squared_error: 4866818.0000 - val_loss: 738.7211 - val_mean_absolute_error: 738.7209 - val_mean_squared_error: 4139814.2500\n",
      "Epoch 47/100\n",
      "33952/33952 [==============================] - 3s 85us/sample - loss: 896.8823 - mean_absolute_error: 896.8825 - mean_squared_error: 7091128.5000 - val_loss: 673.9228 - val_mean_absolute_error: 673.9229 - val_mean_squared_error: 3602093.2500\n",
      "Epoch 48/100\n",
      "33952/33952 [==============================] - 3s 93us/sample - loss: 773.3264 - mean_absolute_error: 773.3264 - mean_squared_error: 5153613.5000 - val_loss: 678.5421 - val_mean_absolute_error: 678.5422 - val_mean_squared_error: 3811848.5000\n",
      "Epoch 49/100\n",
      "33952/33952 [==============================] - 3s 95us/sample - loss: 745.2382 - mean_absolute_error: 745.2382 - mean_squared_error: 4658133.0000 - val_loss: 852.4382 - val_mean_absolute_error: 852.4383 - val_mean_squared_error: 5453827.0000\n",
      "Epoch 50/100\n",
      "33952/33952 [==============================] - 3s 100us/sample - loss: 829.4793 - mean_absolute_error: 829.4791 - mean_squared_error: 5939762.0000 - val_loss: 738.2997 - val_mean_absolute_error: 738.2997 - val_mean_squared_error: 4428545.0000\n",
      "Epoch 51/100\n",
      "33952/33952 [==============================] - 3s 95us/sample - loss: 774.2174 - mean_absolute_error: 774.2178 - mean_squared_error: 5206446.5000 - val_loss: 774.7750 - val_mean_absolute_error: 774.7750 - val_mean_squared_error: 4680208.0000\n",
      "Epoch 52/100\n",
      "33952/33952 [==============================] - 3s 95us/sample - loss: 768.4388 - mean_absolute_error: 768.4385 - mean_squared_error: 5055930.0000 - val_loss: 713.3286 - val_mean_absolute_error: 713.3287 - val_mean_squared_error: 3732535.5000\n",
      "Epoch 53/100\n",
      "33952/33952 [==============================] - 3s 85us/sample - loss: 783.8622 - mean_absolute_error: 783.8623 - mean_squared_error: 5355916.0000 - val_loss: 763.2194 - val_mean_absolute_error: 763.2195 - val_mean_squared_error: 3817192.0000\n",
      "Epoch 54/100\n",
      "33952/33952 [==============================] - 3s 94us/sample - loss: 822.8774 - mean_absolute_error: 822.8776 - mean_squared_error: 5979921.5000 - val_loss: 899.7570 - val_mean_absolute_error: 899.7570 - val_mean_squared_error: 7446221.5000\n",
      "Epoch 55/100\n",
      "33952/33952 [==============================] - 3s 88us/sample - loss: 763.1778 - mean_absolute_error: 763.1776 - mean_squared_error: 5024517.0000 - val_loss: 686.9938 - val_mean_absolute_error: 686.9937 - val_mean_squared_error: 3635136.2500\n",
      "Epoch 56/100\n",
      "33952/33952 [==============================] - 3s 85us/sample - loss: 793.6729 - mean_absolute_error: 793.6731 - mean_squared_error: 5399003.0000 - val_loss: 681.3568 - val_mean_absolute_error: 681.3570 - val_mean_squared_error: 3677916.2500\n",
      "Epoch 57/100\n",
      "33952/33952 [==============================] - 3s 86us/sample - loss: 767.9810 - mean_absolute_error: 767.9810 - mean_squared_error: 5020064.5000 - val_loss: 733.6265 - val_mean_absolute_error: 733.6264 - val_mean_squared_error: 4010220.5000\n",
      "Epoch 58/100\n",
      "33952/33952 [==============================] - 3s 83us/sample - loss: 762.5014 - mean_absolute_error: 762.5014 - mean_squared_error: 4936280.5000 - val_loss: 762.4894 - val_mean_absolute_error: 762.4893 - val_mean_squared_error: 3739378.0000\n",
      "Epoch 59/100\n",
      "33952/33952 [==============================] - 3s 83us/sample - loss: 780.6731 - mean_absolute_error: 780.6729 - mean_squared_error: 5174997.5000 - val_loss: 835.2858 - val_mean_absolute_error: 835.2858 - val_mean_squared_error: 6161643.5000\n",
      "Epoch 60/100\n",
      "33952/33952 [==============================] - 3s 83us/sample - loss: 784.3297 - mean_absolute_error: 784.3295 - mean_squared_error: 5416647.0000 - val_loss: 696.0999 - val_mean_absolute_error: 696.1000 - val_mean_squared_error: 3724663.2500\n",
      "Epoch 61/100\n",
      "33952/33952 [==============================] - 3s 93us/sample - loss: 757.2331 - mean_absolute_error: 757.2333 - mean_squared_error: 4850593.0000 - val_loss: 758.3515 - val_mean_absolute_error: 758.3513 - val_mean_squared_error: 3700814.5000\n",
      "Epoch 62/100\n",
      "33952/33952 [==============================] - 3s 93us/sample - loss: 807.6099 - mean_absolute_error: 807.6102 - mean_squared_error: 5817236.5000 - val_loss: 923.1628 - val_mean_absolute_error: 923.1627 - val_mean_squared_error: 8237201.0000\n",
      "Epoch 63/100\n",
      "33952/33952 [==============================] - 3s 89us/sample - loss: 830.7489 - mean_absolute_error: 830.7491 - mean_squared_error: 6560877.0000 - val_loss: 682.9444 - val_mean_absolute_error: 682.9446 - val_mean_squared_error: 3378661.7500\n",
      "Epoch 64/100\n",
      "33952/33952 [==============================] - 3s 85us/sample - loss: 769.7411 - mean_absolute_error: 769.7410 - mean_squared_error: 5068478.0000 - val_loss: 954.3530 - val_mean_absolute_error: 954.3531 - val_mean_squared_error: 5326557.0000\n",
      "Epoch 65/100\n",
      "33952/33952 [==============================] - 3s 84us/sample - loss: 746.1783 - mean_absolute_error: 746.1783 - mean_squared_error: 4567397.0000 - val_loss: 817.5483 - val_mean_absolute_error: 817.5482 - val_mean_squared_error: 5355648.5000\n",
      "Epoch 66/100\n",
      "33952/33952 [==============================] - 3s 84us/sample - loss: 736.7157 - mean_absolute_error: 736.7155 - mean_squared_error: 4638265.5000 - val_loss: 722.7300 - val_mean_absolute_error: 722.7300 - val_mean_squared_error: 4024211.7500\n",
      "Epoch 67/100\n",
      "33952/33952 [==============================] - 3s 85us/sample - loss: 757.2569 - mean_absolute_error: 757.2567 - mean_squared_error: 4883820.5000 - val_loss: 645.6476 - val_mean_absolute_error: 645.6476 - val_mean_squared_error: 3258720.0000\n",
      "Epoch 68/100\n",
      "33952/33952 [==============================] - 3s 84us/sample - loss: 751.7885 - mean_absolute_error: 751.7885 - mean_squared_error: 4705726.5000 - val_loss: 734.2213 - val_mean_absolute_error: 734.2213 - val_mean_squared_error: 3983626.5000\n",
      "Epoch 69/100\n",
      "33952/33952 [==============================] - 3s 84us/sample - loss: 758.9325 - mean_absolute_error: 758.9323 - mean_squared_error: 4949692.0000 - val_loss: 665.5063 - val_mean_absolute_error: 665.5060 - val_mean_squared_error: 3483449.5000\n",
      "Epoch 70/100\n",
      "33952/33952 [==============================] - 3s 84us/sample - loss: 796.7792 - mean_absolute_error: 796.7794 - mean_squared_error: 5499498.5000 - val_loss: 686.4219 - val_mean_absolute_error: 686.4218 - val_mean_squared_error: 3608763.2500\n",
      "Epoch 71/100\n",
      "33952/33952 [==============================] - 3s 91us/sample - loss: 745.2615 - mean_absolute_error: 745.2612 - mean_squared_error: 4853933.0000 - val_loss: 699.4241 - val_mean_absolute_error: 699.4243 - val_mean_squared_error: 3836668.5000\n",
      "Epoch 72/100\n",
      "33952/33952 [==============================] - 3s 87us/sample - loss: 768.5282 - mean_absolute_error: 768.5282 - mean_squared_error: 5062651.0000 - val_loss: 647.4437 - val_mean_absolute_error: 647.4437 - val_mean_squared_error: 3284514.5000\n",
      "Epoch 73/100\n",
      "33952/33952 [==============================] - 3s 89us/sample - loss: 744.9585 - mean_absolute_error: 744.9585 - mean_squared_error: 4925023.0000 - val_loss: 724.3153 - val_mean_absolute_error: 724.3151 - val_mean_squared_error: 4273682.5000\n",
      "Epoch 74/100\n",
      "33952/33952 [==============================] - 3s 90us/sample - loss: 719.5893 - mean_absolute_error: 719.5893 - mean_squared_error: 4419686.5000 - val_loss: 815.8416 - val_mean_absolute_error: 815.8414 - val_mean_squared_error: 5230011.0000\n",
      "Epoch 75/100\n",
      "33952/33952 [==============================] - 3s 90us/sample - loss: 727.9114 - mean_absolute_error: 727.9113 - mean_squared_error: 4437732.5000 - val_loss: 666.0693 - val_mean_absolute_error: 666.0694 - val_mean_squared_error: 3758075.0000\n",
      "Epoch 76/100\n",
      "33952/33952 [==============================] - 3s 91us/sample - loss: 755.4247 - mean_absolute_error: 755.4249 - mean_squared_error: 4868163.0000 - val_loss: 645.4394 - val_mean_absolute_error: 645.4395 - val_mean_squared_error: 3258107.2500\n",
      "Epoch 77/100\n",
      "33952/33952 [==============================] - 3s 93us/sample - loss: 712.4589 - mean_absolute_error: 712.4590 - mean_squared_error: 4255664.0000 - val_loss: 1035.6572 - val_mean_absolute_error: 1035.6572 - val_mean_squared_error: 7865479.5000\n",
      "Epoch 78/100\n",
      "33952/33952 [==============================] - 3s 87us/sample - loss: 706.5419 - mean_absolute_error: 706.5421 - mean_squared_error: 4122593.0000 - val_loss: 674.5832 - val_mean_absolute_error: 674.5834 - val_mean_squared_error: 3850168.7500\n",
      "Epoch 79/100\n",
      "33952/33952 [==============================] - 3s 87us/sample - loss: 713.3865 - mean_absolute_error: 713.3860 - mean_squared_error: 4367868.5000 - val_loss: 962.5586 - val_mean_absolute_error: 962.5587 - val_mean_squared_error: 9200236.0000\n",
      "Epoch 80/100\n",
      "33952/33952 [==============================] - 3s 92us/sample - loss: 700.3199 - mean_absolute_error: 700.3195 - mean_squared_error: 4223094.0000 - val_loss: 644.9868 - val_mean_absolute_error: 644.9869 - val_mean_squared_error: 3186629.7500\n",
      "Epoch 81/100\n",
      "33952/33952 [==============================] - 3s 95us/sample - loss: 716.6571 - mean_absolute_error: 716.6572 - mean_squared_error: 4198979.5000 - val_loss: 1046.0360 - val_mean_absolute_error: 1046.0359 - val_mean_squared_error: 10669378.0000\n",
      "Epoch 82/100\n",
      "33952/33952 [==============================] - 3s 92us/sample - loss: 732.4069 - mean_absolute_error: 732.4069 - mean_squared_error: 4531899.5000 - val_loss: 727.5930 - val_mean_absolute_error: 727.5928 - val_mean_squared_error: 3576871.0000\n",
      "Epoch 83/100\n",
      "33952/33952 [==============================] - 3s 102us/sample - loss: 747.1075 - mean_absolute_error: 747.1075 - mean_squared_error: 4631743.0000 - val_loss: 950.9798 - val_mean_absolute_error: 950.9797 - val_mean_squared_error: 10398397.0000\n",
      "Epoch 84/100\n",
      "33952/33952 [==============================] - 3s 99us/sample - loss: 739.8160 - mean_absolute_error: 739.8165 - mean_squared_error: 4945542.5000 - val_loss: 980.7586 - val_mean_absolute_error: 980.7586 - val_mean_squared_error: 6415958.0000\n",
      "Epoch 85/100\n",
      "33952/33952 [==============================] - 3s 94us/sample - loss: 736.8931 - mean_absolute_error: 736.8928 - mean_squared_error: 4648392.0000 - val_loss: 674.3557 - val_mean_absolute_error: 674.3556 - val_mean_squared_error: 3701272.2500\n",
      "Epoch 86/100\n",
      "33952/33952 [==============================] - 3s 97us/sample - loss: 711.5708 - mean_absolute_error: 711.5710 - mean_squared_error: 4383095.5000 - val_loss: 639.3402 - val_mean_absolute_error: 639.3403 - val_mean_squared_error: 3250040.7500\n",
      "Epoch 87/100\n",
      "33952/33952 [==============================] - 3s 96us/sample - loss: 704.4699 - mean_absolute_error: 704.4700 - mean_squared_error: 4233333.5000 - val_loss: 650.7010 - val_mean_absolute_error: 650.7010 - val_mean_squared_error: 3253876.5000\n",
      "Epoch 88/100\n",
      "33952/33952 [==============================] - 3s 100us/sample - loss: 720.7231 - mean_absolute_error: 720.7233 - mean_squared_error: 4420448.5000 - val_loss: 764.0509 - val_mean_absolute_error: 764.0511 - val_mean_squared_error: 4102616.5000\n",
      "Epoch 89/100\n",
      "33952/33952 [==============================] - 3s 97us/sample - loss: 698.7713 - mean_absolute_error: 698.7711 - mean_squared_error: 4172014.0000 - val_loss: 653.9670 - val_mean_absolute_error: 653.9670 - val_mean_squared_error: 3358675.2500\n",
      "Epoch 90/100\n",
      "33952/33952 [==============================] - 3s 97us/sample - loss: 718.0941 - mean_absolute_error: 718.0945 - mean_squared_error: 4364990.0000 - val_loss: 648.6574 - val_mean_absolute_error: 648.6574 - val_mean_squared_error: 3609922.0000\n",
      "Epoch 91/100\n",
      "33952/33952 [==============================] - 3s 92us/sample - loss: 685.5849 - mean_absolute_error: 685.5844 - mean_squared_error: 3840272.0000 - val_loss: 672.8557 - val_mean_absolute_error: 672.8558 - val_mean_squared_error: 3567097.7500\n",
      "Epoch 92/100\n",
      "33952/33952 [==============================] - 3s 91us/sample - loss: 729.0755 - mean_absolute_error: 729.0757 - mean_squared_error: 4502273.0000 - val_loss: 747.4372 - val_mean_absolute_error: 747.4372 - val_mean_squared_error: 4396979.0000\n",
      "Epoch 93/100\n",
      "33952/33952 [==============================] - 3s 93us/sample - loss: 692.2051 - mean_absolute_error: 692.2050 - mean_squared_error: 4005437.2500 - val_loss: 647.6432 - val_mean_absolute_error: 647.6432 - val_mean_squared_error: 3278362.7500\n",
      "Epoch 94/100\n",
      "33952/33952 [==============================] - 3s 93us/sample - loss: 680.9231 - mean_absolute_error: 680.9230 - mean_squared_error: 3885750.2500 - val_loss: 655.6582 - val_mean_absolute_error: 655.6583 - val_mean_squared_error: 3503100.5000\n",
      "Epoch 95/100\n",
      "33952/33952 [==============================] - 3s 91us/sample - loss: 692.5648 - mean_absolute_error: 692.5649 - mean_squared_error: 3936322.2500 - val_loss: 648.3550 - val_mean_absolute_error: 648.3551 - val_mean_squared_error: 3384216.2500\n",
      "Epoch 96/100\n",
      "33952/33952 [==============================] - 3s 92us/sample - loss: 693.9767 - mean_absolute_error: 693.9766 - mean_squared_error: 4141537.0000 - val_loss: 630.0245 - val_mean_absolute_error: 630.0244 - val_mean_squared_error: 3181719.5000\n",
      "Epoch 97/100\n"
     ]
    },
    {
     "name": "stdout",
     "output_type": "stream",
     "text": [
      "33952/33952 [==============================] - 3s 93us/sample - loss: 696.2818 - mean_absolute_error: 696.2817 - mean_squared_error: 4442396.0000 - val_loss: 673.0055 - val_mean_absolute_error: 673.0054 - val_mean_squared_error: 3242643.7500\n",
      "Epoch 98/100\n",
      "33952/33952 [==============================] - 3s 92us/sample - loss: 671.8157 - mean_absolute_error: 671.8158 - mean_squared_error: 3784678.0000 - val_loss: 676.2167 - val_mean_absolute_error: 676.2167 - val_mean_squared_error: 3455310.5000\n",
      "Epoch 99/100\n",
      "33952/33952 [==============================] - 3s 92us/sample - loss: 693.3760 - mean_absolute_error: 693.3759 - mean_squared_error: 3987606.2500 - val_loss: 608.2897 - val_mean_absolute_error: 608.2897 - val_mean_squared_error: 3103071.2500\n",
      "Epoch 100/100\n",
      "33952/33952 [==============================] - 3s 97us/sample - loss: 690.2684 - mean_absolute_error: 690.2684 - mean_squared_error: 4139932.5000 - val_loss: 638.7411 - val_mean_absolute_error: 638.7411 - val_mean_squared_error: 3644931.2500\n"
     ]
    }
   ],
   "source": [
    "ep = 100\n",
    "history = model.fit(x_train_norm,\n",
    "                    y_train,\n",
    "                    epochs          = ep,\n",
    "                    batch_size = 100, \n",
    "                    verbose         = 1,\n",
    "                    validation_data = (x_test_norm, y_test))"
   ]
  },
  {
   "cell_type": "markdown",
   "metadata": {},
   "source": [
    "## Step 6 - Evaluate\n",
    "### 6.1 - Model evaluation\n",
    "MAE =  Mean Absolute Error (between the labels and predictions)  \n"
   ]
  },
  {
   "cell_type": "markdown",
   "metadata": {},
   "source": [
    "### 6.2 - Training history\n",
    "What was the best result during our training ?"
   ]
  },
  {
   "cell_type": "code",
   "execution_count": 29,
   "metadata": {},
   "outputs": [
    {
     "data": {
      "text/html": [
       "<style  type=\"text/css\" >\n",
       "</style><table id=\"T_f871c91c_84ad_11eb_a98e_1063c865dcde\" ><caption>Début du training:</caption><thead>    <tr>        <th class=\"blank level0\" ></th>        <th class=\"col_heading level0 col0\" >loss</th>        <th class=\"col_heading level0 col1\" >mean_absolute_error</th>        <th class=\"col_heading level0 col2\" >mean_squared_error</th>        <th class=\"col_heading level0 col3\" >val_loss</th>        <th class=\"col_heading level0 col4\" >val_mean_absolute_error</th>        <th class=\"col_heading level0 col5\" >val_mean_squared_error</th>    </tr></thead><tbody>\n",
       "                <tr>\n",
       "                        <th id=\"T_f871c91c_84ad_11eb_a98e_1063c865dcdelevel0_row0\" class=\"row_heading level0 row0\" >0</th>\n",
       "                        <td id=\"T_f871c91c_84ad_11eb_a98e_1063c865dcderow0_col0\" class=\"data row0 col0\" >1673.14</td>\n",
       "                        <td id=\"T_f871c91c_84ad_11eb_a98e_1063c865dcderow0_col1\" class=\"data row0 col1\" >1673.14</td>\n",
       "                        <td id=\"T_f871c91c_84ad_11eb_a98e_1063c865dcderow0_col2\" class=\"data row0 col2\" >25635612.00</td>\n",
       "                        <td id=\"T_f871c91c_84ad_11eb_a98e_1063c865dcderow0_col3\" class=\"data row0 col3\" >946.16</td>\n",
       "                        <td id=\"T_f871c91c_84ad_11eb_a98e_1063c865dcderow0_col4\" class=\"data row0 col4\" >946.16</td>\n",
       "                        <td id=\"T_f871c91c_84ad_11eb_a98e_1063c865dcderow0_col5\" class=\"data row0 col5\" >6333414.00</td>\n",
       "            </tr>\n",
       "            <tr>\n",
       "                        <th id=\"T_f871c91c_84ad_11eb_a98e_1063c865dcdelevel0_row1\" class=\"row_heading level0 row1\" >1</th>\n",
       "                        <td id=\"T_f871c91c_84ad_11eb_a98e_1063c865dcderow1_col0\" class=\"data row1 col0\" >1053.59</td>\n",
       "                        <td id=\"T_f871c91c_84ad_11eb_a98e_1063c865dcderow1_col1\" class=\"data row1 col1\" >1053.59</td>\n",
       "                        <td id=\"T_f871c91c_84ad_11eb_a98e_1063c865dcderow1_col2\" class=\"data row1 col2\" >8751402.00</td>\n",
       "                        <td id=\"T_f871c91c_84ad_11eb_a98e_1063c865dcderow1_col3\" class=\"data row1 col3\" >1790.92</td>\n",
       "                        <td id=\"T_f871c91c_84ad_11eb_a98e_1063c865dcderow1_col4\" class=\"data row1 col4\" >1790.92</td>\n",
       "                        <td id=\"T_f871c91c_84ad_11eb_a98e_1063c865dcderow1_col5\" class=\"data row1 col5\" >26364044.00</td>\n",
       "            </tr>\n",
       "            <tr>\n",
       "                        <th id=\"T_f871c91c_84ad_11eb_a98e_1063c865dcdelevel0_row2\" class=\"row_heading level0 row2\" >2</th>\n",
       "                        <td id=\"T_f871c91c_84ad_11eb_a98e_1063c865dcderow2_col0\" class=\"data row2 col0\" >1256.00</td>\n",
       "                        <td id=\"T_f871c91c_84ad_11eb_a98e_1063c865dcderow2_col1\" class=\"data row2 col1\" >1256.00</td>\n",
       "                        <td id=\"T_f871c91c_84ad_11eb_a98e_1063c865dcderow2_col2\" class=\"data row2 col2\" >13598924.00</td>\n",
       "                        <td id=\"T_f871c91c_84ad_11eb_a98e_1063c865dcderow2_col3\" class=\"data row2 col3\" >850.68</td>\n",
       "                        <td id=\"T_f871c91c_84ad_11eb_a98e_1063c865dcderow2_col4\" class=\"data row2 col4\" >850.68</td>\n",
       "                        <td id=\"T_f871c91c_84ad_11eb_a98e_1063c865dcderow2_col5\" class=\"data row2 col5\" >5272452.00</td>\n",
       "            </tr>\n",
       "            <tr>\n",
       "                        <th id=\"T_f871c91c_84ad_11eb_a98e_1063c865dcdelevel0_row3\" class=\"row_heading level0 row3\" >3</th>\n",
       "                        <td id=\"T_f871c91c_84ad_11eb_a98e_1063c865dcderow3_col0\" class=\"data row3 col0\" >928.67</td>\n",
       "                        <td id=\"T_f871c91c_84ad_11eb_a98e_1063c865dcderow3_col1\" class=\"data row3 col1\" >928.67</td>\n",
       "                        <td id=\"T_f871c91c_84ad_11eb_a98e_1063c865dcderow3_col2\" class=\"data row3 col2\" >6949348.50</td>\n",
       "                        <td id=\"T_f871c91c_84ad_11eb_a98e_1063c865dcderow3_col3\" class=\"data row3 col3\" >1377.77</td>\n",
       "                        <td id=\"T_f871c91c_84ad_11eb_a98e_1063c865dcderow3_col4\" class=\"data row3 col4\" >1377.77</td>\n",
       "                        <td id=\"T_f871c91c_84ad_11eb_a98e_1063c865dcderow3_col5\" class=\"data row3 col5\" >18330836.00</td>\n",
       "            </tr>\n",
       "            <tr>\n",
       "                        <th id=\"T_f871c91c_84ad_11eb_a98e_1063c865dcdelevel0_row4\" class=\"row_heading level0 row4\" >4</th>\n",
       "                        <td id=\"T_f871c91c_84ad_11eb_a98e_1063c865dcderow4_col0\" class=\"data row4 col0\" >1089.60</td>\n",
       "                        <td id=\"T_f871c91c_84ad_11eb_a98e_1063c865dcderow4_col1\" class=\"data row4 col1\" >1089.60</td>\n",
       "                        <td id=\"T_f871c91c_84ad_11eb_a98e_1063c865dcderow4_col2\" class=\"data row4 col2\" >10489496.00</td>\n",
       "                        <td id=\"T_f871c91c_84ad_11eb_a98e_1063c865dcderow4_col3\" class=\"data row4 col3\" >853.01</td>\n",
       "                        <td id=\"T_f871c91c_84ad_11eb_a98e_1063c865dcderow4_col4\" class=\"data row4 col4\" >853.01</td>\n",
       "                        <td id=\"T_f871c91c_84ad_11eb_a98e_1063c865dcderow4_col5\" class=\"data row4 col5\" >5937038.50</td>\n",
       "            </tr>\n",
       "    </tbody></table>"
      ],
      "text/plain": [
       "<pandas.io.formats.style.Styler at 0x27f1c9bfec8>"
      ]
     },
     "metadata": {},
     "output_type": "display_data"
    },
    {
     "data": {
      "text/html": [
       "<style  type=\"text/css\" >\n",
       "</style><table id=\"T_f8726506_84ad_11eb_9168_1063c865dcde\" ><caption>Fin du training :</caption><thead>    <tr>        <th class=\"blank level0\" ></th>        <th class=\"col_heading level0 col0\" >loss</th>        <th class=\"col_heading level0 col1\" >mean_absolute_error</th>        <th class=\"col_heading level0 col2\" >mean_squared_error</th>        <th class=\"col_heading level0 col3\" >val_loss</th>        <th class=\"col_heading level0 col4\" >val_mean_absolute_error</th>        <th class=\"col_heading level0 col5\" >val_mean_squared_error</th>    </tr></thead><tbody>\n",
       "                <tr>\n",
       "                        <th id=\"T_f8726506_84ad_11eb_9168_1063c865dcdelevel0_row0\" class=\"row_heading level0 row0\" >95</th>\n",
       "                        <td id=\"T_f8726506_84ad_11eb_9168_1063c865dcderow0_col0\" class=\"data row0 col0\" >693.98</td>\n",
       "                        <td id=\"T_f8726506_84ad_11eb_9168_1063c865dcderow0_col1\" class=\"data row0 col1\" >693.98</td>\n",
       "                        <td id=\"T_f8726506_84ad_11eb_9168_1063c865dcderow0_col2\" class=\"data row0 col2\" >4141537.00</td>\n",
       "                        <td id=\"T_f8726506_84ad_11eb_9168_1063c865dcderow0_col3\" class=\"data row0 col3\" >630.02</td>\n",
       "                        <td id=\"T_f8726506_84ad_11eb_9168_1063c865dcderow0_col4\" class=\"data row0 col4\" >630.02</td>\n",
       "                        <td id=\"T_f8726506_84ad_11eb_9168_1063c865dcderow0_col5\" class=\"data row0 col5\" >3181719.50</td>\n",
       "            </tr>\n",
       "            <tr>\n",
       "                        <th id=\"T_f8726506_84ad_11eb_9168_1063c865dcdelevel0_row1\" class=\"row_heading level0 row1\" >96</th>\n",
       "                        <td id=\"T_f8726506_84ad_11eb_9168_1063c865dcderow1_col0\" class=\"data row1 col0\" >696.28</td>\n",
       "                        <td id=\"T_f8726506_84ad_11eb_9168_1063c865dcderow1_col1\" class=\"data row1 col1\" >696.28</td>\n",
       "                        <td id=\"T_f8726506_84ad_11eb_9168_1063c865dcderow1_col2\" class=\"data row1 col2\" >4442396.00</td>\n",
       "                        <td id=\"T_f8726506_84ad_11eb_9168_1063c865dcderow1_col3\" class=\"data row1 col3\" >673.01</td>\n",
       "                        <td id=\"T_f8726506_84ad_11eb_9168_1063c865dcderow1_col4\" class=\"data row1 col4\" >673.01</td>\n",
       "                        <td id=\"T_f8726506_84ad_11eb_9168_1063c865dcderow1_col5\" class=\"data row1 col5\" >3242643.75</td>\n",
       "            </tr>\n",
       "            <tr>\n",
       "                        <th id=\"T_f8726506_84ad_11eb_9168_1063c865dcdelevel0_row2\" class=\"row_heading level0 row2\" >97</th>\n",
       "                        <td id=\"T_f8726506_84ad_11eb_9168_1063c865dcderow2_col0\" class=\"data row2 col0\" >671.82</td>\n",
       "                        <td id=\"T_f8726506_84ad_11eb_9168_1063c865dcderow2_col1\" class=\"data row2 col1\" >671.82</td>\n",
       "                        <td id=\"T_f8726506_84ad_11eb_9168_1063c865dcderow2_col2\" class=\"data row2 col2\" >3784678.00</td>\n",
       "                        <td id=\"T_f8726506_84ad_11eb_9168_1063c865dcderow2_col3\" class=\"data row2 col3\" >676.22</td>\n",
       "                        <td id=\"T_f8726506_84ad_11eb_9168_1063c865dcderow2_col4\" class=\"data row2 col4\" >676.22</td>\n",
       "                        <td id=\"T_f8726506_84ad_11eb_9168_1063c865dcderow2_col5\" class=\"data row2 col5\" >3455310.50</td>\n",
       "            </tr>\n",
       "            <tr>\n",
       "                        <th id=\"T_f8726506_84ad_11eb_9168_1063c865dcdelevel0_row3\" class=\"row_heading level0 row3\" >98</th>\n",
       "                        <td id=\"T_f8726506_84ad_11eb_9168_1063c865dcderow3_col0\" class=\"data row3 col0\" >693.38</td>\n",
       "                        <td id=\"T_f8726506_84ad_11eb_9168_1063c865dcderow3_col1\" class=\"data row3 col1\" >693.38</td>\n",
       "                        <td id=\"T_f8726506_84ad_11eb_9168_1063c865dcderow3_col2\" class=\"data row3 col2\" >3987606.25</td>\n",
       "                        <td id=\"T_f8726506_84ad_11eb_9168_1063c865dcderow3_col3\" class=\"data row3 col3\" >608.29</td>\n",
       "                        <td id=\"T_f8726506_84ad_11eb_9168_1063c865dcderow3_col4\" class=\"data row3 col4\" >608.29</td>\n",
       "                        <td id=\"T_f8726506_84ad_11eb_9168_1063c865dcderow3_col5\" class=\"data row3 col5\" >3103071.25</td>\n",
       "            </tr>\n",
       "            <tr>\n",
       "                        <th id=\"T_f8726506_84ad_11eb_9168_1063c865dcdelevel0_row4\" class=\"row_heading level0 row4\" >99</th>\n",
       "                        <td id=\"T_f8726506_84ad_11eb_9168_1063c865dcderow4_col0\" class=\"data row4 col0\" >690.27</td>\n",
       "                        <td id=\"T_f8726506_84ad_11eb_9168_1063c865dcderow4_col1\" class=\"data row4 col1\" >690.27</td>\n",
       "                        <td id=\"T_f8726506_84ad_11eb_9168_1063c865dcderow4_col2\" class=\"data row4 col2\" >4139932.50</td>\n",
       "                        <td id=\"T_f8726506_84ad_11eb_9168_1063c865dcderow4_col3\" class=\"data row4 col3\" >638.74</td>\n",
       "                        <td id=\"T_f8726506_84ad_11eb_9168_1063c865dcderow4_col4\" class=\"data row4 col4\" >638.74</td>\n",
       "                        <td id=\"T_f8726506_84ad_11eb_9168_1063c865dcderow4_col5\" class=\"data row4 col5\" >3644931.25</td>\n",
       "            </tr>\n",
       "    </tbody></table>"
      ],
      "text/plain": [
       "<pandas.io.formats.style.Styler at 0x27f1c59ea88>"
      ]
     },
     "metadata": {},
     "output_type": "display_data"
    }
   ],
   "source": [
    "df=pd.DataFrame(data=history.history)\n",
    "display(df.head().style.format(\"{0:.2f}\").set_caption(\"Début du training:\"))\n",
    "display(df.tail().style.format(\"{0:.2f}\").set_caption(\"Fin du training :\"))"
   ]
  },
  {
   "cell_type": "code",
   "execution_count": 30,
   "metadata": {},
   "outputs": [
    {
     "data": {
      "image/png": "[encoded data removed]",
      "text/plain": [
       "<Figure size 432x288 with 1 Axes>"
      ]
     },
     "metadata": {
      "needs_background": "light"
     },
     "output_type": "display_data"
    },
    {
     "data": {
      "image/png": "[encoded data removed]",
      "text/plain": [
       "<Figure size 432x288 with 1 Axes>"
      ]
     },
     "metadata": {
      "needs_background": "light"
     },
     "output_type": "display_data"
    },
    {
     "data": {
      "image/png": "[encoded data removed]",
      "text/plain": [
       "<Figure size 432x288 with 1 Axes>"
      ]
     },
     "metadata": {
      "needs_background": "light"
     },
     "output_type": "display_data"
    },
    {
     "ename": "KeyError",
     "evalue": "'nRMSE'",
     "output_type": "error",
     "traceback": [
      "\u001b[1;31m---------------------------------------------------------------------------\u001b[0m",
      "\u001b[1;31mKeyError\u001b[0m                                  Traceback (most recent call last)",
      "\u001b[1;32m~\\Anaconda3\\lib\\site-packages\\pandas\\core\\indexes\\base.py\u001b[0m in \u001b[0;36mget_loc\u001b[1;34m(self, key, method, tolerance)\u001b[0m\n\u001b[0;32m   2645\u001b[0m             \u001b[1;32mtry\u001b[0m\u001b[1;33m:\u001b[0m\u001b[1;33m\u001b[0m\u001b[1;33m\u001b[0m\u001b[0m\n\u001b[1;32m-> 2646\u001b[1;33m                 \u001b[1;32mreturn\u001b[0m \u001b[0mself\u001b[0m\u001b[1;33m.\u001b[0m\u001b[0m_engine\u001b[0m\u001b[1;33m.\u001b[0m\u001b[0mget_loc\u001b[0m\u001b[1;33m(\u001b[0m\u001b[0mkey\u001b[0m\u001b[1;33m)\u001b[0m\u001b[1;33m\u001b[0m\u001b[1;33m\u001b[0m\u001b[0m\n\u001b[0m\u001b[0;32m   2647\u001b[0m             \u001b[1;32mexcept\u001b[0m \u001b[0mKeyError\u001b[0m\u001b[1;33m:\u001b[0m\u001b[1;33m\u001b[0m\u001b[1;33m\u001b[0m\u001b[0m\n",
      "\u001b[1;32mpandas\\_libs\\index.pyx\u001b[0m in \u001b[0;36mpandas._libs.index.IndexEngine.get_loc\u001b[1;34m()\u001b[0m\n",
      "\u001b[1;32mpandas\\_libs\\index.pyx\u001b[0m in \u001b[0;36mpandas._libs.index.IndexEngine.get_loc\u001b[1;34m()\u001b[0m\n",
      "\u001b[1;32mpandas\\_libs\\hashtable_class_helper.pxi\u001b[0m in \u001b[0;36mpandas._libs.hashtable.PyObjectHashTable.get_item\u001b[1;34m()\u001b[0m\n",
      "\u001b[1;32mpandas\\_libs\\hashtable_class_helper.pxi\u001b[0m in \u001b[0;36mpandas._libs.hashtable.PyObjectHashTable.get_item\u001b[1;34m()\u001b[0m\n",
      "\u001b[1;31mKeyError\u001b[0m: 'nRMSE'",
      "\nDuring handling of the above exception, another exception occurred:\n",
      "\u001b[1;31mKeyError\u001b[0m                                  Traceback (most recent call last)",
      "\u001b[1;32m<ipython-input-30-021df4037a6c>\u001b[0m in \u001b[0;36m<module>\u001b[1;34m\u001b[0m\n\u001b[0;32m     24\u001b[0m \u001b[0mplt\u001b[0m\u001b[1;33m.\u001b[0m\u001b[0mshow\u001b[0m\u001b[1;33m(\u001b[0m\u001b[1;33m)\u001b[0m\u001b[1;33m\u001b[0m\u001b[1;33m\u001b[0m\u001b[0m\n\u001b[0;32m     25\u001b[0m \u001b[1;33m\u001b[0m\u001b[0m\n\u001b[1;32m---> 26\u001b[1;33m \u001b[0mplt\u001b[0m\u001b[1;33m.\u001b[0m\u001b[0mplot\u001b[0m\u001b[1;33m(\u001b[0m\u001b[0mdf\u001b[0m\u001b[1;33m[\u001b[0m\u001b[1;34m'nRMSE'\u001b[0m\u001b[1;33m]\u001b[0m\u001b[1;33m,\u001b[0m\u001b[1;34m'r'\u001b[0m\u001b[1;33m)\u001b[0m\u001b[1;33m\u001b[0m\u001b[1;33m\u001b[0m\u001b[0m\n\u001b[0m\u001b[0;32m     27\u001b[0m \u001b[0mplt\u001b[0m\u001b[1;33m.\u001b[0m\u001b[0mtitle\u001b[0m\u001b[1;33m(\u001b[0m\u001b[1;34m'nRMSE'\u001b[0m\u001b[1;33m)\u001b[0m\u001b[1;33m\u001b[0m\u001b[1;33m\u001b[0m\u001b[0m\n\u001b[0;32m     28\u001b[0m \u001b[0mplt\u001b[0m\u001b[1;33m.\u001b[0m\u001b[0mxlabel\u001b[0m\u001b[1;33m(\u001b[0m\u001b[1;34m'Epochs'\u001b[0m\u001b[1;33m)\u001b[0m\u001b[1;33m\u001b[0m\u001b[1;33m\u001b[0m\u001b[0m\n",
      "\u001b[1;32m~\\Anaconda3\\lib\\site-packages\\pandas\\core\\frame.py\u001b[0m in \u001b[0;36m__getitem__\u001b[1;34m(self, key)\u001b[0m\n\u001b[0;32m   2798\u001b[0m             \u001b[1;32mif\u001b[0m \u001b[0mself\u001b[0m\u001b[1;33m.\u001b[0m\u001b[0mcolumns\u001b[0m\u001b[1;33m.\u001b[0m\u001b[0mnlevels\u001b[0m \u001b[1;33m>\u001b[0m \u001b[1;36m1\u001b[0m\u001b[1;33m:\u001b[0m\u001b[1;33m\u001b[0m\u001b[1;33m\u001b[0m\u001b[0m\n\u001b[0;32m   2799\u001b[0m                 \u001b[1;32mreturn\u001b[0m \u001b[0mself\u001b[0m\u001b[1;33m.\u001b[0m\u001b[0m_getitem_multilevel\u001b[0m\u001b[1;33m(\u001b[0m\u001b[0mkey\u001b[0m\u001b[1;33m)\u001b[0m\u001b[1;33m\u001b[0m\u001b[1;33m\u001b[0m\u001b[0m\n\u001b[1;32m-> 2800\u001b[1;33m             \u001b[0mindexer\u001b[0m \u001b[1;33m=\u001b[0m \u001b[0mself\u001b[0m\u001b[1;33m.\u001b[0m\u001b[0mcolumns\u001b[0m\u001b[1;33m.\u001b[0m\u001b[0mget_loc\u001b[0m\u001b[1;33m(\u001b[0m\u001b[0mkey\u001b[0m\u001b[1;33m)\u001b[0m\u001b[1;33m\u001b[0m\u001b[1;33m\u001b[0m\u001b[0m\n\u001b[0m\u001b[0;32m   2801\u001b[0m             \u001b[1;32mif\u001b[0m \u001b[0mis_integer\u001b[0m\u001b[1;33m(\u001b[0m\u001b[0mindexer\u001b[0m\u001b[1;33m)\u001b[0m\u001b[1;33m:\u001b[0m\u001b[1;33m\u001b[0m\u001b[1;33m\u001b[0m\u001b[0m\n\u001b[0;32m   2802\u001b[0m                 \u001b[0mindexer\u001b[0m \u001b[1;33m=\u001b[0m \u001b[1;33m[\u001b[0m\u001b[0mindexer\u001b[0m\u001b[1;33m]\u001b[0m\u001b[1;33m\u001b[0m\u001b[1;33m\u001b[0m\u001b[0m\n",
      "\u001b[1;32m~\\Anaconda3\\lib\\site-packages\\pandas\\core\\indexes\\base.py\u001b[0m in \u001b[0;36mget_loc\u001b[1;34m(self, key, method, tolerance)\u001b[0m\n\u001b[0;32m   2646\u001b[0m                 \u001b[1;32mreturn\u001b[0m \u001b[0mself\u001b[0m\u001b[1;33m.\u001b[0m\u001b[0m_engine\u001b[0m\u001b[1;33m.\u001b[0m\u001b[0mget_loc\u001b[0m\u001b[1;33m(\u001b[0m\u001b[0mkey\u001b[0m\u001b[1;33m)\u001b[0m\u001b[1;33m\u001b[0m\u001b[1;33m\u001b[0m\u001b[0m\n\u001b[0;32m   2647\u001b[0m             \u001b[1;32mexcept\u001b[0m \u001b[0mKeyError\u001b[0m\u001b[1;33m:\u001b[0m\u001b[1;33m\u001b[0m\u001b[1;33m\u001b[0m\u001b[0m\n\u001b[1;32m-> 2648\u001b[1;33m                 \u001b[1;32mreturn\u001b[0m \u001b[0mself\u001b[0m\u001b[1;33m.\u001b[0m\u001b[0m_engine\u001b[0m\u001b[1;33m.\u001b[0m\u001b[0mget_loc\u001b[0m\u001b[1;33m(\u001b[0m\u001b[0mself\u001b[0m\u001b[1;33m.\u001b[0m\u001b[0m_maybe_cast_indexer\u001b[0m\u001b[1;33m(\u001b[0m\u001b[0mkey\u001b[0m\u001b[1;33m)\u001b[0m\u001b[1;33m)\u001b[0m\u001b[1;33m\u001b[0m\u001b[1;33m\u001b[0m\u001b[0m\n\u001b[0m\u001b[0;32m   2649\u001b[0m         \u001b[0mindexer\u001b[0m \u001b[1;33m=\u001b[0m \u001b[0mself\u001b[0m\u001b[1;33m.\u001b[0m\u001b[0mget_indexer\u001b[0m\u001b[1;33m(\u001b[0m\u001b[1;33m[\u001b[0m\u001b[0mkey\u001b[0m\u001b[1;33m]\u001b[0m\u001b[1;33m,\u001b[0m \u001b[0mmethod\u001b[0m\u001b[1;33m=\u001b[0m\u001b[0mmethod\u001b[0m\u001b[1;33m,\u001b[0m \u001b[0mtolerance\u001b[0m\u001b[1;33m=\u001b[0m\u001b[0mtolerance\u001b[0m\u001b[1;33m)\u001b[0m\u001b[1;33m\u001b[0m\u001b[1;33m\u001b[0m\u001b[0m\n\u001b[0;32m   2650\u001b[0m         \u001b[1;32mif\u001b[0m \u001b[0mindexer\u001b[0m\u001b[1;33m.\u001b[0m\u001b[0mndim\u001b[0m \u001b[1;33m>\u001b[0m \u001b[1;36m1\u001b[0m \u001b[1;32mor\u001b[0m \u001b[0mindexer\u001b[0m\u001b[1;33m.\u001b[0m\u001b[0msize\u001b[0m \u001b[1;33m>\u001b[0m \u001b[1;36m1\u001b[0m\u001b[1;33m:\u001b[0m\u001b[1;33m\u001b[0m\u001b[1;33m\u001b[0m\u001b[0m\n",
      "\u001b[1;32mpandas\\_libs\\index.pyx\u001b[0m in \u001b[0;36mpandas._libs.index.IndexEngine.get_loc\u001b[1;34m()\u001b[0m\n",
      "\u001b[1;32mpandas\\_libs\\index.pyx\u001b[0m in \u001b[0;36mpandas._libs.index.IndexEngine.get_loc\u001b[1;34m()\u001b[0m\n",
      "\u001b[1;32mpandas\\_libs\\hashtable_class_helper.pxi\u001b[0m in \u001b[0;36mpandas._libs.hashtable.PyObjectHashTable.get_item\u001b[1;34m()\u001b[0m\n",
      "\u001b[1;32mpandas\\_libs\\hashtable_class_helper.pxi\u001b[0m in \u001b[0;36mpandas._libs.hashtable.PyObjectHashTable.get_item\u001b[1;34m()\u001b[0m\n",
      "\u001b[1;31mKeyError\u001b[0m: 'nRMSE'"
     ]
    }
   ],
   "source": [
    "plt.plot(df['mean_squared_error'],'r')\n",
    "plt.title('MSE')\n",
    "plt.xlabel('Epochs')\n",
    "plt.axhline(np.mean(y_train**2)*0.04,ls='--',label='y = ' + str(0.04*np.mean(y_train**2)))\n",
    "plt.axhline(np.mean(y_train**2)*0.15**2,ls='--',label='y = ' + str(0.15**2*np.mean(y_train**2)))\n",
    "plt.legend()\n",
    "plt.grid()\n",
    "plt.show()\n",
    "\n",
    "plt.plot(df['mean_absolute_error'],'r')\n",
    "plt.title('MAE')\n",
    "plt.xlabel('Epochs')\n",
    "plt.axhline(0.2*np.mean(y_train),ls='--',label='y = ' +str(0.2*np.mean(y_train)))\n",
    "plt.axhline(0.15*np.mean(y_train),ls='--',label='y = ' +str(0.15*np.mean(y_train)))\n",
    "plt.legend()\n",
    "plt.grid()\n",
    "plt.show()\n",
    "\n",
    "plt.plot(df['mean_absolute_error']/np.mean(y_train),'r') # MAPE\n",
    "plt.axhline(0.20,ls='--',label='y = 0.2')\n",
    "plt.grid()\n",
    "plt.title('Moyenne des erreurs absolues en % (MAPE)')\n",
    "plt.legend()\n",
    "plt.show()\n",
    "\n",
    "\"\"\"\"\n",
    "\n",
    "plt.plot(df['nRMSE'],'r')\n",
    "plt.title('nRMSE')\n",
    "plt.xlabel('Epochs')\n",
    "plt.legend()\n",
    "plt.grid()\n",
    "plt.show()\n",
    "\n",
    "plt.plot(df['NSE'],'r')\n",
    "plt.title('NSE')\n",
    "plt.xlabel('Epochs')\n",
    "plt.legend()\n",
    "plt.grid()\n",
    "plt.show()\n",
    "\n",
    "plt.plot(df['KGE'],'r')\n",
    "plt.title('KGE')\n",
    "plt.xlabel('Epochs')\n",
    "plt.legend()\n",
    "plt.grid()\n",
    "plt.show()\n",
    "\n",
    "plt.plot(df['R2'],'r')\n",
    "plt.title('R2')\n",
    "plt.xlabel('Epochs')\n",
    "plt.legend()\n",
    "plt.grid()\n",
    "plt.show()\"\"\""
   ]
  },
  {
   "cell_type": "code",
   "execution_count": 31,
   "metadata": {},
   "outputs": [
    {
     "data": {
      "image/png": "[encoded data removed]",
      "text/plain": [
       "<Figure size 720x720 with 1 Axes>"
      ]
     },
     "metadata": {
      "needs_background": "light"
     },
     "output_type": "display_data"
    },
    {
     "name": "stdout",
     "output_type": "stream",
     "text": [
      "prédiction dans les 30% : 80.97313854853911 %\n",
      "prédiction dans les 20% : 69.89868049010367 %\n",
      "prédiction dans les 15% : 60.57964184731385 %\n",
      "prédiction dans les 10% : 45.84118755890669 %\n"
     ]
    }
   ],
   "source": [
    "plt.figure(figsize=(10,10))\n",
    "Qpred = model.predict(x_test_norm)\n",
    "plt.plot(y_test,Qpred,'bo',label='Prédictions sur test')\n",
    "x = np.arange(0,100000)\n",
    "plt.plot(x,x,'r')\n",
    "#plt.plot(x,x+0.20*x,'--g')\n",
    "#plt.plot(x,x-0.20*x,'--g')\n",
    "plt.legend()\n",
    "plt.grid()\n",
    "plt.show()\n",
    "\n",
    "cont30 = 0\n",
    "cont20 = 0\n",
    "cont15 = 0\n",
    "cont10 = 0\n",
    "for i in range(0,Qpred.shape[0]):\n",
    "    if Qpred[i] > 0.7*y_test[i] and Qpred[i]<1.3*y_test[i]:\n",
    "        cont30+=1\n",
    "    if Qpred[i] > 0.8*y_test[i] and Qpred[i]<1.2*y_test[i]:\n",
    "        cont20+=1\n",
    "    if Qpred[i] > 0.85*y_test[i] and Qpred[i]<1.15*y_test[i]:\n",
    "        cont15+=1\n",
    "    if Qpred[i] > 0.9*y_test[i] and Qpred[i]<1.1*y_test[i]:\n",
    "        cont10+=1\n",
    "print(\"prédiction dans les 30% :\" ,cont30*100/Qpred.shape[0], '%')        \n",
    "print(\"prédiction dans les 20% :\" ,cont20*100/Qpred.shape[0], '%')\n",
    "print(\"prédiction dans les 15% :\" ,cont15*100/Qpred.shape[0], '%')\n",
    "print(\"prédiction dans les 10% :\" ,cont10*100/Qpred.shape[0], '%')"
   ]
  },
  {
   "cell_type": "code",
   "execution_count": 32,
   "metadata": {},
   "outputs": [
    {
     "data": {
      "image/png": "[encoded data removed]",
      "text/plain": [
       "<Figure size 1080x504 with 1 Axes>"
      ]
     },
     "metadata": {
      "needs_background": "light"
     },
     "output_type": "display_data"
    }
   ],
   "source": [
    "yt = y_test.reshape(y_test.shape[0],1)\n",
    "plt.figure(figsize=(15,7))\n",
    "plt.hist(((model.predict(x_test_norm)-yt)/yt),bins=100)\n",
    "plt.ylim(0,50)\n",
    "plt.show()"
   ]
  },
  {
   "cell_type": "code",
   "execution_count": 33,
   "metadata": {},
   "outputs": [
    {
     "ename": "KeyError",
     "evalue": "'river'",
     "output_type": "error",
     "traceback": [
      "\u001b[1;31m---------------------------------------------------------------------------\u001b[0m",
      "\u001b[1;31mKeyError\u001b[0m                                  Traceback (most recent call last)",
      "\u001b[1;32m~\\Anaconda3\\lib\\site-packages\\pandas\\core\\indexes\\base.py\u001b[0m in \u001b[0;36mget_loc\u001b[1;34m(self, key, method, tolerance)\u001b[0m\n\u001b[0;32m   2645\u001b[0m             \u001b[1;32mtry\u001b[0m\u001b[1;33m:\u001b[0m\u001b[1;33m\u001b[0m\u001b[1;33m\u001b[0m\u001b[0m\n\u001b[1;32m-> 2646\u001b[1;33m                 \u001b[1;32mreturn\u001b[0m \u001b[0mself\u001b[0m\u001b[1;33m.\u001b[0m\u001b[0m_engine\u001b[0m\u001b[1;33m.\u001b[0m\u001b[0mget_loc\u001b[0m\u001b[1;33m(\u001b[0m\u001b[0mkey\u001b[0m\u001b[1;33m)\u001b[0m\u001b[1;33m\u001b[0m\u001b[1;33m\u001b[0m\u001b[0m\n\u001b[0m\u001b[0;32m   2647\u001b[0m             \u001b[1;32mexcept\u001b[0m \u001b[0mKeyError\u001b[0m\u001b[1;33m:\u001b[0m\u001b[1;33m\u001b[0m\u001b[1;33m\u001b[0m\u001b[0m\n",
      "\u001b[1;32mpandas\\_libs\\index.pyx\u001b[0m in \u001b[0;36mpandas._libs.index.IndexEngine.get_loc\u001b[1;34m()\u001b[0m\n",
      "\u001b[1;32mpandas\\_libs\\index.pyx\u001b[0m in \u001b[0;36mpandas._libs.index.IndexEngine.get_loc\u001b[1;34m()\u001b[0m\n",
      "\u001b[1;32mpandas\\_libs\\hashtable_class_helper.pxi\u001b[0m in \u001b[0;36mpandas._libs.hashtable.PyObjectHashTable.get_item\u001b[1;34m()\u001b[0m\n",
      "\u001b[1;32mpandas\\_libs\\hashtable_class_helper.pxi\u001b[0m in \u001b[0;36mpandas._libs.hashtable.PyObjectHashTable.get_item\u001b[1;34m()\u001b[0m\n",
      "\u001b[1;31mKeyError\u001b[0m: 'river'",
      "\nDuring handling of the above exception, another exception occurred:\n",
      "\u001b[1;31mKeyError\u001b[0m                                  Traceback (most recent call last)",
      "\u001b[1;32m<ipython-input-33-86c49951f441>\u001b[0m in \u001b[0;36m<module>\u001b[1;34m\u001b[0m\n\u001b[1;32m----> 1\u001b[1;33m \u001b[0mprint\u001b[0m\u001b[1;33m(\u001b[0m\u001b[0mdata_river\u001b[0m\u001b[1;33m[\u001b[0m\u001b[1;34m\"river\"\u001b[0m\u001b[1;33m]\u001b[0m\u001b[1;33m.\u001b[0m\u001b[0munique\u001b[0m\u001b[1;33m(\u001b[0m\u001b[1;33m)\u001b[0m\u001b[1;33m)\u001b[0m\u001b[1;33m\u001b[0m\u001b[1;33m\u001b[0m\u001b[0m\n\u001b[0m",
      "\u001b[1;32m~\\Anaconda3\\lib\\site-packages\\pandas\\core\\frame.py\u001b[0m in \u001b[0;36m__getitem__\u001b[1;34m(self, key)\u001b[0m\n\u001b[0;32m   2798\u001b[0m             \u001b[1;32mif\u001b[0m \u001b[0mself\u001b[0m\u001b[1;33m.\u001b[0m\u001b[0mcolumns\u001b[0m\u001b[1;33m.\u001b[0m\u001b[0mnlevels\u001b[0m \u001b[1;33m>\u001b[0m \u001b[1;36m1\u001b[0m\u001b[1;33m:\u001b[0m\u001b[1;33m\u001b[0m\u001b[1;33m\u001b[0m\u001b[0m\n\u001b[0;32m   2799\u001b[0m                 \u001b[1;32mreturn\u001b[0m \u001b[0mself\u001b[0m\u001b[1;33m.\u001b[0m\u001b[0m_getitem_multilevel\u001b[0m\u001b[1;33m(\u001b[0m\u001b[0mkey\u001b[0m\u001b[1;33m)\u001b[0m\u001b[1;33m\u001b[0m\u001b[1;33m\u001b[0m\u001b[0m\n\u001b[1;32m-> 2800\u001b[1;33m             \u001b[0mindexer\u001b[0m \u001b[1;33m=\u001b[0m \u001b[0mself\u001b[0m\u001b[1;33m.\u001b[0m\u001b[0mcolumns\u001b[0m\u001b[1;33m.\u001b[0m\u001b[0mget_loc\u001b[0m\u001b[1;33m(\u001b[0m\u001b[0mkey\u001b[0m\u001b[1;33m)\u001b[0m\u001b[1;33m\u001b[0m\u001b[1;33m\u001b[0m\u001b[0m\n\u001b[0m\u001b[0;32m   2801\u001b[0m             \u001b[1;32mif\u001b[0m \u001b[0mis_integer\u001b[0m\u001b[1;33m(\u001b[0m\u001b[0mindexer\u001b[0m\u001b[1;33m)\u001b[0m\u001b[1;33m:\u001b[0m\u001b[1;33m\u001b[0m\u001b[1;33m\u001b[0m\u001b[0m\n\u001b[0;32m   2802\u001b[0m                 \u001b[0mindexer\u001b[0m \u001b[1;33m=\u001b[0m \u001b[1;33m[\u001b[0m\u001b[0mindexer\u001b[0m\u001b[1;33m]\u001b[0m\u001b[1;33m\u001b[0m\u001b[1;33m\u001b[0m\u001b[0m\n",
      "\u001b[1;32m~\\Anaconda3\\lib\\site-packages\\pandas\\core\\indexes\\base.py\u001b[0m in \u001b[0;36mget_loc\u001b[1;34m(self, key, method, tolerance)\u001b[0m\n\u001b[0;32m   2646\u001b[0m                 \u001b[1;32mreturn\u001b[0m \u001b[0mself\u001b[0m\u001b[1;33m.\u001b[0m\u001b[0m_engine\u001b[0m\u001b[1;33m.\u001b[0m\u001b[0mget_loc\u001b[0m\u001b[1;33m(\u001b[0m\u001b[0mkey\u001b[0m\u001b[1;33m)\u001b[0m\u001b[1;33m\u001b[0m\u001b[1;33m\u001b[0m\u001b[0m\n\u001b[0;32m   2647\u001b[0m             \u001b[1;32mexcept\u001b[0m \u001b[0mKeyError\u001b[0m\u001b[1;33m:\u001b[0m\u001b[1;33m\u001b[0m\u001b[1;33m\u001b[0m\u001b[0m\n\u001b[1;32m-> 2648\u001b[1;33m                 \u001b[1;32mreturn\u001b[0m \u001b[0mself\u001b[0m\u001b[1;33m.\u001b[0m\u001b[0m_engine\u001b[0m\u001b[1;33m.\u001b[0m\u001b[0mget_loc\u001b[0m\u001b[1;33m(\u001b[0m\u001b[0mself\u001b[0m\u001b[1;33m.\u001b[0m\u001b[0m_maybe_cast_indexer\u001b[0m\u001b[1;33m(\u001b[0m\u001b[0mkey\u001b[0m\u001b[1;33m)\u001b[0m\u001b[1;33m)\u001b[0m\u001b[1;33m\u001b[0m\u001b[1;33m\u001b[0m\u001b[0m\n\u001b[0m\u001b[0;32m   2649\u001b[0m         \u001b[0mindexer\u001b[0m \u001b[1;33m=\u001b[0m \u001b[0mself\u001b[0m\u001b[1;33m.\u001b[0m\u001b[0mget_indexer\u001b[0m\u001b[1;33m(\u001b[0m\u001b[1;33m[\u001b[0m\u001b[0mkey\u001b[0m\u001b[1;33m]\u001b[0m\u001b[1;33m,\u001b[0m \u001b[0mmethod\u001b[0m\u001b[1;33m=\u001b[0m\u001b[0mmethod\u001b[0m\u001b[1;33m,\u001b[0m \u001b[0mtolerance\u001b[0m\u001b[1;33m=\u001b[0m\u001b[0mtolerance\u001b[0m\u001b[1;33m)\u001b[0m\u001b[1;33m\u001b[0m\u001b[1;33m\u001b[0m\u001b[0m\n\u001b[0;32m   2650\u001b[0m         \u001b[1;32mif\u001b[0m \u001b[0mindexer\u001b[0m\u001b[1;33m.\u001b[0m\u001b[0mndim\u001b[0m \u001b[1;33m>\u001b[0m \u001b[1;36m1\u001b[0m \u001b[1;32mor\u001b[0m \u001b[0mindexer\u001b[0m\u001b[1;33m.\u001b[0m\u001b[0msize\u001b[0m \u001b[1;33m>\u001b[0m \u001b[1;36m1\u001b[0m\u001b[1;33m:\u001b[0m\u001b[1;33m\u001b[0m\u001b[1;33m\u001b[0m\u001b[0m\n",
      "\u001b[1;32mpandas\\_libs\\index.pyx\u001b[0m in \u001b[0;36mpandas._libs.index.IndexEngine.get_loc\u001b[1;34m()\u001b[0m\n",
      "\u001b[1;32mpandas\\_libs\\index.pyx\u001b[0m in \u001b[0;36mpandas._libs.index.IndexEngine.get_loc\u001b[1;34m()\u001b[0m\n",
      "\u001b[1;32mpandas\\_libs\\hashtable_class_helper.pxi\u001b[0m in \u001b[0;36mpandas._libs.hashtable.PyObjectHashTable.get_item\u001b[1;34m()\u001b[0m\n",
      "\u001b[1;32mpandas\\_libs\\hashtable_class_helper.pxi\u001b[0m in \u001b[0;36mpandas._libs.hashtable.PyObjectHashTable.get_item\u001b[1;34m()\u001b[0m\n",
      "\u001b[1;31mKeyError\u001b[0m: 'river'"
     ]
    }
   ],
   "source": [
    "print(data[\"river\"].unique())"
   ]
  },
  {
   "cell_type": "code",
   "execution_count": null,
   "metadata": {},
   "outputs": [],
   "source": [
    "river_garonne = data_river[data_river[\"river\"] == \"Po\"]\n",
    "reach_data = river_garonne[river_garonne[\"reach\"] ==3]\n",
    "\n",
    "to_drop = ['U','Fr','alpha','beta','Abar','A0','K',\n",
    "           'S','A','height','meandwave','sinuosity','lon','lat','reach','Q','day','river']\n",
    "\n",
    "data = reach_data.drop(to_drop,axis=1)\n",
    "data = (data - mean)/std\n",
    "\n",
    "Qrp = reach_data[\"Q\"]\n",
    "Qpred = model.predict(data)\n",
    "\n",
    "x = np.arange(0,Qrp.shape[0])\n",
    "plt.figure(figsize=(15,5))\n",
    "\n",
    "plt.plot(x,Qpred,'.b',label='ANN')\n",
    "plt.plot(x,Qrp, 'r-',label='Target')\n",
    "#plt.plot(x,Qrp+0.20*Qrp,'g--')\n",
    "#plt.plot(x,Qrp-0.20*Qrp,'g--')\n",
    "plt.legend()\n",
    "plt.show()\n",
    "\n",
    "cont = 0\n",
    "a = Qrp.index[0]\n",
    "for i in range(0,Qpred.shape[0]):\n",
    "    if i+a in Qrp.index:\n",
    "        if Qpred[i] > 0.8*Qrp[i+a] and Qpred[i]<1.2*Qrp[i+a]:\n",
    "            cont+=1\n",
    "            \n",
    "print(cont*100/Qpred.shape[0], '%')"
   ]
  },
  {
   "cell_type": "code",
   "execution_count": null,
   "metadata": {},
   "outputs": [],
   "source": [
    "#print(Qpred.reshape(1,np.shape(Qpred)[0])[0])\n",
    "plt.plot((Qpred.reshape(1,np.shape(Qpred)[0])[0] -Qrp))"
   ]
  },
  {
   "cell_type": "markdown",
   "metadata": {},
   "source": [
    "Remarque : \n",
    "\n",
    "   - Avec toutes les données, on observe des valeurs aberrantes : vers +250 (250 000% d'erreur). Cela peut s'expliquer par la présence d'une rivière avec un très faible débit. \n",
    "\n",
    "   - Lorsqu'on enlève les débits <70, on a perdu environ 19% des données, on observe moins le phénomène des valeurs aberrantes. ( max : 15 ). \n",
    "    \n",
    "   -  Lorsqu'on enlève les débits <100, on a perdu environ 26% des données, le max est maintenant de 6. \n",
    "    \n",
    "Avec des valeurs de débits assez grandes, on arrive à limiter l'erreur relative"
   ]
  },
  {
   "cell_type": "markdown",
   "metadata": {},
   "source": [
    "## Save the model"
   ]
  },
  {
   "cell_type": "code",
   "execution_count": null,
   "metadata": {},
   "outputs": [],
   "source": [
    "model.save('../Models/model_'+str(n_layers)+'_'+str(n_neurons)+'_'+str(ep))"
   ]
  }
 ],
 "metadata": {
  "kernelspec": {
   "display_name": "Python 3",
   "language": "python",
   "name": "python3"
  },
  "language_info": {
   "codemirror_mode": {
    "name": "ipython",
    "version": 3
   },
   "file_extension": ".py",
   "mimetype": "text/x-python",
   "name": "python",
   "nbconvert_exporter": "python",
   "pygments_lexer": "ipython3",
   "version": "3.7.6"
  }
 },
 "nbformat": 4,
 "nbformat_minor": 4
}
