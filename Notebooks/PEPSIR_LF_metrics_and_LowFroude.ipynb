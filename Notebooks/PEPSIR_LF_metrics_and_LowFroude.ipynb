{
 "cells": [
  {
   "cell_type": "code",
   "execution_count": 3,
   "metadata": {},
   "outputs": [],
   "source": [
    "import numpy as np\n",
    "import pandas as pd\n",
    "import matplotlib.pyplot as plt\n",
    "from scipy.stats import linregress"
   ]
  },
  {
   "cell_type": "code",
   "execution_count": 4,
   "metadata": {},
   "outputs": [],
   "source": [
    "data = pd.read_csv(\"../databases/PEPSIR_raw_LF_perfect.csv\", sep=\";\")"
   ]
  },
  {
   "cell_type": "code",
   "execution_count": 5,
   "metadata": {},
   "outputs": [
    {
     "data": {
      "text/html": [
       "<div>\n",
       "<style scoped>\n",
       "    .dataframe tbody tr th:only-of-type {\n",
       "        vertical-align: middle;\n",
       "    }\n",
       "\n",
       "    .dataframe tbody tr th {\n",
       "        vertical-align: top;\n",
       "    }\n",
       "\n",
       "    .dataframe thead th {\n",
       "        text-align: right;\n",
       "    }\n",
       "</style>\n",
       "<table border=\"1\" class=\"dataframe\">\n",
       "  <thead>\n",
       "    <tr style=\"text-align: right;\">\n",
       "      <th></th>\n",
       "      <th>river</th>\n",
       "      <th>day</th>\n",
       "      <th>reach</th>\n",
       "      <th>lon</th>\n",
       "      <th>lat</th>\n",
       "      <th>flowacc</th>\n",
       "      <th>sinuosity</th>\n",
       "      <th>meandwave</th>\n",
       "      <th>height</th>\n",
       "      <th>W</th>\n",
       "      <th>...</th>\n",
       "      <th>S</th>\n",
       "      <th>dA</th>\n",
       "      <th>K</th>\n",
       "      <th>A0</th>\n",
       "      <th>Abar</th>\n",
       "      <th>alpha</th>\n",
       "      <th>beta</th>\n",
       "      <th>Fr</th>\n",
       "      <th>U</th>\n",
       "      <th>Q</th>\n",
       "    </tr>\n",
       "  </thead>\n",
       "  <tbody>\n",
       "    <tr>\n",
       "      <th>0</th>\n",
       "      <td>Connecticut</td>\n",
       "      <td>1</td>\n",
       "      <td>1</td>\n",
       "      <td>-72.611298</td>\n",
       "      <td>41.959</td>\n",
       "      <td>25078.300781</td>\n",
       "      <td>1.079975</td>\n",
       "      <td>1260.057129</td>\n",
       "      <td>26.306667</td>\n",
       "      <td>475.403333</td>\n",
       "      <td>...</td>\n",
       "      <td>0.001768</td>\n",
       "      <td>541.200050</td>\n",
       "      <td>12.808404</td>\n",
       "      <td>515.403333</td>\n",
       "      <td>821.447783</td>\n",
       "      <td>10.945707</td>\n",
       "      <td>0.225114</td>\n",
       "      <td>0.217360</td>\n",
       "      <td>0.965178</td>\n",
       "      <td>922.263333</td>\n",
       "    </tr>\n",
       "    <tr>\n",
       "      <th>1</th>\n",
       "      <td>Connecticut</td>\n",
       "      <td>2</td>\n",
       "      <td>1</td>\n",
       "      <td>-72.611298</td>\n",
       "      <td>41.959</td>\n",
       "      <td>25078.300781</td>\n",
       "      <td>1.079975</td>\n",
       "      <td>1260.057129</td>\n",
       "      <td>25.960000</td>\n",
       "      <td>443.906667</td>\n",
       "      <td>...</td>\n",
       "      <td>0.001606</td>\n",
       "      <td>381.870528</td>\n",
       "      <td>12.586607</td>\n",
       "      <td>515.403333</td>\n",
       "      <td>821.447783</td>\n",
       "      <td>10.945707</td>\n",
       "      <td>0.225114</td>\n",
       "      <td>0.165027</td>\n",
       "      <td>0.704906</td>\n",
       "      <td>581.980000</td>\n",
       "    </tr>\n",
       "    <tr>\n",
       "      <th>2</th>\n",
       "      <td>Connecticut</td>\n",
       "      <td>3</td>\n",
       "      <td>1</td>\n",
       "      <td>-72.611298</td>\n",
       "      <td>41.959</td>\n",
       "      <td>25078.300781</td>\n",
       "      <td>1.079975</td>\n",
       "      <td>1260.057129</td>\n",
       "      <td>25.810000</td>\n",
       "      <td>427.006667</td>\n",
       "      <td>...</td>\n",
       "      <td>0.001539</td>\n",
       "      <td>316.600322</td>\n",
       "      <td>12.513133</td>\n",
       "      <td>515.403333</td>\n",
       "      <td>821.447783</td>\n",
       "      <td>10.945707</td>\n",
       "      <td>0.225114</td>\n",
       "      <td>0.141175</td>\n",
       "      <td>0.595232</td>\n",
       "      <td>460.586667</td>\n",
       "    </tr>\n",
       "    <tr>\n",
       "      <th>3</th>\n",
       "      <td>Connecticut</td>\n",
       "      <td>4</td>\n",
       "      <td>1</td>\n",
       "      <td>-72.611298</td>\n",
       "      <td>41.959</td>\n",
       "      <td>25078.300781</td>\n",
       "      <td>1.079975</td>\n",
       "      <td>1260.057129</td>\n",
       "      <td>25.776667</td>\n",
       "      <td>423.786667</td>\n",
       "      <td>...</td>\n",
       "      <td>0.001521</td>\n",
       "      <td>302.424628</td>\n",
       "      <td>12.499948</td>\n",
       "      <td>515.403333</td>\n",
       "      <td>821.447783</td>\n",
       "      <td>10.945707</td>\n",
       "      <td>0.225114</td>\n",
       "      <td>0.135371</td>\n",
       "      <td>0.569428</td>\n",
       "      <td>435.253333</td>\n",
       "    </tr>\n",
       "    <tr>\n",
       "      <th>4</th>\n",
       "      <td>Connecticut</td>\n",
       "      <td>5</td>\n",
       "      <td>1</td>\n",
       "      <td>-72.611298</td>\n",
       "      <td>41.959</td>\n",
       "      <td>25078.300781</td>\n",
       "      <td>1.079975</td>\n",
       "      <td>1260.057129</td>\n",
       "      <td>25.616667</td>\n",
       "      <td>406.016667</td>\n",
       "      <td>...</td>\n",
       "      <td>0.001469</td>\n",
       "      <td>236.099400</td>\n",
       "      <td>12.410309</td>\n",
       "      <td>515.403333</td>\n",
       "      <td>821.447783</td>\n",
       "      <td>10.945707</td>\n",
       "      <td>0.225114</td>\n",
       "      <td>0.113845</td>\n",
       "      <td>0.471288</td>\n",
       "      <td>334.273333</td>\n",
       "    </tr>\n",
       "  </tbody>\n",
       "</table>\n",
       "<p>5 rows × 21 columns</p>\n",
       "</div>"
      ],
      "text/plain": [
       "         river  day  reach        lon     lat       flowacc  sinuosity  \\\n",
       "0  Connecticut    1      1 -72.611298  41.959  25078.300781   1.079975   \n",
       "1  Connecticut    2      1 -72.611298  41.959  25078.300781   1.079975   \n",
       "2  Connecticut    3      1 -72.611298  41.959  25078.300781   1.079975   \n",
       "3  Connecticut    4      1 -72.611298  41.959  25078.300781   1.079975   \n",
       "4  Connecticut    5      1 -72.611298  41.959  25078.300781   1.079975   \n",
       "\n",
       "     meandwave     height           W  ...         S          dA          K  \\\n",
       "0  1260.057129  26.306667  475.403333  ...  0.001768  541.200050  12.808404   \n",
       "1  1260.057129  25.960000  443.906667  ...  0.001606  381.870528  12.586607   \n",
       "2  1260.057129  25.810000  427.006667  ...  0.001539  316.600322  12.513133   \n",
       "3  1260.057129  25.776667  423.786667  ...  0.001521  302.424628  12.499948   \n",
       "4  1260.057129  25.616667  406.016667  ...  0.001469  236.099400  12.410309   \n",
       "\n",
       "           A0        Abar      alpha      beta        Fr         U           Q  \n",
       "0  515.403333  821.447783  10.945707  0.225114  0.217360  0.965178  922.263333  \n",
       "1  515.403333  821.447783  10.945707  0.225114  0.165027  0.704906  581.980000  \n",
       "2  515.403333  821.447783  10.945707  0.225114  0.141175  0.595232  460.586667  \n",
       "3  515.403333  821.447783  10.945707  0.225114  0.135371  0.569428  435.253333  \n",
       "4  515.403333  821.447783  10.945707  0.225114  0.113845  0.471288  334.273333  \n",
       "\n",
       "[5 rows x 21 columns]"
      ]
     },
     "execution_count": 5,
     "metadata": {},
     "output_type": "execute_result"
    }
   ],
   "source": [
    "data.head()"
   ]
  },
  {
   "cell_type": "markdown",
   "metadata": {},
   "source": [
    "# Computation of $\\alpha$ and $\\beta$ Strickler power law parameters using the Low-Froude model"
   ]
  },
  {
   "cell_type": "code",
   "execution_count": 7,
   "metadata": {},
   "outputs": [],
   "source": [
    "# Get data for GaronneUpstream river section\n",
    "river_data = data[data[\"river\"] == \"Connecticut\"]"
   ]
  },
  {
   "cell_type": "code",
   "execution_count": 8,
   "metadata": {},
   "outputs": [],
   "source": [
    "# Get data for 1st reach of GaronneUpstream river section\n",
    "reach_data = river_data[river_data[\"reach\"] == 1]"
   ]
  },
  {
   "cell_type": "code",
   "execution_count": 9,
   "metadata": {},
   "outputs": [],
   "source": [
    "# Get variables and compute terms in Low-Froude equation (r=1 in this case)\n",
    "A0r = reach_data[\"A0\"]\n",
    "dArp = reach_data[\"dA\"]\n",
    "Qrp = reach_data[\"Q\"]\n",
    "Srp = reach_data[\"S\"]\n",
    "Wrp = reach_data[\"W\"]\n",
    "Zrp = reach_data[\"height\"]\n",
    "Zr0 = np.min(Zrp)\n",
    "Wr0 = np.min(Wrp)\n",
    "c1rp = Wrp**(-2./5.) * Srp**(3./10.)\n",
    "c2rp = c1rp * dArp\n",
    "c3rp = (Zrp - Zr0)\n",
    "c4r = 1.0 / Wr0"
   ]
  },
  {
   "cell_type": "markdown",
   "metadata": {},
   "source": [
    "Rewriting the Low-Froude equation as:\n",
    "$\\frac{Q^{3/5}}{c^{(1)}_{r,p} A_{0,r} + c^{(2)}_{r,p}} = \\alpha_r^{3/5} \\left( c^{(4)}_{r,p} A_{0,r} + c^{(3)}_{r,p} \\right)^{3/5 \\beta_r}$\n",
    "<br>\n",
    "And setting $x=\\left( c^{(4)}_{r,p} A_{0,r} + c^{(3)}_{r,p} \\right)$, $y=\\frac{Q^{3/5}}{c^{(1)}_{r,p} A_{0,r} + c^{(2)}_{r,p}}$, $a=\\alpha_r^{3/5}$ and $b=3/5 \\beta_r$,\n",
    "The Low-Froude equation is then: $y=a x^b$\n",
    "<br>\n",
    "It is then easy to find a and b, using a linear regression between $\\ln(y)$ and $\\ln(x)$ and consequently the values of $\\alpha$ and $\\beta$\n"
   ]
  },
  {
   "cell_type": "code",
   "execution_count": 10,
   "metadata": {},
   "outputs": [
    {
     "name": "stdout",
     "output_type": "stream",
     "text": [
      "alpha= 0.987284391195017\n",
      "beta = 2.0935261904769273\n"
     ]
    }
   ],
   "source": [
    "# Compute linear regression between log(x) and log(y)\n",
    "x = c4r * A0r + c3rp\n",
    "y = Qrp**(3./5.) / (c1rp * A0r + c2rp)\n",
    "res = linregress(np.log(x), np.log(y))\n",
    "                 \n",
    "# Compute alpha and beta\n",
    "a = res.slope\n",
    "b = res.intercept\n",
    "alpha = np.exp(b)**(5./3.)\n",
    "beta = a * 5. / 3.\n",
    "print(\"alpha=\", alpha)\n",
    "print(\"beta =\", beta)"
   ]
  },
  {
   "cell_type": "code",
   "execution_count": 11,
   "metadata": {},
   "outputs": [
    {
     "data": {
      "text/plain": [
       "[<matplotlib.lines.Line2D at 0x21114a0cbb0>]"
      ]
     },
     "execution_count": 11,
     "metadata": {},
     "output_type": "execute_result"
    },
    {
     "data": {
      "image/png": "[encoded data removed]",
      "text/plain": [
       "<Figure size 432x288 with 1 Axes>"
      ]
     },
     "metadata": {
      "needs_background": "light"
     },
     "output_type": "display_data"
    }
   ],
   "source": [
    "# Check our estimation using the Low-Froude model and computed values of alpha and beta\n",
    "Qest = (alpha**(3./5.) * (c1rp * A0r + c2rp) * (c4r * A0r + c3rp)**(3./5. * beta))**(5./3.)\n",
    "plt.plot(Qrp, 'r.')\n",
    "plt.plot(Qest, 'b-')"
   ]
  },
  {
   "cell_type": "markdown",
   "metadata": {},
   "source": [
    "# Useful metrics"
   ]
  },
  {
   "cell_type": "markdown",
   "metadata": {},
   "source": [
    "## Standard metrics"
   ]
  },
  {
   "cell_type": "markdown",
   "metadata": {},
   "source": [
    "- Pearson correlation coefficient $R2(y) = \\frac{\\sum_{i=1}^{n}(y^{est}_i - \\bar y^{est}) (y^{obs}_i - \\bar y^{obs})} {\\left(\\sum_{i=1}^{n}(y^{est}_i - \\bar y^{est})^2\\right)^{1/2}\\left(\\sum_{i=1}^{n}(y^{obs}_i - \\bar y^{obs})^2\\right)^{1/2}}$\n",
    "<br>\n",
    "<br>\n",
    "- Root Mean Square Error $RMSE(y) = \\sqrt {\\frac{1}{n} \\left( \\sum^n_{i=1}(y^{est}_i - y^{obs}_i)^2 \\right)}$\n",
    "<br>\n",
    "<br>"
   ]
  },
  {
   "cell_type": "markdown",
   "metadata": {},
   "source": [
    "## Other useful metrics in hydrology (hence for discharge values mainly/only)"
   ]
  },
  {
   "cell_type": "markdown",
   "metadata": {
    "scrolled": false
   },
   "source": [
    "- Normalized Root Mean Square Error $nRMSE(y) = \\frac{RMSE(y)} {\\bar y^{obs}}$\n",
    "<br>\n",
    "<br>\n",
    "- Nash-Sutcliffe model Efficiency $NSE(y) = 1 - \\frac{\\sum^n_{i=1}(y^{est}_i - y^{obs}_i)^2} {\\sum^n_{i=1}(y^{obs}_i - \\bar y^{obs})^2}$\n",
    "<br>\n",
    "<br>\n",
    "- Kling-Gupta model Efficiency $KGE(y) = 1 - \\sqrt {(\\beta_{KG}-1)^2+(\\alpha_{KG}-1)^2+(R^2-1)^2}$, with $\\beta_{KG}=\\frac{\\bar y^{est}}{\\bar y^{obs}}$ and $\\alpha_{KG} = \\frac{\\sigma(y^{est})}{\\sigma(y^{obs})}$"
   ]
  }
 ],
 "metadata": {
  "kernelspec": {
   "display_name": "Python 3",
   "language": "python",
   "name": "python3"
  },
  "language_info": {
   "codemirror_mode": {
    "name": "ipython",
    "version": 3
   },
   "file_extension": ".py",
   "mimetype": "text/x-python",
   "name": "python",
   "nbconvert_exporter": "python",
   "pygments_lexer": "ipython3",
   "version": "3.8.5"
  }
 },
 "nbformat": 4,
 "nbformat_minor": 2
}
